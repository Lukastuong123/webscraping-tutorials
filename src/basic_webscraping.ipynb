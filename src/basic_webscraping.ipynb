{
 "cells": [
  {
   "cell_type": "markdown",
   "metadata": {},
   "source": [
    "# This tutorial will show you how to scrape the web using Python"
   ]
  },
  {
   "cell_type": "markdown",
   "metadata": {},
   "source": [
    "## The task is to get information about every faculty member in sociology from their department profiles. We must begin with a base URL from which we can access the profiles"
   ]
  },
  {
   "cell_type": "code",
   "execution_count": 1,
   "metadata": {
    "collapsed": true
   },
   "outputs": [],
   "source": [
    "URL = \"http://www.soc.cornell.edu/people/faculty/\""
   ]
  },
  {
   "cell_type": "markdown",
   "metadata": {},
   "source": [
    "## There are a couple of packages we need to import"
   ]
  },
  {
   "cell_type": "code",
   "execution_count": 2,
   "metadata": {
    "collapsed": true
   },
   "outputs": [],
   "source": [
    "import requests\n",
    "from bs4 import BeautifulSoup as BS"
   ]
  },
  {
   "cell_type": "code",
   "execution_count": 3,
   "metadata": {
    "collapsed": true
   },
   "outputs": [],
   "source": [
    "html = requests.get(URL)"
   ]
  },
  {
   "cell_type": "code",
   "execution_count": 5,
   "metadata": {
    "collapsed": false
   },
   "outputs": [
    {
     "data": {
      "text/plain": [
       "b'<!DOCTYPE html>\\n<!--[if IE 7]>\\n<html class=\"ie ie7\" lang=\"en-US\">\\n<![endif]-->\\n<!--[if IE 8]>\\n<html class=\"ie ie8\" lang=\"en-US\">\\n<![endif]-->\\n<!--[if IE 9]>\\n<html class=\"ie ie9\" lang=\"en-US\">\\n<![endif]-->\\n<!--[if !(IE 7) | !(IE 8) | !(IE 9)  ]><!-->\\n<html lang=\"en-US\">\\n<!--<![endif]-->\\n    <head>\\n        <meta charset=\"UTF-8\">\\n        <title>Faculty | Department of Sociology</title>\\n        <meta name=\"viewport\" content=\"width=device-width, initial-scale=1, maximum-scale=5\">\\n        <meta http-equiv=\"X-UA-Compatible\" content=\"IE=Edge\">\\n        <link rel=\"profile\" href=\"http://gmpg.org/xfn/11\">\\n        <link rel=\"pingback\" href=\"http://www.soc.cornell.edu/xmlrpc.php\">\\n        \\n        <!-- CU Typekit fonts -->\\n        <script type=\"text/javascript\" src=\"//use.typekit.net/gog6dck.js\"></script>\\n        <script type=\"text/javascript\">try{Typekit.load();}catch(e){}</script>\\n        \\n        \\n        <link rel=\"stylesheet\" type=\"text/css\" media=\"print\" href=\"http://www.soc.cornell.edu/wp-content/themes/cornell_base/style/print.css\" />\\n        <!--[if lt IE 9]>\\n            <link rel=\"stylesheet\" type=\"text/css\" media=\"screen\" href=\"http://www.soc.cornell.edu/wp-content/themes/cornell_base/style/ie.css\" />\\n            <script src=\"http://www.soc.cornell.edu/wp-content/themes/cornell_base/js/html5.js\"></script>\\n        <![endif]-->\\n        <!--[if gte IE 9]>\\n          <style type=\"text/css\">\\n            .gradient {\\n               filter: none;\\n            }\\n          </style>\\n        <![endif]-->\\n        \\n        <script type=\"text/javascript\">window.jQuery || document.write(\\'<script src=\"http://www.soc.cornell.edu/wp-content/themes/cornell_base/js/jquery-1.9.1.min.js\">\\\\x3C/script><script src=\"http://www.soc.cornell.edu/wp-content/themes/cornell_base/js/jquery-migrate-1.1.1.min.js\">\\\\x3C/script>\\')</script>\\n        <script type=\"text/javascript\" src=\"http://www.soc.cornell.edu/wp-content/themes/cornell_base/js/modernizr.js\"></script>\\n        <script type=\"text/javascript\" src=\"http://www.soc.cornell.edu/wp-content/themes/cornell_base/js/layout.engine.min.js\"></script><!-- target specific browsers -->\\n        <script type=\"text/javascript\" src=\"http://www.soc.cornell.edu/wp-content/themes/cornell_base/js/jquery.fitvids.js\"></script>\\n        <script type=\"text/javascript\" src=\"http://www.soc.cornell.edu/wp-content/themes/cornell_base/js/jquery.matchHeight.js\"></script>\\n        <script type=\"text/javascript\" src=\"http://www.soc.cornell.edu/wp-content/themes/cornell_base/js/framework/iws.js\"></script>\\n        <!--<script src=\"http://www.soc.cornell.edu/wp-content/themes/cornell_base/js/framework/iws_rotator.js\"></script>-->\\n        <!-- Initialize -->\\n        <script type=\"text/javascript\">\\n\\t\\t\\tvar js_path = \"http://www.soc.cornell.edu/wp-content/themes/cornell_base/js/framework/\";\\n            iws_init();\\n        </script>\\n        \\n        \\n        <link rel=\"alternate\" type=\"application/rss+xml\" title=\"Department of Sociology &raquo; Feed\" href=\"http://www.soc.cornell.edu/feed/\" />\\n<link rel=\"alternate\" type=\"application/rss+xml\" title=\"Department of Sociology &raquo; Comments Feed\" href=\"http://www.soc.cornell.edu/comments/feed/\" />\\n\\t\\t<script type=\"text/javascript\">\\n\\t\\t\\twindow._wpemojiSettings = {\"baseUrl\":\"https:\\\\/\\\\/s.w.org\\\\/images\\\\/core\\\\/emoji\\\\/72x72\\\\/\",\"ext\":\".png\",\"source\":{\"concatemoji\":\"http:\\\\/\\\\/blogs.cornell.edu\\\\/socy\\\\/wp-includes\\\\/js\\\\/wp-emoji-release.min.js?ver=4.4.5\"}};\\n\\t\\t\\t!function(a,b,c){function d(a){var c,d,e,f=b.createElement(\"canvas\"),g=f.getContext&&f.getContext(\"2d\"),h=String.fromCharCode;return g&&g.fillText?(g.textBaseline=\"top\",g.font=\"600 32px Arial\",\"flag\"===a?(g.fillText(h(55356,56806,55356,56826),0,0),f.toDataURL().length>3e3):\"diversity\"===a?(g.fillText(h(55356,57221),0,0),c=g.getImageData(16,16,1,1).data,g.fillText(h(55356,57221,55356,57343),0,0),c=g.getImageData(16,16,1,1).data,e=c[0]+\",\"+c[1]+\",\"+c[2]+\",\"+c[3],d!==e):(\"simple\"===a?g.fillText(h(55357,56835),0,0):g.fillText(h(55356,57135),0,0),0!==g.getImageData(16,16,1,1).data[0])):!1}function e(a){var c=b.createElement(\"script\");c.src=a,c.type=\"text/javascript\",b.getElementsByTagName(\"head\")[0].appendChild(c)}var f,g;c.supports={simple:d(\"simple\"),flag:d(\"flag\"),unicode8:d(\"unicode8\"),diversity:d(\"diversity\")},c.DOMReady=!1,c.readyCallback=function(){c.DOMReady=!0},c.supports.simple&&c.supports.flag&&c.supports.unicode8&&c.supports.diversity||(g=function(){c.readyCallback()},b.addEventListener?(b.addEventListener(\"DOMContentLoaded\",g,!1),a.addEventListener(\"load\",g,!1)):(a.attachEvent(\"onload\",g),b.attachEvent(\"onreadystatechange\",function(){\"complete\"===b.readyState&&c.readyCallback()})),f=c.source||{},f.concatemoji?e(f.concatemoji):f.wpemoji&&f.twemoji&&(e(f.twemoji),e(f.wpemoji)))}(window,document,window._wpemojiSettings);\\n\\t\\t</script>\\n\\t\\t<style type=\"text/css\">\\nimg.wp-smiley,\\nimg.emoji {\\n\\tdisplay: inline !important;\\n\\tborder: none !important;\\n\\tbox-shadow: none !important;\\n\\theight: 1em !important;\\n\\twidth: 1em !important;\\n\\tmargin: 0 .07em !important;\\n\\tvertical-align: -0.1em !important;\\n\\tbackground: none !important;\\n\\tpadding: 0 !important;\\n}\\n</style>\\n<link rel=\\'stylesheet\\' id=\\'campus-public-styles-css\\'  href=\\'http://www.soc.cornell.edu/wp-content/mu-plugins/campus-files/css/campus-public.css?ver=8\\' type=\\'text/css\\' media=\\'all\\' />\\n<link rel=\\'stylesheet\\' id=\\'live-stream-style-css\\'  href=\\'http://www.soc.cornell.edu/wp-content/plugins/live-stream-widget/css/live-stream-style.css?ver=4.4.5\\' type=\\'text/css\\' media=\\'all\\' />\\n<link rel=\\'stylesheet\\' id=\\'cornell_base-style-css\\'  href=\\'http://www.soc.cornell.edu/wp-content/themes/cornell_base/style.css?ver=2013-07-18\\' type=\\'text/css\\' media=\\'all\\' />\\n<link rel=\\'stylesheet\\' id=\\'subscribe-by-email-widget-css-css\\'  href=\\'http://www.soc.cornell.edu/wp-content/mu-plugins/subscribe-by-email/assets/css/widget.css?ver=20131002\\' type=\\'text/css\\' media=\\'all\\' />\\n<link rel=\\'stylesheet\\' id=\\'tw-recent-posts-widget-css\\'  href=\\'http://www.soc.cornell.edu/wp-content/plugins/www-data/blogs.cornell.edu/wp-content/themes/cornell_base/tw-recent-posts-widget.css?ver=1.0.5\\' type=\\'text/css\\' media=\\'screen\\' />\\n<script type=\\'text/javascript\\' src=\\'http://www.soc.cornell.edu/wp-includes/js/jquery/jquery.js?ver=1.11.3\\'></script>\\n<script type=\\'text/javascript\\' src=\\'http://www.soc.cornell.edu/wp-includes/js/jquery/jquery-migrate.min.js?ver=1.2.1\\'></script>\\n<script type=\\'text/javascript\\'>\\n/* <![CDATA[ */\\nvar live_stream_data = {\"ajaxurl\":\"http:\\\\/\\\\/www.soc.cornell.edu\\\\/wp-admin\\\\/admin-ajax.php\"};\\n/* ]]> */\\n</script>\\n<script type=\\'text/javascript\\' src=\\'http://www.soc.cornell.edu/wp-content/plugins/live-stream-widget/js/live-stream.js?ver=4.4.5\\'></script>\\n<link rel=\\'https://api.w.org/\\' href=\\'http://www.soc.cornell.edu/wp-json/\\' />\\n<link rel=\"EditURI\" type=\"application/rsd+xml\" title=\"RSD\" href=\"https://www.soc.cornell.edu/xmlrpc.php?rsd\" />\\n<link rel=\"wlwmanifest\" type=\"application/wlwmanifest+xml\" href=\"http://blogs.cornell.edu/socy/wp-includes/wlwmanifest.xml\" /> \\n<meta name=\"generator\" content=\"Cornell Blog Service\" />\\n\\n<link rel=\"canonical\" href=\"http://www.soc.cornell.edu/people/faculty/\" />\\n<link rel=\\'shortlink\\' href=\\'http://www.soc.cornell.edu/?p=463\\' />\\n<link rel=\"alternate\" type=\"application/json+oembed\" href=\"http://www.soc.cornell.edu/wp-json/oembed/1.0/embed?url=http%3A%2F%2Fwww.soc.cornell.edu%2Fpeople%2Ffaculty%2F\" />\\n<link rel=\"alternate\" type=\"text/xml+oembed\" href=\"http://www.soc.cornell.edu/wp-json/oembed/1.0/embed?url=http%3A%2F%2Fwww.soc.cornell.edu%2Fpeople%2Ffaculty%2F&#038;format=xml\" />\\n\\t\\t\\t<script type=\"text/javascript\">\\n\\t\\t\\t\\tvar _gaq = _gaq || [];\\n\\n\\t\\t\\t\\t\\t\\t\\t\\t\\t_gaq.push([\\'_setAccount\\', \\'UA-1215061-35\\']);\\n\\t\\t\\t\\t\\t\\t\\t\\t\\t\\t\\t\\t\\t\\t\\t\\t\\t\\t_gaq.push([\\'_setDomainName\\', \\'none\\']);\\n\\t\\t\\t\\t\\t\\t\\t_gaq.push([\\'_setAllowLinker\\', true]);\\n\\t\\t\\t\\t\\t\\t\\t\\t\\t\\t\\t\\t_gaq.push([\\'_setAllowHash\\', false]);\\n\\t\\t\\t\\t\\t                    \\t\\t\\t\\t\\t_gaq.push([\\'_trackPageview\\']);\\n\\t\\t\\t\\t\\n\\t\\t\\t\\t\\n\\t\\t\\t\\t(function() {\\n\\t\\t\\t\\tvar ga = document.createElement(\\'script\\'); ga.type = \\'text/javascript\\'; ga.async = true;\\n                \\t\\t\\t\\t    ga.src = (\\'https:\\' == document.location.protocol ? \\'https://ssl\\' : \\'http://www\\') + \\'.google-analytics.com/ga.js\\';\\n                \\t\\t\\t\\tvar s = document.getElementsByTagName(\\'script\\')[0]; s.parentNode.insertBefore(ga, s);\\n\\t\\t\\t\\t})();\\n\\t\\t\\t</script>\\n\\n        <style type=\"text/css\">\\n    .calnk a:hover {\\r\\n         background-position:0 0;\\r\\n         text-decoration:none;  \\r\\n         color:#000000;\\r\\n         border-bottom:1px dotted #000000;\\r\\n         }\\r\\n    .calnk a:visited {\\r\\n         text-decoration:none;\\r\\n         color:#000000;\\r\\n         border-bottom:1px dotted #000000;\\r\\n        }\\r\\n    .calnk a {\\r\\n        text-decoration:none; \\r\\n        color:#000000; \\r\\n        border-bottom:1px dotted #000000;\\r\\n        }\\r\\n    .calnk a span { \\r\\n        display:none; \\r\\n        }\\r\\n    .calnk a:hover span {\\r\\n        color:#333333; \\r\\n        background:#f4f1ed; \\r\\n        display:block;\\r\\n        position:absolute; \\r\\n        margin-top:1px; \\r\\n        padding:5px; \\r\\n        width:150px; \\r\\n        z-index:100;\\r\\n        line-height:1.2em;\\r\\n        }\\r\\n     .calendar-table {\\r\\n        border:none;\\r\\n        width:100%;\\r\\n     }\\r\\n     .calendar-heading {\\r\\n        height:25px;\\r\\n        text-align:center;\\r\\n        border:1px solid #D6DED5;\\r\\n        background-color:#D3D3D3;\\r\\n     }\\r\\n     .calendar-next {\\r\\n        width:25%;\\r\\n        text-align:center;\\r\\n     }\\r\\n     .calendar-prev {\\r\\n        width:25%;\\r\\n        text-align:center;\\r\\n     }\\r\\n     .calendar-month {\\r\\n        width:60%;\\r\\n        text-align:center;\\r\\n        font-weight:bold;\\r\\n     }\\r\\n     .normal-day-heading {\\r\\n        text-align:center;\\r\\n        width:25px;\\r\\n        height:25px;\\r\\n        font-size:0.8em;\\r\\n        border:1px solid #DFE6DE;\\r\\n        background-color:#D3D3D3;\\r\\n     }\\r\\n     .weekend-heading {\\r\\n        text-align:center;\\r\\n        width:25px;\\r\\n        height:25px;\\r\\n        font-size:0.8em;\\r\\n        border:1px solid #DFE6DE;\\r\\n        background-color:#D8D2C9;\\r\\n        color:#222222;\\r\\n     }\\r\\n     .day-with-date {\\r\\n        vertical-align:text-top;\\r\\n        text-align:left;\\r\\n        width:60px;\\r\\n        height:60px;\\r\\n        border:1px solid #DFE6DE;\\r\\n     }\\r\\n     .no-events {\\r\\n\\r\\n     }\\r\\n     .day-without-date {\\r\\n        width:60px;\\r\\n        height:60px;\\r\\n        border:1px solid #E9F0E8;\\r\\n     }\\r\\n     span.weekend {\\r\\n        color:#a2998b;\\r\\n     }\\r\\n     .current-day {\\r\\n        vertical-align:text-top;\\r\\n        text-align:left;\\r\\n        width:60px;\\r\\n        height:60px;\\r\\n        border:1px solid #B31B1B;\\r\\n        background-color:#89CCE2;\\r\\n     }\\r\\n     span.event {\\r\\n        font-size:0.75em;\\r\\n     }\\r\\n     .kjo-link {\\r\\n        font-size:0.75em;\\r\\n        text-align:center;\\r\\n     }\\r\\n     .calendar-date-switcher {\\r\\n        height:25px;\\r\\n        text-align:center;\\r\\n        border:1px solid #D6DED5;\\r\\n        background-color:#E4EBE3;\\r\\n     }\\r\\n     .calendar-date-switcher form {\\r\\n        margin:0;\\r\\n        padding:0;\\r\\n     }\\r\\n     .calendar-date-switcher input {\\r\\n        border:1px #D6DED5 solid;\\r\\n     }\\r\\n     .calendar-date-switcher select {\\r\\n        border:1px #D6DED5 solid;\\r\\n     }\\r\\n     .cat-key {\\r\\n        width:100%;\\r\\n        margin-top:10px;\\r\\n        padding:5px;\\r\\n        border:1px solid #D6DED5;\\r\\n     }\\r\\n     .calnk a:hover span span.event-title {\\r\\n        padding:0;\\r\\n        text-align:center;\\r\\n        font-weight:bold;\\r\\n        font-size:1.2em;\\r\\n        }\\r\\n     .calnk a:hover span span.event-title-break {\\r\\n        width:96%;\\r\\n        text-align:center;\\r\\n        height:1px;\\r\\n        margin-top:5px;\\r\\n        margin-right:2%;\\r\\n        padding:0;\\r\\n        background-color:#000000;\\r\\n     }\\r\\n     .calnk a:hover span span.event-content-break {\\r\\n        width:96%;\\r\\n        text-align:center;\\r\\n        height:1px;\\r\\n        margin-top:5px;\\r\\n        margin-right:2%;\\r\\n        padding:0;\\r\\n        background-color:#000000;\\r\\n     }\\r\\n     .page-upcoming-events {\\r\\n        font-size:80%;\\r\\n     }\\r\\n     .page-todays-events {\\r\\n        font-size:80%;\\r\\n     }\\n</style>\\n<link rel=\"shortcut icon\" href=\"https://s3-external-1.amazonaws.com/files.campus.edublogs.org/blogs.cornell.edu/dist/favicon/favicon.png\" /><style type=\"text/css\">\\n/* <![CDATA[ */\\nimg.latex { vertical-align: middle; border: none; }\\n/* ]]> */\\n</style>\\n\\n<!-- Dynamic Widgets by QURL - http://www.qurl.nl //-->\\n\\t<style type=\"text/css\" id=\"cornell_base-header-css\">\\n\\t\\t\\t#image-band {\\n\\t\\t\\tfloat: left;\\n\\t\\t\\twidth: 100%;\\n\\t\\t\\tclear: both;\\n\\t\\t\\tposition: relative;\\n\\t\\t\\tbackground: url(http://www.soc.cornell.edu/wp-content/themes/cornell_base/images/headers/header_image_09.jpg) no-repeat 0 0;\\n\\t\\t\\tbackground-position: 0 47.73%;\\t\\t\\t-webkit-background-size: cover;\\n\\t\\t\\t-moz-background-size: cover;\\n\\t\\t\\t-o-background-size: cover;\\n\\t\\t\\tbackground-size: cover !important;\\n\\t\\t}\\n\\n  \\n\\n\\t</style>\\n    \\n    \\n    </head>\\n    \\n    <body class=\"page page-id-463 page-parent page-child parent-pageid-53 page-template-default singlecolumnblog sidebar_left twocolumn single-author no-avatars secondary\">\\n    <div id=\"skipnav\"><a href=\"#content\">Skip to main content</a></div>\\n        <div id=\"search-box\">\\n          <div id=\"search-box-content\">\\n            <div id=\"cu-search\" class=\"options\">\\n              <form method=\"get\" action=\"http://www.soc.cornell.edu/\">\\n                <div id=\"search-form\">\\n                  <label for=\"search-form-query\">SEARCH:</label>\\n                  <input type=\"hidden\" name=\"cx\" value=\"011895235015245787991:gf_zlivn_9i\" />\\n                  <input type=\"hidden\" name=\"cof\" value=\"FORID:11\" />\\n                  <input type=\"hidden\" name=\"ie\" value=\"UTF-8\" />\\n                  <input type=\"text\" id=\"search-form-query\" name=\"s\" value=\"\" size=\"20\" />\\n                  <input type=\"submit\" id=\"search-form-submit\" name=\"btnG\" value=\"go\" />\\n                  <div id=\"search-filters\">\\n                    <input type=\"radio\" id=\"search-filters1\" name=\"sitesearch\" value=\"thissite\" checked=\"checked\" />\\n                    <label for=\"search-filters1\">This Site</label>\\n                    <input type=\"radio\" id=\"search-filters2\" name=\"sitesearch\" value=\"cornell\" />\\n                    <label for=\"search-filters2\">Cornell</label>\\n                    <a href=\"http://www.cornell.edu/search/\" title=\"more options\">more options</a> </div>\\n                </div>\\n              </form>\\n            </div>\\n          </div><!-- #search-box-content -->\\n        </div><!-- #search-box -->\\n\\n        <div id=\"cu-identity\" class=\"theme_white75 tagline\">\\n            <div id=\"cu-identity-content\">\\n                <div id=\"cu-brand-wrapper\">\\n                    <div id=\"cu-brand\">\\n                         <!-- large insignia layout -->\\n                        <div id=\"search-button\">\\n                            <p><a href=\"#\" title=\"Search This Site\">Search This Site</a></p>\\n                        </div>\\n                        <div id=\"navigation-bar\">\\n                            <div id=\"navigation-wrap\">\\n                                <div id=\"navigation\">\\n                                    <h3><em>menu</em></h3><!-- mobile drop down navigation -->\\n                                    <div class=\"menu-main-menu-container\"><ul id=\"menu-main-menu\" class=\"main nav-menu\"><li id=\"menu-item-7\" class=\"menu-item menu-item-type-custom menu-item-object-custom menu-item-7\"><a href=\"http://blogs.cornell.edu/socy/\">Home</a></li>\\n<li id=\"menu-item-66\" class=\"menu-item menu-item-type-post_type menu-item-object-page current-page-ancestor current-menu-ancestor current-menu-parent current-custom-parent current_page_parent current_page_ancestor menu-item-has-children menu-item-66\"><a href=\"http://www.soc.cornell.edu/people/\">People</a>\\n<div class=\\'nav-arrow closed\\'></div><ul class=\"sub-menu closed\">\\n\\t<li id=\"menu-item-479\" class=\"menu-item menu-item-type-post_type menu-item-object-page current-menu-item page_item page-item-463 current_page_item menu-item-479\"><a href=\"http://www.soc.cornell.edu/people/faculty/\">Faculty and Field</a></li>\\n\\t<li id=\"menu-item-1908\" class=\"menu-item menu-item-type-custom menu-item-object-custom current-menu-item menu-item-1908\"><a href=\"http://www.soc.cornell.edu/people/faculty#post-docs\">Postdoctoral Fellows</a></li>\\n\\t<li id=\"menu-item-95\" class=\"menu-item menu-item-type-post_type menu-item-object-page menu-item-95\"><a href=\"http://www.soc.cornell.edu/people/gradstudents/\">Graduate Students</a></li>\\n\\t<li id=\"menu-item-94\" class=\"menu-item menu-item-type-post_type menu-item-object-page menu-item-94\"><a href=\"http://www.soc.cornell.edu/people/phds-on-the-market/\">PhDs on the Market</a></li>\\n\\t<li id=\"menu-item-1587\" class=\"menu-item menu-item-type-post_type menu-item-object-page menu-item-1587\"><a href=\"http://www.soc.cornell.edu/people/job-openings/\">Job Openings</a></li>\\n\\t<li id=\"menu-item-96\" class=\"menu-item menu-item-type-post_type menu-item-object-page menu-item-96\"><a href=\"http://www.soc.cornell.edu/people/staff/\">Staff</a></li>\\n</ul>\\n</li>\\n<li id=\"menu-item-1882\" class=\"menu-item menu-item-type-custom menu-item-object-custom menu-item-has-children menu-item-1882\"><a href=\"http://blogs.cornell.edu/socy/events\">Events</a>\\n<div class=\\'nav-arrow closed\\'></div><ul class=\"sub-menu closed\">\\n\\t<li id=\"menu-item-1884\" class=\"menu-item menu-item-type-custom menu-item-object-custom menu-item-has-children menu-item-1884\"><a href=\"http://blogs.cornell.edu/socy/events/\">Department Events</a>\\n\\t<div class=\\'nav-arrow closed\\'></div><ul class=\"sub-menu closed\">\\n\\t\\t<li id=\"menu-item-1886\" class=\"menu-item menu-item-type-custom menu-item-object-custom menu-item-1886\"><a href=\"http://blogs.cornell.edu/socy/events/\">Department Events &#8211; Current</a></li>\\n\\t\\t<li id=\"menu-item-1830\" class=\"menu-item menu-item-type-post_type menu-item-object-page menu-item-1830\"><a href=\"http://www.soc.cornell.edu/events/sociology-events-2015-16/\">Sociology Events 2015-16</a></li>\\n\\t\\t<li id=\"menu-item-1431\" class=\"menu-item menu-item-type-post_type menu-item-object-page menu-item-1431\"><a href=\"http://www.soc.cornell.edu/events/sociology-events-2014-15/\">Sociology Events 2014-15</a></li>\\n\\t</ul>\\n</li>\\n\\t<li id=\"menu-item-133\" class=\"menu-item menu-item-type-custom menu-item-object-custom menu-item-133\"><a href=\"http://inequality.cornell.edu/csi-events/\">CSI Events</a></li>\\n\\t<li id=\"menu-item-132\" class=\"menu-item menu-item-type-custom menu-item-object-custom menu-item-132\"><a href=\"http://www.economyandsociety.org/events/\">CSES Events</a></li>\\n</ul>\\n</li>\\n<li id=\"menu-item-64\" class=\"menu-item menu-item-type-post_type menu-item-object-page menu-item-has-children menu-item-64\"><a href=\"http://www.soc.cornell.edu/graduate/\">Graduate Program</a>\\n<div class=\\'nav-arrow closed\\'></div><ul class=\"sub-menu closed\">\\n\\t<li id=\"menu-item-959\" class=\"menu-item menu-item-type-post_type menu-item-object-page menu-item-959\"><a href=\"http://www.soc.cornell.edu/graduate/\">Introduction to the Graduate Program</a></li>\\n\\t<li id=\"menu-item-202\" class=\"menu-item menu-item-type-post_type menu-item-object-page menu-item-202\"><a href=\"http://www.soc.cornell.edu/graduate/whos-who/\">Who&#8217;s Who in the Graduate Program</a></li>\\n\\t<li id=\"menu-item-201\" class=\"menu-item menu-item-type-post_type menu-item-object-page menu-item-201\"><a href=\"http://www.soc.cornell.edu/graduate/grad-program/\">Program Requirements</a></li>\\n\\t<li id=\"menu-item-200\" class=\"menu-item menu-item-type-post_type menu-item-object-page menu-item-200\"><a href=\"http://www.soc.cornell.edu/graduate/grad-funding/\">Funding for Graduate Studies</a></li>\\n\\t<li id=\"menu-item-199\" class=\"menu-item menu-item-type-post_type menu-item-object-page menu-item-199\"><a href=\"http://www.soc.cornell.edu/graduate/admissions/\">Admissions Procedures</a></li>\\n\\t<li id=\"menu-item-198\" class=\"menu-item menu-item-type-post_type menu-item-object-page menu-item-198\"><a href=\"http://www.soc.cornell.edu/graduate/placement/\">Recent Placements</a></li>\\n\\t<li id=\"menu-item-197\" class=\"menu-item menu-item-type-post_type menu-item-object-page menu-item-197\"><a href=\"http://www.soc.cornell.edu/graduate/awards/\">Awards and Accomplishments</a></li>\\n\\t<li id=\"menu-item-204\" class=\"menu-item menu-item-type-custom menu-item-object-custom menu-item-204\"><a href=\"http://people.soc.cornell.edu/files/courses/soc-courses-2016-2017.pdf\">2016-17 Sociology Course List</a></li>\\n\\t<li id=\"menu-item-205\" class=\"menu-item menu-item-type-custom menu-item-object-custom menu-item-205\"><a href=\"http://courses.cornell.edu/preview_program.php?catoid=28&#038;poid=13976\">2016-17 Course Descriptions</a></li>\\n\\t<li id=\"menu-item-206\" class=\"menu-item menu-item-type-custom menu-item-object-custom menu-item-206\"><a href=\"https://classes.cornell.edu/browse/inbound/subject/SOC\">Course Roster</a></li>\\n</ul>\\n</li>\\n<li id=\"menu-item-1924\" class=\"menu-item menu-item-type-post_type menu-item-object-page menu-item-has-children menu-item-1924\"><a href=\"http://www.soc.cornell.edu/undergrad/what-is-sociology/\">Undergraduate Program</a>\\n<div class=\\'nav-arrow closed\\'></div><ul class=\"sub-menu closed\">\\n\\t<li id=\"menu-item-235\" class=\"menu-item menu-item-type-post_type menu-item-object-page menu-item-235\"><a href=\"http://www.soc.cornell.edu/undergrad/what-is-sociology/\">What is Sociology?</a></li>\\n\\t<li id=\"menu-item-751\" class=\"menu-item menu-item-type-post_type menu-item-object-page menu-item-751\"><a href=\"http://www.soc.cornell.edu/undergrad/\">Exploring Sociology at Cornell</a></li>\\n\\t<li id=\"menu-item-234\" class=\"menu-item menu-item-type-post_type menu-item-object-page menu-item-234\"><a href=\"http://www.soc.cornell.edu/undergrad/why-major/\">Why Major in Sociology?</a></li>\\n\\t<li id=\"menu-item-233\" class=\"menu-item menu-item-type-post_type menu-item-object-page menu-item-233\"><a href=\"http://www.soc.cornell.edu/undergrad/soc-major/\">The Sociology Major</a></li>\\n\\t<li id=\"menu-item-232\" class=\"menu-item menu-item-type-post_type menu-item-object-page menu-item-232\"><a href=\"http://www.soc.cornell.edu/undergrad/honors-program/\">Honors Program</a></li>\\n\\t<li id=\"menu-item-231\" class=\"menu-item menu-item-type-post_type menu-item-object-page menu-item-231\"><a href=\"http://www.soc.cornell.edu/undergrad/awards/\">Undergraduate Awards</a></li>\\n\\t<li id=\"menu-item-230\" class=\"menu-item menu-item-type-post_type menu-item-object-page menu-item-230\"><a href=\"http://www.soc.cornell.edu/undergrad/additional-info/\">Additional Information for Majors</a></li>\\n\\t<li id=\"menu-item-229\" class=\"menu-item menu-item-type-post_type menu-item-object-page menu-item-229\"><a href=\"http://www.soc.cornell.edu/undergrad/transfer-credits/\">Transfer Credits</a></li>\\n\\t<li id=\"menu-item-225\" class=\"menu-item menu-item-type-custom menu-item-object-custom menu-item-225\"><a href=\"http://people.soc.cornell.edu/files/courses/soc-courses-2016-2017.pdf\">2016-17 Sociology Course List</a></li>\\n\\t<li id=\"menu-item-226\" class=\"menu-item menu-item-type-custom menu-item-object-custom menu-item-226\"><a href=\"http://courses.cornell.edu/preview_program.php?catoid=28&#038;poid=13976\">2016-17 Course Descriptions</a></li>\\n\\t<li id=\"menu-item-227\" class=\"menu-item menu-item-type-custom menu-item-object-custom menu-item-227\"><a href=\"https://classes.cornell.edu/browse/inbound/subject/SOC\">Course Roster</a></li>\\n</ul>\\n</li>\\n<li id=\"menu-item-71\" class=\"menu-item menu-item-type-post_type menu-item-object-page menu-item-has-children menu-item-71\"><a href=\"http://www.soc.cornell.edu/research-centers/\">Research Centers</a>\\n<div class=\\'nav-arrow closed\\'></div><ul class=\"sub-menu closed\">\\n\\t<li id=\"menu-item-981\" class=\"menu-item menu-item-type-custom menu-item-object-custom menu-item-981\"><a href=\"http://www.economyandsociety.org/\">Economy and Society</a></li>\\n\\t<li id=\"menu-item-982\" class=\"menu-item menu-item-type-custom menu-item-object-custom menu-item-982\"><a href=\"http://inequality.cornell.edu/\">Inequality</a></li>\\n\\t<li id=\"menu-item-983\" class=\"menu-item menu-item-type-custom menu-item-object-custom menu-item-983\"><a href=\"http://www.einaudi.cornell.edu/\">International Studies</a></li>\\n\\t<li id=\"menu-item-987\" class=\"menu-item menu-item-type-custom menu-item-object-custom menu-item-987\"><a href=\"http://www.bctr.cornell.edu/\">Lifecourse</a></li>\\n\\t<li id=\"menu-item-984\" class=\"menu-item menu-item-type-custom menu-item-object-custom menu-item-984\"><a href=\"http://www.cpc.cornell.edu\">Population</a></li>\\n\\t<li id=\"menu-item-985\" class=\"menu-item menu-item-type-custom menu-item-object-custom menu-item-985\"><a href=\"http://sdl.soc.cornell.edu/\">Social Dynamics Laboratory</a></li>\\n\\t<li id=\"menu-item-986\" class=\"menu-item menu-item-type-post_type menu-item-object-page menu-item-986\"><a href=\"http://www.soc.cornell.edu/research-centers/\">Other Research Resources</a></li>\\n</ul>\\n</li>\\n<li id=\"menu-item-239\" class=\"menu-item menu-item-type-post_type menu-item-object-page menu-item-has-children menu-item-239\"><a href=\"http://www.soc.cornell.edu/about/\">About the Department</a>\\n<div class=\\'nav-arrow closed\\'></div><ul class=\"sub-menu closed\">\\n\\t<li id=\"menu-item-1198\" class=\"menu-item menu-item-type-post_type menu-item-object-page menu-item-1198\"><a href=\"http://www.soc.cornell.edu/about/\">Department Profile</a></li>\\n\\t<li id=\"menu-item-449\" class=\"menu-item menu-item-type-post_type menu-item-object-page menu-item-449\"><a href=\"http://www.soc.cornell.edu/about/department-history/\">Department History</a></li>\\n\\t<li id=\"menu-item-242\" class=\"menu-item menu-item-type-post_type menu-item-object-page menu-item-242\"><a href=\"http://www.soc.cornell.edu/about/contact/\">Contact Information</a></li>\\n</ul>\\n</li>\\n</ul></div>                                </div>\\n                            </div>\\n                        </div><!-- #navigation-bar -->\\n                        <div id=\"cu-seal\">&nbsp;<a href=\"http://www.cornell.edu/\" title=\"Cornell University\">\\n                            <img src=\"http://www.soc.cornell.edu/wp-content/themes/cornell_base/images/cornell_identity/theme_white75.png\" alt=\"Cornell University\" /></a>\\n                        </div>\\n                        <div id=\"custom-branding\"> \\n                            <h1><a class=\"home-link\" href=\"http://www.soc.cornell.edu/\" style=\"color: #b31b1b\">Department of Sociology</a></h1>\\n                            <h2 style=\"color: \">Cornell University</h2>\\n                        </div>\\n                    </div><!-- #cu-brand -->\\n                </div><!-- #cu-brand-wrapper -->\\n                         <!-- end banner layouts -->\\n               \\n            </div><!-- #cu-identity-content -->\\n        </div><!-- #cu-identity -->\\n        \\n\\t\\t<div id=\"wrap\">\\n            <div id=\"header\">\\n                <div id=\"header-band\">\\n                    <div id=\"identity\">\\n                        <div id=\"navigation-bar\">\\n                            <div id=\"navigation-wrap\">\\n                                <div id=\"navigation\">\\n                                    <div class=\"menu-main-menu-container\"><ul id=\"menu-main-menu-1\" class=\"main nav-menu\"><li class=\"menu-item menu-item-type-custom menu-item-object-custom menu-item-7\"><a href=\"http://blogs.cornell.edu/socy/\">Home</a></li>\\n<li class=\"menu-item menu-item-type-post_type menu-item-object-page current-page-ancestor current-menu-ancestor current-menu-parent current-custom-parent current_page_parent current_page_ancestor menu-item-has-children menu-item-66\"><a href=\"http://www.soc.cornell.edu/people/\">People</a>\\n<div class=\\'nav-arrow closed\\'></div><ul class=\"sub-menu closed\">\\n\\t<li class=\"menu-item menu-item-type-post_type menu-item-object-page current-menu-item page_item page-item-463 current_page_item menu-item-479\"><a href=\"http://www.soc.cornell.edu/people/faculty/\">Faculty and Field</a></li>\\n\\t<li class=\"menu-item menu-item-type-custom menu-item-object-custom current-menu-item menu-item-1908\"><a href=\"http://www.soc.cornell.edu/people/faculty#post-docs\">Postdoctoral Fellows</a></li>\\n\\t<li class=\"menu-item menu-item-type-post_type menu-item-object-page menu-item-95\"><a href=\"http://www.soc.cornell.edu/people/gradstudents/\">Graduate Students</a></li>\\n\\t<li class=\"menu-item menu-item-type-post_type menu-item-object-page menu-item-94\"><a href=\"http://www.soc.cornell.edu/people/phds-on-the-market/\">PhDs on the Market</a></li>\\n\\t<li class=\"menu-item menu-item-type-post_type menu-item-object-page menu-item-1587\"><a href=\"http://www.soc.cornell.edu/people/job-openings/\">Job Openings</a></li>\\n\\t<li class=\"menu-item menu-item-type-post_type menu-item-object-page menu-item-96\"><a href=\"http://www.soc.cornell.edu/people/staff/\">Staff</a></li>\\n</ul>\\n</li>\\n<li class=\"menu-item menu-item-type-custom menu-item-object-custom menu-item-has-children menu-item-1882\"><a href=\"http://blogs.cornell.edu/socy/events\">Events</a>\\n<div class=\\'nav-arrow closed\\'></div><ul class=\"sub-menu closed\">\\n\\t<li class=\"menu-item menu-item-type-custom menu-item-object-custom menu-item-has-children menu-item-1884\"><a href=\"http://blogs.cornell.edu/socy/events/\">Department Events</a>\\n\\t<div class=\\'nav-arrow closed\\'></div><ul class=\"sub-menu closed\">\\n\\t\\t<li class=\"menu-item menu-item-type-custom menu-item-object-custom menu-item-1886\"><a href=\"http://blogs.cornell.edu/socy/events/\">Department Events &#8211; Current</a></li>\\n\\t\\t<li class=\"menu-item menu-item-type-post_type menu-item-object-page menu-item-1830\"><a href=\"http://www.soc.cornell.edu/events/sociology-events-2015-16/\">Sociology Events 2015-16</a></li>\\n\\t\\t<li class=\"menu-item menu-item-type-post_type menu-item-object-page menu-item-1431\"><a href=\"http://www.soc.cornell.edu/events/sociology-events-2014-15/\">Sociology Events 2014-15</a></li>\\n\\t</ul>\\n</li>\\n\\t<li class=\"menu-item menu-item-type-custom menu-item-object-custom menu-item-133\"><a href=\"http://inequality.cornell.edu/csi-events/\">CSI Events</a></li>\\n\\t<li class=\"menu-item menu-item-type-custom menu-item-object-custom menu-item-132\"><a href=\"http://www.economyandsociety.org/events/\">CSES Events</a></li>\\n</ul>\\n</li>\\n<li class=\"menu-item menu-item-type-post_type menu-item-object-page menu-item-has-children menu-item-64\"><a href=\"http://www.soc.cornell.edu/graduate/\">Graduate Program</a>\\n<div class=\\'nav-arrow closed\\'></div><ul class=\"sub-menu closed\">\\n\\t<li class=\"menu-item menu-item-type-post_type menu-item-object-page menu-item-959\"><a href=\"http://www.soc.cornell.edu/graduate/\">Introduction to the Graduate Program</a></li>\\n\\t<li class=\"menu-item menu-item-type-post_type menu-item-object-page menu-item-202\"><a href=\"http://www.soc.cornell.edu/graduate/whos-who/\">Who&#8217;s Who in the Graduate Program</a></li>\\n\\t<li class=\"menu-item menu-item-type-post_type menu-item-object-page menu-item-201\"><a href=\"http://www.soc.cornell.edu/graduate/grad-program/\">Program Requirements</a></li>\\n\\t<li class=\"menu-item menu-item-type-post_type menu-item-object-page menu-item-200\"><a href=\"http://www.soc.cornell.edu/graduate/grad-funding/\">Funding for Graduate Studies</a></li>\\n\\t<li class=\"menu-item menu-item-type-post_type menu-item-object-page menu-item-199\"><a href=\"http://www.soc.cornell.edu/graduate/admissions/\">Admissions Procedures</a></li>\\n\\t<li class=\"menu-item menu-item-type-post_type menu-item-object-page menu-item-198\"><a href=\"http://www.soc.cornell.edu/graduate/placement/\">Recent Placements</a></li>\\n\\t<li class=\"menu-item menu-item-type-post_type menu-item-object-page menu-item-197\"><a href=\"http://www.soc.cornell.edu/graduate/awards/\">Awards and Accomplishments</a></li>\\n\\t<li class=\"menu-item menu-item-type-custom menu-item-object-custom menu-item-204\"><a href=\"http://people.soc.cornell.edu/files/courses/soc-courses-2016-2017.pdf\">2016-17 Sociology Course List</a></li>\\n\\t<li class=\"menu-item menu-item-type-custom menu-item-object-custom menu-item-205\"><a href=\"http://courses.cornell.edu/preview_program.php?catoid=28&#038;poid=13976\">2016-17 Course Descriptions</a></li>\\n\\t<li class=\"menu-item menu-item-type-custom menu-item-object-custom menu-item-206\"><a href=\"https://classes.cornell.edu/browse/inbound/subject/SOC\">Course Roster</a></li>\\n</ul>\\n</li>\\n<li class=\"menu-item menu-item-type-post_type menu-item-object-page menu-item-has-children menu-item-1924\"><a href=\"http://www.soc.cornell.edu/undergrad/what-is-sociology/\">Undergraduate Program</a>\\n<div class=\\'nav-arrow closed\\'></div><ul class=\"sub-menu closed\">\\n\\t<li class=\"menu-item menu-item-type-post_type menu-item-object-page menu-item-235\"><a href=\"http://www.soc.cornell.edu/undergrad/what-is-sociology/\">What is Sociology?</a></li>\\n\\t<li class=\"menu-item menu-item-type-post_type menu-item-object-page menu-item-751\"><a href=\"http://www.soc.cornell.edu/undergrad/\">Exploring Sociology at Cornell</a></li>\\n\\t<li class=\"menu-item menu-item-type-post_type menu-item-object-page menu-item-234\"><a href=\"http://www.soc.cornell.edu/undergrad/why-major/\">Why Major in Sociology?</a></li>\\n\\t<li class=\"menu-item menu-item-type-post_type menu-item-object-page menu-item-233\"><a href=\"http://www.soc.cornell.edu/undergrad/soc-major/\">The Sociology Major</a></li>\\n\\t<li class=\"menu-item menu-item-type-post_type menu-item-object-page menu-item-232\"><a href=\"http://www.soc.cornell.edu/undergrad/honors-program/\">Honors Program</a></li>\\n\\t<li class=\"menu-item menu-item-type-post_type menu-item-object-page menu-item-231\"><a href=\"http://www.soc.cornell.edu/undergrad/awards/\">Undergraduate Awards</a></li>\\n\\t<li class=\"menu-item menu-item-type-post_type menu-item-object-page menu-item-230\"><a href=\"http://www.soc.cornell.edu/undergrad/additional-info/\">Additional Information for Majors</a></li>\\n\\t<li class=\"menu-item menu-item-type-post_type menu-item-object-page menu-item-229\"><a href=\"http://www.soc.cornell.edu/undergrad/transfer-credits/\">Transfer Credits</a></li>\\n\\t<li class=\"menu-item menu-item-type-custom menu-item-object-custom menu-item-225\"><a href=\"http://people.soc.cornell.edu/files/courses/soc-courses-2016-2017.pdf\">2016-17 Sociology Course List</a></li>\\n\\t<li class=\"menu-item menu-item-type-custom menu-item-object-custom menu-item-226\"><a href=\"http://courses.cornell.edu/preview_program.php?catoid=28&#038;poid=13976\">2016-17 Course Descriptions</a></li>\\n\\t<li class=\"menu-item menu-item-type-custom menu-item-object-custom menu-item-227\"><a href=\"https://classes.cornell.edu/browse/inbound/subject/SOC\">Course Roster</a></li>\\n</ul>\\n</li>\\n<li class=\"menu-item menu-item-type-post_type menu-item-object-page menu-item-has-children menu-item-71\"><a href=\"http://www.soc.cornell.edu/research-centers/\">Research Centers</a>\\n<div class=\\'nav-arrow closed\\'></div><ul class=\"sub-menu closed\">\\n\\t<li class=\"menu-item menu-item-type-custom menu-item-object-custom menu-item-981\"><a href=\"http://www.economyandsociety.org/\">Economy and Society</a></li>\\n\\t<li class=\"menu-item menu-item-type-custom menu-item-object-custom menu-item-982\"><a href=\"http://inequality.cornell.edu/\">Inequality</a></li>\\n\\t<li class=\"menu-item menu-item-type-custom menu-item-object-custom menu-item-983\"><a href=\"http://www.einaudi.cornell.edu/\">International Studies</a></li>\\n\\t<li class=\"menu-item menu-item-type-custom menu-item-object-custom menu-item-987\"><a href=\"http://www.bctr.cornell.edu/\">Lifecourse</a></li>\\n\\t<li class=\"menu-item menu-item-type-custom menu-item-object-custom menu-item-984\"><a href=\"http://www.cpc.cornell.edu\">Population</a></li>\\n\\t<li class=\"menu-item menu-item-type-custom menu-item-object-custom menu-item-985\"><a href=\"http://sdl.soc.cornell.edu/\">Social Dynamics Laboratory</a></li>\\n\\t<li class=\"menu-item menu-item-type-post_type menu-item-object-page menu-item-986\"><a href=\"http://www.soc.cornell.edu/research-centers/\">Other Research Resources</a></li>\\n</ul>\\n</li>\\n<li class=\"menu-item menu-item-type-post_type menu-item-object-page menu-item-has-children menu-item-239\"><a href=\"http://www.soc.cornell.edu/about/\">About the Department</a>\\n<div class=\\'nav-arrow closed\\'></div><ul class=\"sub-menu closed\">\\n\\t<li class=\"menu-item menu-item-type-post_type menu-item-object-page menu-item-1198\"><a href=\"http://www.soc.cornell.edu/about/\">Department Profile</a></li>\\n\\t<li class=\"menu-item menu-item-type-post_type menu-item-object-page menu-item-449\"><a href=\"http://www.soc.cornell.edu/about/department-history/\">Department History</a></li>\\n\\t<li class=\"menu-item menu-item-type-post_type menu-item-object-page menu-item-242\"><a href=\"http://www.soc.cornell.edu/about/contact/\">Contact Information</a></li>\\n</ul>\\n</li>\\n</ul></div>                                </div>\\n                            </div>\\n                        </div>\\n                    </div>\\n                </div>\\n                \\n                <div id=\"image-band\" \\n                    class=\" no-header-widget\">\\n                    <div class=\"image-meta\">\\n                        <h3 class=\"image-subtitle\">\\n                                                        \\n                                                        <a href=\"http://www.soc.cornell.edu/people/\" title=\"People\"><span class=\"main_title\">People</span></a>                            \\n                                                                                                                                                                    </h3>\\n                    </div>\\n                    <div class=\"image-cover gradient\"></div>\\n                    <div class=\"text-overlay gradient\"></div>\\n                </div><!-- #image-band -->\\n                \\n            </div><!-- end #header -->\\n        \\n            <div id=\"midband-wrap\" class=\"\">\\n                <div id=\"midband\"></div>\\n            </div>\\n\\t\\n\\t\\t\\t<div id=\"content-wrap\">\\n    <div id=\"content\">\\n    \\n        <div id=\"main\">\\n        \\n            <div id=\"main-top\"></div>\\n            \\n                            <div id=\"secondary-nav\">\\n                    <div class=\"main-body\">\\n                        \\t<div id=\"tertiary\" class=\"sidebar-container\" role=\"complementary\">\\n\\t\\t<div class=\"sidebar-inner\">\\n\\t\\t\\t<div class=\"widget-area\">\\n\\t\\t\\t\\t<aside id=\"nav_menu-3\" class=\"widget widget_nav_menu\"><h3 class=\"widget-title\">People</h3><div class=\"menu-people-container\"><ul id=\"menu-people\" class=\"menu\"><li id=\"menu-item-519\" class=\"menu-item menu-item-type-post_type menu-item-object-page current-menu-item page_item page-item-463 current_page_item menu-item-has-children menu-item-519\"><a href=\"http://www.soc.cornell.edu/people/faculty/\">Active Faculty and Field Members</a>\\n<div class=\\'nav-arrow closed\\'></div><ul class=\"sub-menu closed\">\\n\\t<li id=\"menu-item-621\" class=\"menu-item menu-item-type-post_type menu-item-object-page menu-item-621\"><a href=\"http://www.soc.cornell.edu/people/faculty/alvarado/\">Steven E. Alvarado</a></li>\\n\\t<li id=\"menu-item-620\" class=\"menu-item menu-item-type-post_type menu-item-object-page menu-item-620\"><a href=\"http://www.soc.cornell.edu/people/faculty/berezin/\">Mabel Berezin</a></li>\\n\\t<li id=\"menu-item-1813\" class=\"menu-item menu-item-type-custom menu-item-object-custom menu-item-1813\"><a href=\"https://www.ilr.cornell.edu/people/marya-besharov\">Marya Besharov (field)</a></li>\\n\\t<li id=\"menu-item-809\" class=\"menu-item menu-item-type-post_type menu-item-object-page menu-item-809\"><a href=\"http://www.soc.cornell.edu/people/faculty/bischoff/\">Kendra Bischoff</a></li>\\n\\t<li id=\"menu-item-1072\" class=\"menu-item menu-item-type-post_type menu-item-object-page menu-item-1072\"><a href=\"http://www.soc.cornell.edu/people/faculty/burton/\">Diane Burton (courtesy, field)</a></li>\\n\\t<li id=\"menu-item-828\" class=\"menu-item menu-item-type-post_type menu-item-object-page menu-item-828\"><a href=\"http://www.soc.cornell.edu/people/faculty/bcornwell/\">Benjamin Cornwell</a></li>\\n\\t<li id=\"menu-item-1549\" class=\"menu-item menu-item-type-custom menu-item-object-custom menu-item-1549\"><a href=\"http://www.human.cornell.edu/bio.cfm?netid=red26http://\">Rachel Dunifon (field)</a></li>\\n\\t<li id=\"menu-item-1550\" class=\"menu-item menu-item-type-custom menu-item-object-custom menu-item-1550\"><a href=\"https://www.ilr.cornell.edu/people/eli-friedman\">Eli Friedman (field)</a></li>\\n\\t<li id=\"menu-item-2055\" class=\"menu-item menu-item-type-post_type menu-item-object-page menu-item-2055\"><a href=\"http://www.soc.cornell.edu/people/faculty/garip/\">Filiz Garip</a></li>\\n\\t<li id=\"menu-item-1551\" class=\"menu-item menu-item-type-custom menu-item-object-custom menu-item-1551\"><a href=\"https://www.ilr.cornell.edu/people/shannon-gleeson\">Shannon Gleeson (field)</a></li>\\n\\t<li id=\"menu-item-1552\" class=\"menu-item menu-item-type-custom menu-item-object-custom menu-item-1552\"><a href=\"http://www.human.cornell.edu/bio.cfm?netid=msh284\">Matthew Hall (field)</a></li>\\n\\t<li id=\"menu-item-827\" class=\"menu-item menu-item-type-post_type menu-item-object-page menu-item-827\"><a href=\"http://www.soc.cornell.edu/people/faculty/haskins/\">Anna R. Haskins</a></li>\\n\\t<li id=\"menu-item-826\" class=\"menu-item menu-item-type-post_type menu-item-object-page menu-item-826\"><a href=\"http://www.soc.cornell.edu/people/faculty/heckathorn/\">Douglas Heckathorn</a></li>\\n\\t<li id=\"menu-item-1553\" class=\"menu-item menu-item-type-custom menu-item-object-custom menu-item-1553\"><a href=\"http://infosci.cornell.edu/faculty/jon-kleinberg\">Jon Kleinberg (field)</a></li>\\n\\t<li id=\"menu-item-1073\" class=\"menu-item menu-item-type-post_type menu-item-object-page menu-item-1073\"><a href=\"http://www.soc.cornell.edu/people/faculty/lawler/\">Edward J. Lawler</a></li>\\n\\t<li id=\"menu-item-1024\" class=\"menu-item menu-item-type-post_type menu-item-object-page menu-item-1024\"><a href=\"http://www.soc.cornell.edu/people/faculty/lichter/\">Daniel T. Lichter</a></li>\\n\\t<li id=\"menu-item-1054\" class=\"menu-item menu-item-type-post_type menu-item-object-page menu-item-1054\"><a href=\"http://www.soc.cornell.edu/people/faculty/macy/\">Michael Macy</a></li>\\n\\t<li id=\"menu-item-2066\" class=\"menu-item menu-item-type-post_type menu-item-object-page menu-item-2066\"><a href=\"http://www.soc.cornell.edu/people/faculty/maralani/\">Vida Maralani</a></li>\\n\\t<li id=\"menu-item-1814\" class=\"menu-item menu-item-type-custom menu-item-object-custom menu-item-1814\"><a href=\"https://www.johnson.cornell.edu/Faculty-And-Research/Profile?id=cm794\">Chris Marquis (field)</a></li>\\n\\t<li id=\"menu-item-1555\" class=\"menu-item menu-item-type-custom menu-item-object-custom menu-item-1555\"><a href=\"http://www.human.cornell.edu/bio.cfm?netid=kam386\">Kelly Musick (field)</a></li>\\n\\t<li id=\"menu-item-852\" class=\"menu-item menu-item-type-post_type menu-item-object-page menu-item-852\"><a href=\"http://www.soc.cornell.edu/people/faculty/nee/\">Victor Nee</a></li>\\n\\t<li id=\"menu-item-1556\" class=\"menu-item menu-item-type-custom menu-item-object-custom menu-item-1556\"><a href=\"http://www.human.cornell.edu/bio.cfm?netid=kap6\">Karl Pillemer (field)</a></li>\\n\\t<li id=\"menu-item-1076\" class=\"menu-item menu-item-type-post_type menu-item-object-page menu-item-1076\"><a href=\"http://www.soc.cornell.edu/people/faculty/pinch/\">Trevor Pinch (courtesy, field)</a></li>\\n\\t<li id=\"menu-item-1815\" class=\"menu-item menu-item-type-custom menu-item-object-custom menu-item-1815\"><a href=\"http://www.human.cornell.edu/bio.cfm?netid=pmr86\">Peter Rich (courtesy, field)</a></li>\\n\\t<li id=\"menu-item-1557\" class=\"menu-item menu-item-type-custom menu-item-object-custom menu-item-1557\"><a href=\"http://www.human.cornell.edu/bio.cfm?netid=ss589\">Sharon Sassler (field)</a></li>\\n\\t<li id=\"menu-item-872\" class=\"menu-item menu-item-type-post_type menu-item-object-page menu-item-872\"><a href=\"http://www.soc.cornell.edu/people/faculty/strang/\">David Strang</a></li>\\n\\t<li id=\"menu-item-899\" class=\"menu-item menu-item-type-post_type menu-item-object-page menu-item-899\"><a href=\"http://www.soc.cornell.edu/people/faculty/swedberg/\">Richard Swedberg</a></li>\\n\\t<li id=\"menu-item-1558\" class=\"menu-item menu-item-type-custom menu-item-object-custom menu-item-1558\"><a href=\"http://www.human.cornell.edu/bio.cfm?netid=lmt88\">Laura Tach (field)</a></li>\\n\\t<li id=\"menu-item-1559\" class=\"menu-item menu-item-type-custom menu-item-object-custom menu-item-1559\"><a href=\"http://www.ilr.cornell.edu/people/pamela-tolbert\">Pamela Tolbert (field)</a></li>\\n\\t<li id=\"menu-item-1545\" class=\"menu-item menu-item-type-custom menu-item-object-custom menu-item-1545\"><a href=\"http://vivo.cornell.edu/display/individual30453\">Hector Velez (adjunct)</a></li>\\n\\t<li id=\"menu-item-1560\" class=\"menu-item menu-item-type-custom menu-item-object-custom menu-item-1560\"><a href=\"http://www.human.cornell.edu/bio.cfm?netid=mrw37\">Maureen Waller (field)</a></li>\\n\\t<li id=\"menu-item-898\" class=\"menu-item menu-item-type-post_type menu-item-object-page menu-item-898\"><a href=\"http://www.soc.cornell.edu/people/faculty/weeden/\">Kim Weeden</a></li>\\n\\t<li id=\"menu-item-1055\" class=\"menu-item menu-item-type-post_type menu-item-object-page menu-item-1055\"><a href=\"http://www.soc.cornell.edu/people/faculty/wethington/\">Elaine Wethington</a></li>\\n\\t<li id=\"menu-item-1562\" class=\"menu-item menu-item-type-custom menu-item-object-custom menu-item-1562\"><a href=\"http://www.human.cornell.edu/bio.cfm?netid=cjw279\">Christopher Wildeman (field)</a></li>\\n\\t<li id=\"menu-item-897\" class=\"menu-item menu-item-type-post_type menu-item-object-page menu-item-897\"><a href=\"http://www.soc.cornell.edu/people/faculty/eycornwell/\">Erin York Cornwell</a></li>\\n</ul>\\n</li>\\n<li id=\"menu-item-1907\" class=\"menu-item menu-item-type-custom menu-item-object-custom current-menu-item menu-item-1907\"><a href=\"http://www.soc.cornell.edu/people/faculty#post-docs\">Postdoctoral Fellows</a></li>\\n<li id=\"menu-item-520\" class=\"menu-item menu-item-type-post_type menu-item-object-page menu-item-520\"><a href=\"http://www.soc.cornell.edu/people/gradstudents/\">Graduate Students</a></li>\\n<li id=\"menu-item-521\" class=\"menu-item menu-item-type-post_type menu-item-object-page menu-item-521\"><a href=\"http://www.soc.cornell.edu/people/phds-on-the-market/\">PhDs on the Market</a></li>\\n<li id=\"menu-item-523\" class=\"menu-item menu-item-type-post_type menu-item-object-page menu-item-523\"><a href=\"http://www.soc.cornell.edu/people/job-openings/\">Job Openings</a></li>\\n<li id=\"menu-item-522\" class=\"menu-item menu-item-type-post_type menu-item-object-page menu-item-522\"><a href=\"http://www.soc.cornell.edu/people/staff/\">Staff</a></li>\\n</ul></div></aside><aside id=\"search-2\" class=\"widget widget_search\"><form role=\"search\" method=\"get\" class=\"search-form\" action=\"http://www.soc.cornell.edu/\">\\n\\t\\t<label>\\n\\t\\t\\t<input type=\"search\" class=\"search-field\" placeholder=\"Search &hellip;\" value=\"\" name=\"s\" title=\"Search for:\" />\\n\\t\\t</label>\\n\\t\\t<input type=\"submit\" class=\"search-submit\" value=\"Search\" />\\n\\t</form></aside>\\t\\t\\t</div><!-- .widget-area -->\\n\\t\\t</div><!-- .sidebar-inner -->\\n\\t</div><!-- #tertiary -->\\n                    </div>\\n                </div>\\n                                        \\n            <div id=\"main-body\">\\n                <div class=\"breadcrumbs\" xmlns:v=\"http://rdf.data-vocabulary.org/#\"><a href=\"http://www.soc.cornell.edu/\" rel=\"v:url\" property=\"v:title\">Home</a><span typeof=\"v:Breadcrumb\"><a rel=\"v:url\" property=\"v:title\" href=\"http://www.soc.cornell.edu/people/\">People</a></span><span class=\"current\">Faculty</span></div><!-- .breadcrumbs -->                                                \\n                    <article id=\"post-463\" class=\"post-463 page type-page status-publish hentry\">\\n                    \\n                        <header class=\"entry-header\">\\n                                                        <h1 class=\"entry-title\">Faculty</h1>\\n                        </header><!-- .entry-header -->\\n    \\n                        <div class=\"entry-content\">\\n                            <p><strong>Department of Sociology Faculty</strong></p>\\n<p><!-- width=\"984\" --></p>\\n<table class=\"alignleft\" style=\"border-color: #fff; background-color: #fff;\">\\n<tbody>\\n<tr>\\n<td style=\"border: none;\"><img class=\"alignnone size-full wp-image-253\" style=\"max-width: none;\" src=\"https://blogs.cornell.edu/socy/files/2015/07/Alvarado-19b5yic.png\" alt=\"Alvarado\" width=\"100\" height=\"100\" /></td>\\n<td style=\"border: none;\"><a title=\"Steven E. Alvarado\" href=\"http://www.soc.cornell.edu/people/faculty/alvarado/\"><strong>Steven E. Alvarado</strong></a><br />\\nAssistant Professor<br />\\n<em>Social Stratification, Education, Social Demography, Quantitative Methodology, Immigration, Health</em></td>\\n</tr>\\n<tr>\\n<td style=\"border: none;\"><img class=\"alignnone size-full wp-image-308\" style=\"max-width: none;\" src=\"https://blogs.cornell.edu/socy/files/2015/07/Berezin-2gjmnhj.png\" alt=\"Berezin\" width=\"100\" height=\"100\" /></td>\\n<td style=\"border: none;\"><a title=\"Mabel Berezin\" href=\"http://www.soc.cornell.edu/people/faculty/berezin/\"><strong>Mabel Berezin</strong></a><br />\\nProfessor<br />\\n<em> Comparative Historical Sociology, Culture, Political Institutions, Theory, Qualitative Methods, Economy and Society</em></td>\\n</tr>\\n<tr>\\n<td style=\"border: none;\"><img class=\"alignnone size-full wp-image-422\" style=\"max-width: none;\" src=\"https://blogs.cornell.edu/socy/files/2015/07/Kendra_Bischoff-1kcrmbc.png\" alt=\"Kendra_Bischoff\" width=\"100\" height=\"100\" /></td>\\n<td style=\"border: none;\"><a title=\"Kendra Bischoff\" href=\"http://www.soc.cornell.edu/people/faculty/bischoff/\"><strong>Kendra Bischoff</strong></a><br />\\nAssistant Professor and Richard and Jacqueline Emmet Sesquicentennial Faculty Fellow<br />\\n<em> Social Stratification and Inequality, Sociology of Education, Urban Sociology</em></td>\\n</tr>\\n<tr>\\n<td style=\"border: none;\"><img class=\"alignnone size-full wp-image-312\" src=\"https://blogs.cornell.edu/socy/files/2015/07/Burton-15k6dgk.png\" alt=\"Burton\" width=\"100\" height=\"100\" /></td>\\n<td style=\"border: none;\"><strong><a title=\"Diane Burton\" href=\"http://www.soc.cornell.edu/people/faculty/burton/\">Diane Burton</a></strong> (courtesy, field)<br />\\nAssociate Professor of Human Resource Studies (ILR)<br />\\n<em> Organizations, Employment Systems, Entrepreneurship, Stratification</em></td>\\n</tr>\\n<tr>\\n<td style=\"border: none;\"><img class=\"alignnone size-full wp-image-293\" src=\"https://blogs.cornell.edu/socy/files/2015/07/Cornwell-1ity150.png\" alt=\"Cornwell\" width=\"100\" height=\"100\" /></td>\\n<td style=\"border: none;\"><a title=\"Benjamin Cornwell\" href=\"http://www.soc.cornell.edu/people/faculty/bcornwell/\"><strong>Benjamin Cornwell</strong></a><br />\\nAssociate Professor, Director of Graduate Studies<br />\\n<em> Sociology of Health, Social Network Analysis, Organizations, Social Sequence Analysis, Social Stratification</em></td>\\n</tr>\\n<tr>\\n<td style=\"border: none;\"><img class=\"alignnone size-full wp-image-1887\" src=\"https://blogs.cornell.edu/socy/files/2016/07/garip_circle_100x100-2145ljw.png\" alt=\"garip_circle_100x100\" width=\"100\" height=\"100\" /></td>\\n<td style=\"border: none;\"><strong><a title=\"Filiz Garip\" href=\"http://www.soc.cornell.edu/people/faculty/garip/\">Filiz Garip</a></strong><br />\\nProfessor<br />\\n<em> Migration, Economic Sociology, Social Networks, Inequality</em></td>\\n</tr>\\n<tr>\\n<td style=\"border: none;\"><img class=\"alignnone wp-image-1477 size-full\" src=\"https://blogs.cornell.edu/socy/files/2015/09/Haskins-2aobkho.png\" alt=\"\" width=\"100\" height=\"100\" /></td>\\n<td style=\"border: none;\"><a title=\"Anna R. Haskins\" href=\"http://www.soc.cornell.edu/people/faculty/haskins/\"><strong>Anna R. Haskins</strong></a><br />\\nAssistant Professor<br />\\n<em> Social Stratification and Inequality, Sociology of Education, Race &amp; Ethnicity, Mass Incarceration</em></td>\\n</tr>\\n<tr>\\n<td style=\"border: none;\"><img class=\"alignnone size-full wp-image-295\" src=\"https://blogs.cornell.edu/socy/files/2015/07/Heckathorn-10efyer.png\" alt=\"Heckathorn\" width=\"100\" height=\"100\" /></td>\\n<td style=\"border: none;\"><a title=\"Douglas Heckathorn\" href=\"http://www.soc.cornell.edu/people/faculty/heckathorn/\"><strong>Douglas Heckathorn</strong></a><br />\\nProfessor<br />\\n<em> Formal Theory, Economic Sociology, AIDS Prevention Research, Collective Action, Social Psychology, Quantitative Methods</em></td>\\n</tr>\\n<tr>\\n<td style=\"border: none;\"><img class=\"alignnone size-full wp-image-296\" src=\"https://blogs.cornell.edu/socy/files/2015/07/Lawler-wy7uww.png\" alt=\"Lawler\" width=\"100\" height=\"100\" /></td>\\n<td style=\"border: none;\"><a title=\"Edward J. Lawler\" href=\"http://www.soc.cornell.edu/people/faculty/lawler/\"><strong>Edward J. Lawler</strong></a><br />\\nProfessor of Industrial and Labor Relations and Sociology<br />\\n<em> Group Processes, Social Psychology, Organizations, Social Exchange, Negotiations</em></td>\\n</tr>\\n<tr>\\n<td style=\"border: none;\"><img class=\"alignnone size-full wp-image-297\" src=\"https://blogs.cornell.edu/socy/files/2015/07/Lichter-or7j5l.png\" alt=\"Lichter\" width=\"100\" height=\"100\" /></td>\\n<td style=\"border: none;\"><a title=\"Daniel T. Lichter\" href=\"http://www.soc.cornell.edu/people/faculty/lichter/\"><strong>Daniel T. Lichter</strong></a><br />\\nProfessor and Ferris Family Professor of Life Course Studies, Policy Analysis and Management; Director, Institute of Social Sciences<br />\\n<em> Family Sociology, Demography, Poverty and Inequality, Immigration, Race and Ethnicity</em></td>\\n</tr>\\n<tr>\\n<td style=\"border: none;\"><img class=\"alignnone size-full wp-image-298\" src=\"https://blogs.cornell.edu/socy/files/2015/07/Macy-242f0dc.png\" alt=\"Macy\" width=\"100\" height=\"100\" /></td>\\n<td style=\"border: none;\"><a title=\"Michael Macy\" href=\"http://www.soc.cornell.edu/people/faculty/macy/\"><strong>Michael Macy</strong></a><br />\\nGoldwin Smith Professor of Arts and Sciences, Faculty of Computing and Information Science, Director of the Social Dynamics Laboratory<br />\\n<em> Human Behavior, Social Interaction</em></td>\\n</tr>\\n<tr>\\n<td style=\"border: none;\"><img class=\"alignnone size-full wp-image-1888\" src=\"https://blogs.cornell.edu/socy/files/2016/07/maralani_circle_100x100-1nm6jqd.png\" alt=\"maralani_circle_100x100\" width=\"100\" height=\"100\" /></td>\\n<td style=\"border: none;\"><a title=\"Vida Maralani\" href=\"http://www.soc.cornell.edu/people/faculty/maralani/\"><strong>Vida Maralani</strong></a><br />\\nAssociate Professor<br />\\n<em>Social Demography, Social Stratification and Inequality, Gender, Health, Education<br />\\n</em></td>\\n</tr>\\n<tr>\\n<td style=\"border: none;\"><img class=\"alignnone size-full wp-image-299\" src=\"https://blogs.cornell.edu/socy/files/2015/07/Nee-23yfqw7.png\" alt=\"Nee\" width=\"100\" height=\"100\" /></td>\\n<td style=\"border: none;\"><a title=\"Victor Nee\" href=\"http://www.soc.cornell.edu/people/faculty/nee/\"><strong>Victor Nee</strong></a><br />\\nFrank and Rosa Rhodes Professor, Director of the Center for the Study of Economy and Society<br />\\n<em> Theory, Economic Sociology, Stratification/Inequality, Immigration and Race, Transitions from State Socialism</em></td>\\n</tr>\\n<tr>\\n<td style=\"border: none;\"><img class=\"alignnone size-full wp-image-313\" src=\"https://blogs.cornell.edu/socy/files/2015/07/Pinch-1v19tx1.png\" alt=\"Pinch\" width=\"100\" height=\"100\" /></td>\\n<td style=\"border: none;\"><a title=\"Trevor Pinch\" href=\"http://www.soc.cornell.edu/people/faculty/pinch/\"><strong>Trevor Pinch</strong></a> (courtesy, field)<br />\\nGoldwin Smith Professor of Science &amp; Technology Studies; Director of Graduate Studies<br />\\n<em> Sociology of Scientific Knowledge, Sociology of Technology, Sociology of Markets, Sociology of Music and Musical Instruments</em></td>\\n</tr>\\n<tr>\\n<td style=\"border: none;\"><img class=\"alignnone size-full wp-image-1889\" src=\"https://blogs.cornell.edu/socy/files/2016/07/rich_circle_100x100-1hou7ov.png\" alt=\"rich_circle_100x100\" width=\"100\" height=\"100\" /></td>\\n<td style=\"border: none;\"><a title=\"Peter Rich\"><strong>Peter Rich</strong></a> (courtesy, field)<br />\\nAssistant Professor of Policy Analysis and Management<br />\\n<em> Residential Segregation, Race and Ethnicity, Spatial Inequality, Social Policy</em></td>\\n</tr>\\n<tr>\\n<td style=\"border: none;\"><img class=\"alignnone size-full wp-image-304\" src=\"https://blogs.cornell.edu/socy/files/2015/07/Strang-2l5uy0x.png\" alt=\"Strang\" width=\"100\" height=\"100\" /></td>\\n<td style=\"border: none;\"><a title=\"David Strang\" href=\"http://www.soc.cornell.edu/people/faculty/strang/\"><strong>David Strang</strong></a><br />\\nProfessor<br />\\n<em> Political Sociology, Organizations, Models and Methods for Dynamic Processes</em></td>\\n</tr>\\n<tr>\\n<td style=\"border: none;\"><img class=\"alignnone size-full wp-image-306\" src=\"https://blogs.cornell.edu/socy/files/2015/07/swedberg-2af71x9.png\" alt=\"swedberg\" width=\"100\" height=\"100\" /></td>\\n<td style=\"border: none;\"><a title=\"Richard Swedberg\" href=\"http://www.soc.cornell.edu/people/faculty/swedberg/\"><strong>Richard Swedberg</strong></a><br />\\nProfessor<br />\\n<em> Economic Sociology, Theorizing in Social Science, Classical Sociological Theories</em></td>\\n</tr>\\n<tr>\\n<td style=\"border: none;\"><img class=\"alignnone size-full wp-image-1566\" src=\"https://blogs.cornell.edu/socy/files/2015/08/velez-1gcjmvt.png\" alt=\"velez\" width=\"100\" height=\"100\" /></td>\\n<td style=\"border: none;\"><strong><a href=\"http://vivo.cornell.edu/display/individual30453\">Hector Velez</a><br />\\n</strong>Adjunct Associate Professor<br />\\n<em>Latin American Studies, Hispanic American Studies, Race and Ethnicity, Mass Media</em></td>\\n</tr>\\n<tr>\\n<td style=\"border: none;\"><img class=\"alignnone size-full wp-image-301\" src=\"https://blogs.cornell.edu/socy/files/2015/07/Weeden-r22tvs.png\" alt=\"Weeden\" width=\"100\" height=\"100\" /></td>\\n<td style=\"border: none;\"><a title=\"Kim Weeden\" href=\"http://www.soc.cornell.edu/people/faculty/weeden/\"><strong>Kim Weeden</strong></a><br />\\nJan Rock Zubrow &#8217;77 Professor in the Social Sciences, Director of the Center for the Study of Inequality, and Chair of the Department of Sociology<br />\\n<em> Social Inequality and Poverty, Labor Markets, Gender Inequality, Work and Occupations</em></td>\\n</tr>\\n<tr>\\n<td style=\"border: none;\"><img class=\"alignnone size-full wp-image-302\" src=\"https://blogs.cornell.edu/socy/files/2015/07/Wethington-16e9mdv.png\" alt=\"Wethington\" width=\"100\" height=\"100\" /></td>\\n<td style=\"border: none;\"><a title=\"Elaine Wethington\" href=\"http://www.soc.cornell.edu/people/faculty/wethington/\"><strong>Elaine Wethington</strong></a><br />\\nProfessor of Human Development and Sociology<br />\\n<em> Medical Sociology, Sociology of the Family, Gender and Life Course</em></td>\\n</tr>\\n<tr>\\n<td style=\"border: none;\"><img class=\"alignnone size-full wp-image-303\" style=\"max-width: none;\" src=\"https://blogs.cornell.edu/socy/files/2015/07/York-26qer30.png\" alt=\"York\" width=\"100\" height=\"100\" /></td>\\n<td style=\"border: none;\"><a title=\"Erin York Cornwell\" href=\"http://www.soc.cornell.edu/people/faculty/eycornwell/\"><strong>Erin York Cornwell</strong></a><br />\\nAssistant Professor, Director of Undergraduate Studies, and Sesquicentennial Faculty Fellow<br />\\n<em> Urban Sociology, Sociology of Law, Health, Aging, and Social Networks, Social Inequality</em></td>\\n</tr>\\n</tbody>\\n</table>\\n<p><strong>Additional Members of the Field of Sociology</strong></p>\\n<p>The Graduate Field of Sociology is in charge of <a href=\"http://www.soc.cornell.edu/graduate/\">graduate training</a>. The Field consists of all faculty in the Department of Sociology and the following scholars:</p>\\n<p><a name=\"field\"></a></p>\\n<table style=\"border-color: #fff; background-color: #fff; height: 257px;\" width=\"750\">\\n<tbody>\\n<tr>\\n<td style=\"border: none;\"><img class=\"alignnone size-full wp-image-1806\" src=\"https://blogs.cornell.edu/socy/files/2015/08/mlb363-circle-100x100-soqpk8.png\" alt=\"Marya Besharov\" width=\"100\" height=\"100\" /></td>\\n<td style=\"border: none;\"><a href=\"https://www.ilr.cornell.edu/people/marya-besharov\"><strong>Marya Besharov</strong></a><br />\\nAssociate Professor of Organizational Behavior at ILR<br />\\n<em>Organizations</em></td>\\n</tr>\\n<tr>\\n<td style=\"border: none;\"><img class=\"alignnone size-full wp-image-315\" src=\"https://blogs.cornell.edu/socy/files/2015/07/Dunifon-195g3c7.png\" alt=\"Dunifon\" width=\"100\" height=\"100\" /></td>\\n<td style=\"border: none;\"><a href=\"http://www.human.cornell.edu/bio.cfm?netid=red26http://\"><strong>Rachel Dunifon</strong></a><br />\\nProfessor of Policy Analysis and Management; Associate Dean for Research and Outreach<br />\\n<em>Family Structure and Child Well-being, Influence of Public Policies on Children and Parents, Food Insecurity</em></td>\\n</tr>\\n<tr>\\n<td style=\"border: none;\"><img class=\"alignnone size-full wp-image-316\" src=\"https://blogs.cornell.edu/socy/files/2015/07/Friedman-1dwc74r.png\" alt=\"Friedman\" width=\"100\" height=\"100\" /></td>\\n<td style=\"border: none;\"><a href=\"https://www.ilr.cornell.edu/people/eli-friedman\"><strong>Eli Friedman</strong></a><br />\\nAssistant Professor of International and Comparative Labor (ILR)<br />\\n<em>Labor in China: Social Movements, Globalization, Development, Political Sociology, Work and Theory</em></td>\\n</tr>\\n<tr>\\n<td style=\"border: none;\"><img class=\"alignnone size-full wp-image-1506\" src=\"https://blogs.cornell.edu/socy/files/2015/08/Gleeson-2id2wsv.png\" alt=\"Gleeson\" width=\"100\" height=\"100\" /></td>\\n<td style=\"border: none;\"><strong><b><a href=\"https://www.ilr.cornell.edu/people/shannon-gleeson\">Shannon Gleeson</a></b><br />\\n</strong> Associate Professor, Department of Labor Relations, Law, and History (ILR)<br />\\n<em>Experiences of low-wage workers, the role of immigrant documentation status, legal mobilization, immigrant civic engagement, and the bureaucratic processes of labor standards enforcement</em></td>\\n</tr>\\n<tr>\\n<td style=\"border: none;\"><img class=\"alignnone size-full wp-image-317\" src=\"https://blogs.cornell.edu/socy/files/2015/07/Hall-200us1v.png\" alt=\"Hall\" width=\"100\" height=\"100\" /></td>\\n<td style=\"border: none;\"><strong><a href=\"http://www.human.cornell.edu/bio.cfm?netid=msh284\">Matthew Hall</a><br />\\n</strong>Associate Professor of Policy Analysis and Management<br />\\n<em>Social Demography, Migration/Immigration, Undocumented Immigration, Racial/Ethnic Inequality, Neighborhood Stratification, and Spatial Analysis</em></td>\\n</tr>\\n<tr>\\n<td style=\"border: none;\"><img class=\"alignnone size-full wp-image-342\" src=\"https://blogs.cornell.edu/socy/files/2015/07/Kleinberg-2lchq7f.png\" alt=\"Kleinberg\" width=\"100\" height=\"100\" /></td>\\n<td style=\"border: none;\"><strong><a href=\"http://infosci.cornell.edu/faculty/jon-kleinberg\">Jon Kleinberg</a><br />\\n</strong>Professor of Computer Science, Chair of Department of Informational Science<br />\\n<em>Algorithms that exploit the combinatorial structure of networks and information</em></td>\\n</tr>\\n<tr>\\n<td style=\"border: none;\"><img class=\"alignnone size-full wp-image-1913\" src=\"https://blogs.cornell.edu/socy/files/2016/07/cm794_circle_100x100-1vmh2le.png\" alt=\"Chris Marquis\" width=\"100\" height=\"100\" /></td>\\n<td style=\"border: none;\"><a href=\"https://www.johnson.cornell.edu/Faculty-And-Research/Profile?id=cm794\"><strong>Chris Marquis</strong></a><br />\\nSamuel C. Johnson Professor in Sustainable Global Enterprise; Professor of Management at the Johnson Business School<br />\\n<em>Organizations, Economy and Society</em></td>\\n</tr>\\n<tr>\\n<td style=\"border: none;\"><img class=\"alignnone size-full wp-image-318\" src=\"https://blogs.cornell.edu/socy/files/2015/07/Musick-1alqqws.png\" alt=\"Musick\" width=\"100\" height=\"100\" /></td>\\n<td style=\"border: none;\"><strong><a href=\"http://www.human.cornell.edu/bio.cfm?netid=kam386\">Kelly Musick</a><br />\\n</strong>Associate Professor of Policy Analysis and Management; Director of Cornell Population Center<br />\\n<em>Family Demography, Fertility, Child Well-Being, and Social Inequality</em></td>\\n</tr>\\n<tr>\\n<td style=\"border: none;\"><img class=\"alignnone size-full wp-image-319\" src=\"https://blogs.cornell.edu/socy/files/2015/07/Pillemer-1plrpak.png\" alt=\"Pillemer\" width=\"100\" height=\"100\" /></td>\\n<td style=\"border: none;\"><a href=\"http://www.human.cornell.edu/bio.cfm?netid=kap6\"><strong>Karl Pillemer</strong></a><br />\\nProfessor of Human Development; Director of the Cornell Institute for Translational Research; Professor of Gerontology in Medicine at the Weill Cornell Medical College<br />\\n<em>Sociology of Aging and the Life Course, Family, Social Networks, Aging and Health Policy </em></td>\\n</tr>\\n<tr>\\n<td style=\"border: none;\"><img class=\"alignnone size-full wp-image-320\" src=\"https://blogs.cornell.edu/socy/files/2015/07/Sassler-2jmqgob.png\" alt=\"Sassler\" width=\"100\" height=\"100\" /></td>\\n<td style=\"border: none;\"><strong><a href=\"http://www.human.cornell.edu/bio.cfm?netid=ss589\">Sharon L. Sassler</a><br />\\n</strong>Professor of Policy Analysis and Management<br />\\n<em>Social Demography, Family Sociology, Sociology of Gender</em></td>\\n</tr>\\n<tr>\\n<td style=\"border: none;\"><img class=\"alignnone size-full wp-image-321\" src=\"https://blogs.cornell.edu/socy/files/2015/07/Tach-1nvrtpn.png\" alt=\"Tach\" width=\"100\" height=\"100\" /></td>\\n<td style=\"border: none;\"><strong><a href=\"http://www.human.cornell.edu/bio.cfm?netid=lmt88\">Laura Tach</a><br />\\n</strong>Assistant Professor of Policy Analysis and Management<br />\\n<em>Poverty and Public Policy, Family Demography, Neighborhood Inequality </em></td>\\n</tr>\\n<tr>\\n<td style=\"border: none;\"><img class=\"alignnone size-full wp-image-322\" src=\"https://blogs.cornell.edu/socy/files/2015/07/Tolbert-ox44qx.png\" alt=\"Tolbert\" width=\"100\" height=\"100\" /></td>\\n<td style=\"border: none;\"><strong><a href=\"http://www.ilr.cornell.edu/people/pamela-tolbert\">Pamela Tolbert</a><br />\\n</strong>Lois S. Gray Professor of ILR and the Social Sciences and Professor of the Department of Organizational Behavior<br />\\n<em>Formal Structure of Organizations, Organizational Change Processes, Organizations and Social Stratification, Occupations </em></td>\\n</tr>\\n<tr>\\n<td style=\"border: none;\"><img class=\"alignnone size-full wp-image-323\" src=\"https://blogs.cornell.edu/socy/files/2015/07/Waller-2dto1nd.png\" alt=\"Waller\" width=\"100\" height=\"100\" /></td>\\n<td style=\"border-color: #ffffff;\"><strong><a href=\"http://www.human.cornell.edu/bio.cfm?netid=mrw37\">Maureen Waller</a><br />\\n</strong>Associate Professor of Policy Analysis and Management<br />\\n<em>Low-income Fathers and Families; Welfare and Child Support Policy; Qualitative and Mixed Methods; Cultural Sociology </em></td>\\n</tr>\\n<tr>\\n<td style=\"border: none;\"><img class=\"alignnone size-full wp-image-324\" style=\"max-width: none;\" src=\"https://blogs.cornell.edu/socy/files/2015/07/Wildeman-1lihpfd.png\" alt=\"Wildeman\" width=\"100\" height=\"100\" /></td>\\n<td style=\"border-color: #ffffff;\"><strong><a href=\"http://www.human.cornell.edu/bio.cfm?netid=cjw279\">Christopher Wildeman</a><br />\\n</strong>Associate Professor of Policy Analysis and Management<br />\\n<em>Mass Incarceration, Stratification and Inequality, Sociology of the Family </em></td>\\n</tr>\\n</tbody>\\n</table>\\n<p><strong>Emeritus Faculty</strong></p>\\n<table style=\"border-color: #ffffff; height: 257px;\" width=\"750\">\\n<tbody>\\n<tr style=\"border-color: #ffffff; background-color: #ffffff;\">\\n<td style=\"border-color: #ffffff;\"><img class=\"alignnone size-full wp-image-484\" style=\"max-width: none;\" src=\"https://blogs.cornell.edu/socy/files/2015/08/caldwell-who75o.png\" alt=\"caldwell\" width=\"100\" height=\"100\" /></td>\\n<td style=\"border-color: #ffffff;\"><a title=\"Steven Caldwell\" href=\"http://www.soc.cornell.edu/people/faculty/scaldwell/\"><strong>Steven Caldwell</strong></a><br />\\nAssociate Professor<br />\\n<em>Large-scale Models, Microsimulation, Life Course Choices, Evaluation and Policy Research</em></td>\\n</tr>\\n<tr style=\"border-color: #ffffff; background-color: #ffffff;\">\\n<td style=\"border-color: #ffffff;\"><img class=\"alignnone size-full wp-image-483\" style=\"max-width: none;\" src=\"https://blogs.cornell.edu/socy/files/2015/08/hayes-24spygh.png\" alt=\"hayes\" width=\"100\" height=\"100\" /></td>\\n<td style=\"border-color: #ffffff;\"><a title=\"Donald P. Hayes\" href=\"http://people.soc.cornell.edu/dph1/\"><strong>Donald P. Hayes (1927-2006)</strong></a><br />\\nProfessor Emeritus<br />\\n<em>Social interaction, Sociological Factors in the Realization of Human &#8220;Ability,&#8221; Machine Analysis of Tests</em></td>\\n</tr>\\n</tbody>\\n</table>\\n<p><a name=\"post-docs\"></a><strong>Postdoctoral Fellows</strong></p>\\n<table style=\"border-color: #fff; background-color: #fff;\" width=\"750\">\\n<tbody>\\n<tr>\\n<td style=\"border: none; vertical-align: middle;\"><a href=\"mailto:dg432@cornell.edu\"><img class=\"alignnone wp-image-574 size-thumbnail\" src=\"https://blogs.cornell.edu/socy/files/2015/07/gelbgiser-1rb9mw9-99x100.png\" alt=\"gelbgiser\" width=\"99\" height=\"100\" srcset=\"http://www.soc.cornell.edu/files/2015/07/gelbgiser-1rb9mw9-99x100.png 99w, http://www.soc.cornell.edu/files/2015/07/gelbgiser-1rb9mw9.png 100w\" sizes=\"(max-width: 99px) 100vw, 99px\" /></a></td>\\n<td style=\"border: none; vertical-align: middle;\"><strong><a href=\"http://www.dafnagelbgiser.com/\">Dafna Gelbgiser</a></strong><br />\\nPostdoctoral Fellow, <a href=\"http://inequality.cornell.edu/\">Center for the Study of Inequality</a><br />\\n<em>Social Stratification, Education</em><br />\\n<!-- <a href=\"mailto:dg432@cornell.edu\">dg432@cornell.edu</a> --><br />\\n<!-- BA, Tel Aviv University (Sociology, East Asian Studies); MA, Tel Aviv University (Sociology) --></td>\\n</tr>\\n<tr style=\"border-color: #fff; background-color: #fff;\">\\n<td style=\"border-color: #fff;\"><a href=\"mailto:april.sutton@cornell.edu\"><img class=\"alignnone wp-image-2311 size-full\" src=\"https://blogs.cornell.edu/socy/files/2015/08/SUttonA-17zl7h4.png\" alt=\"suttona\" width=\"100\" height=\"100\" /></a></td>\\n<td style=\"border-color: #fff;\"><strong><a href=\"http://www.suttonapril.com/\">April Sutton</a></strong><br />\\nFrank H.T. Rhodes Postdoctoral Fellow, <a href=\"http://www.cpc.cornell.edu/\">Cornell Population Center</a><br />\\n<em>Stratification and Inequality, Education, Labor Markets, Gender, Race/Ethnicity, and Work and Occupations</em></td>\\n</tr>\\n</tbody>\\n</table>\\n<p></p>\\n                            \\n                                                        \\n                                                    </div><!-- .entry-content -->\\n    \\n                    </article><!-- #post -->\\n    \\n                    <footer class=\"entry-meta\">\\n                                            </footer><!-- .entry-meta -->\\n                        \\n                    \\n<div id=\"comments\" class=\"comments-area\">\\n\\n\\t\\n\\t\\n</div><!-- #comments -->                    \\n                            </div><!-- end #main-body -->\\n        \\n                        \\n            <div id=\"main-bottom\"></div>\\n            \\n        </div><!-- #main -->\\n        \\n    </div><!-- #content -->\\n\\n</div><!-- #content-wrap -->\\n</div><!-- end #wrap -->\\n\\n\\n\\n\\n\\n\\n\\n<div class=\"site-footer\">\\n\\n\\n    <div id=\"footer\">\\n    <div class=\"footer-content\">\\n      <div class=\"columns\">\\n\\t      <div class=\"col-item\">\\t\\t\\t<div class=\"textwidget\"><div align=\"center\"><font size=\"5\"><a href=\"http://blogs.cornell.edu/socy/about/contact/\"><strong>Contact the Department</strong></a> | <a href=\"http://blogs.cornell.edu/socy/department-gateway/\"><strong>Department Gateway</strong></a> | <a href=\"http://blogs.cornell.edu/socy/computing/\"><strong>Sociology Computing</strong></a></font>\\r\\n<br><br>\\r\\n<div align=\"center\"><font size=\"3\"><a href=\"http://www.soc.cornell.edu/\">Department of Sociology</a> | <a href=\"https://blogs.cornell.edu/socy/about/maps/?loc=Uris%20Hall\">323 Uris Hall, Ithaca, NY 14853</a> | 607-255-4266 | <a href=\"mailto:sociology@cornell.edu\">sociology@cornell.edu</a>\\r\\n<br><br><div align=\"center\"> <a href=\"http://as.cornell.edu/\">College of Arts and Sciences</a> | <a href=\"http://www.cornell.edu\">Cornell University</a></font>\\r\\n\\r\\n</div>\\r\\n<br>\\r\\n\\xc2\\xa9 2015 Cornell University\\r\\n<br><br></div>\\n\\t\\t</div>      </div>\\n    </div>\\n  </div>\\n    <div id=\"subfooter\">\\n    <div class=\"footer-content\">\\n      <div class=\"columns\">\\n        <div class=\"col-item\">\\n          <p></p>\\n        </div>\\n        <div class=\"col-item\">\\n          <ul class=\"social-links\">\\n                      </ul>\\n        </div>\\n      </div>\\n    </div>\\n  </div>\\n</div>\\n<div id=\"cu-overlay\"></div>\\n\\t<div id=\"global-footer-content\" ><div id=\"global-footer-content-inner\" >Hosted by <a href=\"http://campuspress.com\">CampusPress</a>\\r\\n\\r\\n<script src=\"https://embanner.univcomm.cornell.edu/OWC-emergency-banner.js\" type=\"text/javascript\"> </script></div></div><script type=\\'text/javascript\\' src=\\'http://www.soc.cornell.edu/wp-content/mu-plugins/lean-captcha/js/howler.min.js?ver=2015102605\\'></script>\\n<script type=\\'text/javascript\\'>\\n/* <![CDATA[ */\\nvar lean_captcha_object = {\"ajax_url\":\"http:\\\\/\\\\/www.soc.cornell.edu\\\\/wp-content\\\\/mu-plugins\\\\/lean-captcha\\\\/lc_ep.php\",\"key\":\"lc_5804451e0ac24\"};\\n/* ]]> */\\n</script>\\n<script type=\\'text/javascript\\' src=\\'http://www.soc.cornell.edu/wp-content/mu-plugins/lean-captcha/js/lean-captcha.js?ver=2016021001\\'></script>\\n<script type=\\'text/javascript\\' src=\\'http://www.soc.cornell.edu/wp-includes/js/wp-embed.min.js?ver=4.4.5\\'></script>\\n</body>\\n</html>'"
      ]
     },
     "execution_count": 5,
     "metadata": {},
     "output_type": "execute_result"
    }
   ],
   "source": [
    "html.content"
   ]
  },
  {
   "cell_type": "code",
   "execution_count": 10,
   "metadata": {
    "collapsed": false
   },
   "outputs": [],
   "source": [
    "soup = BS(html.content, \"html.parser\")"
   ]
  },
  {
   "cell_type": "code",
   "execution_count": null,
   "metadata": {
    "collapsed": false
   },
   "outputs": [],
   "source": []
  },
  {
   "cell_type": "markdown",
   "metadata": {},
   "source": [
    "## We'll need to do these steps quite a lot so its useful to abstract it with a function "
   ]
  },
  {
   "cell_type": "code",
   "execution_count": 11,
   "metadata": {
    "collapsed": true
   },
   "outputs": [],
   "source": [
    "def getSoup(url):\n",
    "    html = requests.get(url)\n",
    "    soup = BS(html.content, \"html.parser\")\n",
    "    return soup"
   ]
  },
  {
   "cell_type": "markdown",
   "metadata": {},
   "source": [
    "## BeautifulSoup provides some useful functions to parse the raw html"
   ]
  },
  {
   "cell_type": "code",
   "execution_count": 13,
   "metadata": {
    "collapsed": true
   },
   "outputs": [],
   "source": [
    "links = soup.findAll('a', href=True) #Finds all 'a' tags with an href object (i.e. all hyperlinks)"
   ]
  },
  {
   "cell_type": "code",
   "execution_count": 14,
   "metadata": {
    "collapsed": false
   },
   "outputs": [
    {
     "data": {
      "text/plain": [
       "[<a href=\"#content\">Skip to main content</a>,\n",
       " <a href=\"http://www.cornell.edu/search/\" title=\"more options\">more options</a>,\n",
       " <a href=\"#\" title=\"Search This Site\">Search This Site</a>,\n",
       " <a href=\"http://blogs.cornell.edu/socy/\">Home</a>,\n",
       " <a href=\"http://www.soc.cornell.edu/people/\">People</a>,\n",
       " <a href=\"http://www.soc.cornell.edu/people/faculty/\">Faculty and Field</a>,\n",
       " <a href=\"http://www.soc.cornell.edu/people/faculty#post-docs\">Postdoctoral Fellows</a>,\n",
       " <a href=\"http://www.soc.cornell.edu/people/gradstudents/\">Graduate Students</a>,\n",
       " <a href=\"http://www.soc.cornell.edu/people/phds-on-the-market/\">PhDs on the Market</a>,\n",
       " <a href=\"http://www.soc.cornell.edu/people/job-openings/\">Job Openings</a>,\n",
       " <a href=\"http://www.soc.cornell.edu/people/staff/\">Staff</a>,\n",
       " <a href=\"http://blogs.cornell.edu/socy/events\">Events</a>,\n",
       " <a href=\"http://blogs.cornell.edu/socy/events/\">Department Events</a>,\n",
       " <a href=\"http://blogs.cornell.edu/socy/events/\">Department Events – Current</a>,\n",
       " <a href=\"http://www.soc.cornell.edu/events/sociology-events-2015-16/\">Sociology Events 2015-16</a>,\n",
       " <a href=\"http://www.soc.cornell.edu/events/sociology-events-2014-15/\">Sociology Events 2014-15</a>,\n",
       " <a href=\"http://inequality.cornell.edu/csi-events/\">CSI Events</a>,\n",
       " <a href=\"http://www.economyandsociety.org/events/\">CSES Events</a>,\n",
       " <a href=\"http://www.soc.cornell.edu/graduate/\">Graduate Program</a>,\n",
       " <a href=\"http://www.soc.cornell.edu/graduate/\">Introduction to the Graduate Program</a>,\n",
       " <a href=\"http://www.soc.cornell.edu/graduate/whos-who/\">Who’s Who in the Graduate Program</a>,\n",
       " <a href=\"http://www.soc.cornell.edu/graduate/grad-program/\">Program Requirements</a>,\n",
       " <a href=\"http://www.soc.cornell.edu/graduate/grad-funding/\">Funding for Graduate Studies</a>,\n",
       " <a href=\"http://www.soc.cornell.edu/graduate/admissions/\">Admissions Procedures</a>,\n",
       " <a href=\"http://www.soc.cornell.edu/graduate/placement/\">Recent Placements</a>,\n",
       " <a href=\"http://www.soc.cornell.edu/graduate/awards/\">Awards and Accomplishments</a>,\n",
       " <a href=\"http://people.soc.cornell.edu/files/courses/soc-courses-2016-2017.pdf\">2016-17 Sociology Course List</a>,\n",
       " <a href=\"http://courses.cornell.edu/preview_program.php?catoid=28&amp;poid=13976\">2016-17 Course Descriptions</a>,\n",
       " <a href=\"https://classes.cornell.edu/browse/inbound/subject/SOC\">Course Roster</a>,\n",
       " <a href=\"http://www.soc.cornell.edu/undergrad/what-is-sociology/\">Undergraduate Program</a>,\n",
       " <a href=\"http://www.soc.cornell.edu/undergrad/what-is-sociology/\">What is Sociology?</a>,\n",
       " <a href=\"http://www.soc.cornell.edu/undergrad/\">Exploring Sociology at Cornell</a>,\n",
       " <a href=\"http://www.soc.cornell.edu/undergrad/why-major/\">Why Major in Sociology?</a>,\n",
       " <a href=\"http://www.soc.cornell.edu/undergrad/soc-major/\">The Sociology Major</a>,\n",
       " <a href=\"http://www.soc.cornell.edu/undergrad/honors-program/\">Honors Program</a>,\n",
       " <a href=\"http://www.soc.cornell.edu/undergrad/awards/\">Undergraduate Awards</a>,\n",
       " <a href=\"http://www.soc.cornell.edu/undergrad/additional-info/\">Additional Information for Majors</a>,\n",
       " <a href=\"http://www.soc.cornell.edu/undergrad/transfer-credits/\">Transfer Credits</a>,\n",
       " <a href=\"http://people.soc.cornell.edu/files/courses/soc-courses-2016-2017.pdf\">2016-17 Sociology Course List</a>,\n",
       " <a href=\"http://courses.cornell.edu/preview_program.php?catoid=28&amp;poid=13976\">2016-17 Course Descriptions</a>,\n",
       " <a href=\"https://classes.cornell.edu/browse/inbound/subject/SOC\">Course Roster</a>,\n",
       " <a href=\"http://www.soc.cornell.edu/research-centers/\">Research Centers</a>,\n",
       " <a href=\"http://www.economyandsociety.org/\">Economy and Society</a>,\n",
       " <a href=\"http://inequality.cornell.edu/\">Inequality</a>,\n",
       " <a href=\"http://www.einaudi.cornell.edu/\">International Studies</a>,\n",
       " <a href=\"http://www.bctr.cornell.edu/\">Lifecourse</a>,\n",
       " <a href=\"http://www.cpc.cornell.edu\">Population</a>,\n",
       " <a href=\"http://sdl.soc.cornell.edu/\">Social Dynamics Laboratory</a>,\n",
       " <a href=\"http://www.soc.cornell.edu/research-centers/\">Other Research Resources</a>,\n",
       " <a href=\"http://www.soc.cornell.edu/about/\">About the Department</a>,\n",
       " <a href=\"http://www.soc.cornell.edu/about/\">Department Profile</a>,\n",
       " <a href=\"http://www.soc.cornell.edu/about/department-history/\">Department History</a>,\n",
       " <a href=\"http://www.soc.cornell.edu/about/contact/\">Contact Information</a>,\n",
       " <a href=\"http://www.cornell.edu/\" title=\"Cornell University\">\n",
       " <img alt=\"Cornell University\" src=\"http://www.soc.cornell.edu/wp-content/themes/cornell_base/images/cornell_identity/theme_white75.png\"/></a>,\n",
       " <a class=\"home-link\" href=\"http://www.soc.cornell.edu/\" style=\"color: #b31b1b\">Department of Sociology</a>,\n",
       " <a href=\"http://blogs.cornell.edu/socy/\">Home</a>,\n",
       " <a href=\"http://www.soc.cornell.edu/people/\">People</a>,\n",
       " <a href=\"http://www.soc.cornell.edu/people/faculty/\">Faculty and Field</a>,\n",
       " <a href=\"http://www.soc.cornell.edu/people/faculty#post-docs\">Postdoctoral Fellows</a>,\n",
       " <a href=\"http://www.soc.cornell.edu/people/gradstudents/\">Graduate Students</a>,\n",
       " <a href=\"http://www.soc.cornell.edu/people/phds-on-the-market/\">PhDs on the Market</a>,\n",
       " <a href=\"http://www.soc.cornell.edu/people/job-openings/\">Job Openings</a>,\n",
       " <a href=\"http://www.soc.cornell.edu/people/staff/\">Staff</a>,\n",
       " <a href=\"http://blogs.cornell.edu/socy/events\">Events</a>,\n",
       " <a href=\"http://blogs.cornell.edu/socy/events/\">Department Events</a>,\n",
       " <a href=\"http://blogs.cornell.edu/socy/events/\">Department Events – Current</a>,\n",
       " <a href=\"http://www.soc.cornell.edu/events/sociology-events-2015-16/\">Sociology Events 2015-16</a>,\n",
       " <a href=\"http://www.soc.cornell.edu/events/sociology-events-2014-15/\">Sociology Events 2014-15</a>,\n",
       " <a href=\"http://inequality.cornell.edu/csi-events/\">CSI Events</a>,\n",
       " <a href=\"http://www.economyandsociety.org/events/\">CSES Events</a>,\n",
       " <a href=\"http://www.soc.cornell.edu/graduate/\">Graduate Program</a>,\n",
       " <a href=\"http://www.soc.cornell.edu/graduate/\">Introduction to the Graduate Program</a>,\n",
       " <a href=\"http://www.soc.cornell.edu/graduate/whos-who/\">Who’s Who in the Graduate Program</a>,\n",
       " <a href=\"http://www.soc.cornell.edu/graduate/grad-program/\">Program Requirements</a>,\n",
       " <a href=\"http://www.soc.cornell.edu/graduate/grad-funding/\">Funding for Graduate Studies</a>,\n",
       " <a href=\"http://www.soc.cornell.edu/graduate/admissions/\">Admissions Procedures</a>,\n",
       " <a href=\"http://www.soc.cornell.edu/graduate/placement/\">Recent Placements</a>,\n",
       " <a href=\"http://www.soc.cornell.edu/graduate/awards/\">Awards and Accomplishments</a>,\n",
       " <a href=\"http://people.soc.cornell.edu/files/courses/soc-courses-2016-2017.pdf\">2016-17 Sociology Course List</a>,\n",
       " <a href=\"http://courses.cornell.edu/preview_program.php?catoid=28&amp;poid=13976\">2016-17 Course Descriptions</a>,\n",
       " <a href=\"https://classes.cornell.edu/browse/inbound/subject/SOC\">Course Roster</a>,\n",
       " <a href=\"http://www.soc.cornell.edu/undergrad/what-is-sociology/\">Undergraduate Program</a>,\n",
       " <a href=\"http://www.soc.cornell.edu/undergrad/what-is-sociology/\">What is Sociology?</a>,\n",
       " <a href=\"http://www.soc.cornell.edu/undergrad/\">Exploring Sociology at Cornell</a>,\n",
       " <a href=\"http://www.soc.cornell.edu/undergrad/why-major/\">Why Major in Sociology?</a>,\n",
       " <a href=\"http://www.soc.cornell.edu/undergrad/soc-major/\">The Sociology Major</a>,\n",
       " <a href=\"http://www.soc.cornell.edu/undergrad/honors-program/\">Honors Program</a>,\n",
       " <a href=\"http://www.soc.cornell.edu/undergrad/awards/\">Undergraduate Awards</a>,\n",
       " <a href=\"http://www.soc.cornell.edu/undergrad/additional-info/\">Additional Information for Majors</a>,\n",
       " <a href=\"http://www.soc.cornell.edu/undergrad/transfer-credits/\">Transfer Credits</a>,\n",
       " <a href=\"http://people.soc.cornell.edu/files/courses/soc-courses-2016-2017.pdf\">2016-17 Sociology Course List</a>,\n",
       " <a href=\"http://courses.cornell.edu/preview_program.php?catoid=28&amp;poid=13976\">2016-17 Course Descriptions</a>,\n",
       " <a href=\"https://classes.cornell.edu/browse/inbound/subject/SOC\">Course Roster</a>,\n",
       " <a href=\"http://www.soc.cornell.edu/research-centers/\">Research Centers</a>,\n",
       " <a href=\"http://www.economyandsociety.org/\">Economy and Society</a>,\n",
       " <a href=\"http://inequality.cornell.edu/\">Inequality</a>,\n",
       " <a href=\"http://www.einaudi.cornell.edu/\">International Studies</a>,\n",
       " <a href=\"http://www.bctr.cornell.edu/\">Lifecourse</a>,\n",
       " <a href=\"http://www.cpc.cornell.edu\">Population</a>,\n",
       " <a href=\"http://sdl.soc.cornell.edu/\">Social Dynamics Laboratory</a>,\n",
       " <a href=\"http://www.soc.cornell.edu/research-centers/\">Other Research Resources</a>,\n",
       " <a href=\"http://www.soc.cornell.edu/about/\">About the Department</a>,\n",
       " <a href=\"http://www.soc.cornell.edu/about/\">Department Profile</a>,\n",
       " <a href=\"http://www.soc.cornell.edu/about/department-history/\">Department History</a>,\n",
       " <a href=\"http://www.soc.cornell.edu/about/contact/\">Contact Information</a>,\n",
       " <a href=\"http://www.soc.cornell.edu/people/\" title=\"People\"><span class=\"main_title\">People</span></a>,\n",
       " <a href=\"http://www.soc.cornell.edu/people/faculty/\">Active Faculty and Field Members</a>,\n",
       " <a href=\"http://www.soc.cornell.edu/people/faculty/alvarado/\">Steven E. Alvarado</a>,\n",
       " <a href=\"http://www.soc.cornell.edu/people/faculty/berezin/\">Mabel Berezin</a>,\n",
       " <a href=\"https://www.ilr.cornell.edu/people/marya-besharov\">Marya Besharov (field)</a>,\n",
       " <a href=\"http://www.soc.cornell.edu/people/faculty/bischoff/\">Kendra Bischoff</a>,\n",
       " <a href=\"http://www.soc.cornell.edu/people/faculty/burton/\">Diane Burton (courtesy, field)</a>,\n",
       " <a href=\"http://www.soc.cornell.edu/people/faculty/bcornwell/\">Benjamin Cornwell</a>,\n",
       " <a href=\"http://www.human.cornell.edu/bio.cfm?netid=red26http://\">Rachel Dunifon (field)</a>,\n",
       " <a href=\"https://www.ilr.cornell.edu/people/eli-friedman\">Eli Friedman (field)</a>,\n",
       " <a href=\"http://www.soc.cornell.edu/people/faculty/garip/\">Filiz Garip</a>,\n",
       " <a href=\"https://www.ilr.cornell.edu/people/shannon-gleeson\">Shannon Gleeson (field)</a>,\n",
       " <a href=\"http://www.human.cornell.edu/bio.cfm?netid=msh284\">Matthew Hall (field)</a>,\n",
       " <a href=\"http://www.soc.cornell.edu/people/faculty/haskins/\">Anna R. Haskins</a>,\n",
       " <a href=\"http://www.soc.cornell.edu/people/faculty/heckathorn/\">Douglas Heckathorn</a>,\n",
       " <a href=\"http://infosci.cornell.edu/faculty/jon-kleinberg\">Jon Kleinberg (field)</a>,\n",
       " <a href=\"http://www.soc.cornell.edu/people/faculty/lawler/\">Edward J. Lawler</a>,\n",
       " <a href=\"http://www.soc.cornell.edu/people/faculty/lichter/\">Daniel T. Lichter</a>,\n",
       " <a href=\"http://www.soc.cornell.edu/people/faculty/macy/\">Michael Macy</a>,\n",
       " <a href=\"http://www.soc.cornell.edu/people/faculty/maralani/\">Vida Maralani</a>,\n",
       " <a href=\"https://www.johnson.cornell.edu/Faculty-And-Research/Profile?id=cm794\">Chris Marquis (field)</a>,\n",
       " <a href=\"http://www.human.cornell.edu/bio.cfm?netid=kam386\">Kelly Musick (field)</a>,\n",
       " <a href=\"http://www.soc.cornell.edu/people/faculty/nee/\">Victor Nee</a>,\n",
       " <a href=\"http://www.human.cornell.edu/bio.cfm?netid=kap6\">Karl Pillemer (field)</a>,\n",
       " <a href=\"http://www.soc.cornell.edu/people/faculty/pinch/\">Trevor Pinch (courtesy, field)</a>,\n",
       " <a href=\"http://www.human.cornell.edu/bio.cfm?netid=pmr86\">Peter Rich (courtesy, field)</a>,\n",
       " <a href=\"http://www.human.cornell.edu/bio.cfm?netid=ss589\">Sharon Sassler (field)</a>,\n",
       " <a href=\"http://www.soc.cornell.edu/people/faculty/strang/\">David Strang</a>,\n",
       " <a href=\"http://www.soc.cornell.edu/people/faculty/swedberg/\">Richard Swedberg</a>,\n",
       " <a href=\"http://www.human.cornell.edu/bio.cfm?netid=lmt88\">Laura Tach (field)</a>,\n",
       " <a href=\"http://www.ilr.cornell.edu/people/pamela-tolbert\">Pamela Tolbert (field)</a>,\n",
       " <a href=\"http://vivo.cornell.edu/display/individual30453\">Hector Velez (adjunct)</a>,\n",
       " <a href=\"http://www.human.cornell.edu/bio.cfm?netid=mrw37\">Maureen Waller (field)</a>,\n",
       " <a href=\"http://www.soc.cornell.edu/people/faculty/weeden/\">Kim Weeden</a>,\n",
       " <a href=\"http://www.soc.cornell.edu/people/faculty/wethington/\">Elaine Wethington</a>,\n",
       " <a href=\"http://www.human.cornell.edu/bio.cfm?netid=cjw279\">Christopher Wildeman (field)</a>,\n",
       " <a href=\"http://www.soc.cornell.edu/people/faculty/eycornwell/\">Erin York Cornwell</a>,\n",
       " <a href=\"http://www.soc.cornell.edu/people/faculty#post-docs\">Postdoctoral Fellows</a>,\n",
       " <a href=\"http://www.soc.cornell.edu/people/gradstudents/\">Graduate Students</a>,\n",
       " <a href=\"http://www.soc.cornell.edu/people/phds-on-the-market/\">PhDs on the Market</a>,\n",
       " <a href=\"http://www.soc.cornell.edu/people/job-openings/\">Job Openings</a>,\n",
       " <a href=\"http://www.soc.cornell.edu/people/staff/\">Staff</a>,\n",
       " <a href=\"http://www.soc.cornell.edu/\" property=\"v:title\" rel=\"v:url\">Home</a>,\n",
       " <a href=\"http://www.soc.cornell.edu/people/\" property=\"v:title\" rel=\"v:url\">People</a>,\n",
       " <a href=\"http://www.soc.cornell.edu/people/faculty/alvarado/\" title=\"Steven E. Alvarado\"><strong>Steven E. Alvarado</strong></a>,\n",
       " <a href=\"http://www.soc.cornell.edu/people/faculty/berezin/\" title=\"Mabel Berezin\"><strong>Mabel Berezin</strong></a>,\n",
       " <a href=\"http://www.soc.cornell.edu/people/faculty/bischoff/\" title=\"Kendra Bischoff\"><strong>Kendra Bischoff</strong></a>,\n",
       " <a href=\"http://www.soc.cornell.edu/people/faculty/burton/\" title=\"Diane Burton\">Diane Burton</a>,\n",
       " <a href=\"http://www.soc.cornell.edu/people/faculty/bcornwell/\" title=\"Benjamin Cornwell\"><strong>Benjamin Cornwell</strong></a>,\n",
       " <a href=\"http://www.soc.cornell.edu/people/faculty/garip/\" title=\"Filiz Garip\">Filiz Garip</a>,\n",
       " <a href=\"http://www.soc.cornell.edu/people/faculty/haskins/\" title=\"Anna R. Haskins\"><strong>Anna R. Haskins</strong></a>,\n",
       " <a href=\"http://www.soc.cornell.edu/people/faculty/heckathorn/\" title=\"Douglas Heckathorn\"><strong>Douglas Heckathorn</strong></a>,\n",
       " <a href=\"http://www.soc.cornell.edu/people/faculty/lawler/\" title=\"Edward J. Lawler\"><strong>Edward J. Lawler</strong></a>,\n",
       " <a href=\"http://www.soc.cornell.edu/people/faculty/lichter/\" title=\"Daniel T. Lichter\"><strong>Daniel T. Lichter</strong></a>,\n",
       " <a href=\"http://www.soc.cornell.edu/people/faculty/macy/\" title=\"Michael Macy\"><strong>Michael Macy</strong></a>,\n",
       " <a href=\"http://www.soc.cornell.edu/people/faculty/maralani/\" title=\"Vida Maralani\"><strong>Vida Maralani</strong></a>,\n",
       " <a href=\"http://www.soc.cornell.edu/people/faculty/nee/\" title=\"Victor Nee\"><strong>Victor Nee</strong></a>,\n",
       " <a href=\"http://www.soc.cornell.edu/people/faculty/pinch/\" title=\"Trevor Pinch\"><strong>Trevor Pinch</strong></a>,\n",
       " <a href=\"http://www.soc.cornell.edu/people/faculty/strang/\" title=\"David Strang\"><strong>David Strang</strong></a>,\n",
       " <a href=\"http://www.soc.cornell.edu/people/faculty/swedberg/\" title=\"Richard Swedberg\"><strong>Richard Swedberg</strong></a>,\n",
       " <a href=\"http://vivo.cornell.edu/display/individual30453\">Hector Velez</a>,\n",
       " <a href=\"http://www.soc.cornell.edu/people/faculty/weeden/\" title=\"Kim Weeden\"><strong>Kim Weeden</strong></a>,\n",
       " <a href=\"http://www.soc.cornell.edu/people/faculty/wethington/\" title=\"Elaine Wethington\"><strong>Elaine Wethington</strong></a>,\n",
       " <a href=\"http://www.soc.cornell.edu/people/faculty/eycornwell/\" title=\"Erin York Cornwell\"><strong>Erin York Cornwell</strong></a>,\n",
       " <a href=\"http://www.soc.cornell.edu/graduate/\">graduate training</a>,\n",
       " <a href=\"https://www.ilr.cornell.edu/people/marya-besharov\"><strong>Marya Besharov</strong></a>,\n",
       " <a href=\"http://www.human.cornell.edu/bio.cfm?netid=red26http://\"><strong>Rachel Dunifon</strong></a>,\n",
       " <a href=\"https://www.ilr.cornell.edu/people/eli-friedman\"><strong>Eli Friedman</strong></a>,\n",
       " <a href=\"https://www.ilr.cornell.edu/people/shannon-gleeson\">Shannon Gleeson</a>,\n",
       " <a href=\"http://www.human.cornell.edu/bio.cfm?netid=msh284\">Matthew Hall</a>,\n",
       " <a href=\"http://infosci.cornell.edu/faculty/jon-kleinberg\">Jon Kleinberg</a>,\n",
       " <a href=\"https://www.johnson.cornell.edu/Faculty-And-Research/Profile?id=cm794\"><strong>Chris Marquis</strong></a>,\n",
       " <a href=\"http://www.human.cornell.edu/bio.cfm?netid=kam386\">Kelly Musick</a>,\n",
       " <a href=\"http://www.human.cornell.edu/bio.cfm?netid=kap6\"><strong>Karl Pillemer</strong></a>,\n",
       " <a href=\"http://www.human.cornell.edu/bio.cfm?netid=ss589\">Sharon L. Sassler</a>,\n",
       " <a href=\"http://www.human.cornell.edu/bio.cfm?netid=lmt88\">Laura Tach</a>,\n",
       " <a href=\"http://www.ilr.cornell.edu/people/pamela-tolbert\">Pamela Tolbert</a>,\n",
       " <a href=\"http://www.human.cornell.edu/bio.cfm?netid=mrw37\">Maureen Waller</a>,\n",
       " <a href=\"http://www.human.cornell.edu/bio.cfm?netid=cjw279\">Christopher Wildeman</a>,\n",
       " <a href=\"http://www.soc.cornell.edu/people/faculty/scaldwell/\" title=\"Steven Caldwell\"><strong>Steven Caldwell</strong></a>,\n",
       " <a href=\"http://people.soc.cornell.edu/dph1/\" title=\"Donald P. Hayes\"><strong>Donald P. Hayes (1927-2006)</strong></a>,\n",
       " <a href=\"mailto:dg432@cornell.edu\"><img alt=\"gelbgiser\" class=\"alignnone wp-image-574 size-thumbnail\" height=\"100\" sizes=\"(max-width: 99px) 100vw, 99px\" src=\"https://blogs.cornell.edu/socy/files/2015/07/gelbgiser-1rb9mw9-99x100.png\" srcset=\"http://www.soc.cornell.edu/files/2015/07/gelbgiser-1rb9mw9-99x100.png 99w, http://www.soc.cornell.edu/files/2015/07/gelbgiser-1rb9mw9.png 100w\" width=\"99\"/></a>,\n",
       " <a href=\"http://www.dafnagelbgiser.com/\">Dafna Gelbgiser</a>,\n",
       " <a href=\"http://inequality.cornell.edu/\">Center for the Study of Inequality</a>,\n",
       " <a href=\"mailto:april.sutton@cornell.edu\"><img alt=\"suttona\" class=\"alignnone wp-image-2311 size-full\" height=\"100\" src=\"https://blogs.cornell.edu/socy/files/2015/08/SUttonA-17zl7h4.png\" width=\"100\"/></a>,\n",
       " <a href=\"http://www.suttonapril.com/\">April Sutton</a>,\n",
       " <a href=\"http://www.cpc.cornell.edu/\">Cornell Population Center</a>,\n",
       " <a href=\"http://blogs.cornell.edu/socy/about/contact/\"><strong>Contact the Department</strong></a>,\n",
       " <a href=\"http://blogs.cornell.edu/socy/department-gateway/\"><strong>Department Gateway</strong></a>,\n",
       " <a href=\"http://blogs.cornell.edu/socy/computing/\"><strong>Sociology Computing</strong></a>,\n",
       " <a href=\"http://www.soc.cornell.edu/\">Department of Sociology</a>,\n",
       " <a href=\"https://blogs.cornell.edu/socy/about/maps/?loc=Uris%20Hall\">323 Uris Hall, Ithaca, NY 14853</a>,\n",
       " <a href=\"mailto:sociology@cornell.edu\">sociology@cornell.edu</a>,\n",
       " <a href=\"http://as.cornell.edu/\">College of Arts and Sciences</a>,\n",
       " <a href=\"http://www.cornell.edu\">Cornell University</a>,\n",
       " <a href=\"http://campuspress.com\">CampusPress</a>]"
      ]
     },
     "execution_count": 14,
     "metadata": {},
     "output_type": "execute_result"
    }
   ],
   "source": [
    "links"
   ]
  },
  {
   "cell_type": "code",
   "execution_count": 18,
   "metadata": {
    "collapsed": false
   },
   "outputs": [
    {
     "data": {
      "text/plain": [
       "<a href=\"http://www.soc.cornell.edu/graduate/whos-who/\">Who’s Who in the Graduate Program</a>"
      ]
     },
     "execution_count": 18,
     "metadata": {},
     "output_type": "execute_result"
    }
   ],
   "source": [
    "#Let's take a look at one of these items \n",
    "links[20]"
   ]
  },
  {
   "cell_type": "code",
   "execution_count": 19,
   "metadata": {
    "collapsed": false
   },
   "outputs": [
    {
     "data": {
      "text/plain": [
       "bs4.element.Tag"
      ]
     },
     "execution_count": 19,
     "metadata": {},
     "output_type": "execute_result"
    }
   ],
   "source": [
    "type(links[20])"
   ]
  },
  {
   "cell_type": "code",
   "execution_count": 20,
   "metadata": {
    "collapsed": false
   },
   "outputs": [
    {
     "data": {
      "text/plain": [
       "['HTML_FORMATTERS',\n",
       " 'XML_FORMATTERS',\n",
       " '__bool__',\n",
       " '__call__',\n",
       " '__class__',\n",
       " '__contains__',\n",
       " '__copy__',\n",
       " '__delattr__',\n",
       " '__delitem__',\n",
       " '__dict__',\n",
       " '__dir__',\n",
       " '__doc__',\n",
       " '__eq__',\n",
       " '__format__',\n",
       " '__ge__',\n",
       " '__getattr__',\n",
       " '__getattribute__',\n",
       " '__getitem__',\n",
       " '__gt__',\n",
       " '__hash__',\n",
       " '__init__',\n",
       " '__iter__',\n",
       " '__le__',\n",
       " '__len__',\n",
       " '__lt__',\n",
       " '__module__',\n",
       " '__ne__',\n",
       " '__new__',\n",
       " '__reduce__',\n",
       " '__reduce_ex__',\n",
       " '__repr__',\n",
       " '__setattr__',\n",
       " '__setitem__',\n",
       " '__sizeof__',\n",
       " '__str__',\n",
       " '__subclasshook__',\n",
       " '__unicode__',\n",
       " '__weakref__',\n",
       " '_all_strings',\n",
       " '_attr_value_as_string',\n",
       " '_attribute_checker',\n",
       " '_find_all',\n",
       " '_find_one',\n",
       " '_formatter_for_name',\n",
       " '_is_xml',\n",
       " '_lastRecursiveChild',\n",
       " '_last_descendant',\n",
       " '_select_debug',\n",
       " '_selector_combinators',\n",
       " '_should_pretty_print',\n",
       " '_tag_name_matches_and',\n",
       " 'append',\n",
       " 'attribselect_re',\n",
       " 'attrs',\n",
       " 'can_be_empty_element',\n",
       " 'childGenerator',\n",
       " 'children',\n",
       " 'clear',\n",
       " 'contents',\n",
       " 'decode',\n",
       " 'decode_contents',\n",
       " 'decompose',\n",
       " 'descendants',\n",
       " 'encode',\n",
       " 'encode_contents',\n",
       " 'extract',\n",
       " 'fetchNextSiblings',\n",
       " 'fetchParents',\n",
       " 'fetchPrevious',\n",
       " 'fetchPreviousSiblings',\n",
       " 'find',\n",
       " 'findAll',\n",
       " 'findAllNext',\n",
       " 'findAllPrevious',\n",
       " 'findChild',\n",
       " 'findChildren',\n",
       " 'findNext',\n",
       " 'findNextSibling',\n",
       " 'findNextSiblings',\n",
       " 'findParent',\n",
       " 'findParents',\n",
       " 'findPrevious',\n",
       " 'findPreviousSibling',\n",
       " 'findPreviousSiblings',\n",
       " 'find_all',\n",
       " 'find_all_next',\n",
       " 'find_all_previous',\n",
       " 'find_next',\n",
       " 'find_next_sibling',\n",
       " 'find_next_siblings',\n",
       " 'find_parent',\n",
       " 'find_parents',\n",
       " 'find_previous',\n",
       " 'find_previous_sibling',\n",
       " 'find_previous_siblings',\n",
       " 'format_string',\n",
       " 'get',\n",
       " 'getText',\n",
       " 'get_text',\n",
       " 'has_attr',\n",
       " 'has_key',\n",
       " 'hidden',\n",
       " 'index',\n",
       " 'insert',\n",
       " 'insert_after',\n",
       " 'insert_before',\n",
       " 'isSelfClosing',\n",
       " 'is_empty_element',\n",
       " 'known_xml',\n",
       " 'name',\n",
       " 'namespace',\n",
       " 'next',\n",
       " 'nextGenerator',\n",
       " 'nextSibling',\n",
       " 'nextSiblingGenerator',\n",
       " 'next_element',\n",
       " 'next_elements',\n",
       " 'next_sibling',\n",
       " 'next_siblings',\n",
       " 'parent',\n",
       " 'parentGenerator',\n",
       " 'parents',\n",
       " 'parserClass',\n",
       " 'parser_class',\n",
       " 'prefix',\n",
       " 'preserve_whitespace_tags',\n",
       " 'prettify',\n",
       " 'previous',\n",
       " 'previousGenerator',\n",
       " 'previousSibling',\n",
       " 'previousSiblingGenerator',\n",
       " 'previous_element',\n",
       " 'previous_elements',\n",
       " 'previous_sibling',\n",
       " 'previous_siblings',\n",
       " 'quoted_colon',\n",
       " 'recursiveChildGenerator',\n",
       " 'renderContents',\n",
       " 'replaceWith',\n",
       " 'replaceWithChildren',\n",
       " 'replace_with',\n",
       " 'replace_with_children',\n",
       " 'select',\n",
       " 'select_one',\n",
       " 'setup',\n",
       " 'string',\n",
       " 'strings',\n",
       " 'stripped_strings',\n",
       " 'tag_name_re',\n",
       " 'text',\n",
       " 'unwrap',\n",
       " 'wrap']"
      ]
     },
     "execution_count": 20,
     "metadata": {},
     "output_type": "execute_result"
    }
   ],
   "source": [
    "dir(links[20])"
   ]
  },
  {
   "cell_type": "code",
   "execution_count": 35,
   "metadata": {
    "collapsed": false
   },
   "outputs": [],
   "source": [
    "x = links[20]"
   ]
  },
  {
   "cell_type": "code",
   "execution_count": 36,
   "metadata": {
    "collapsed": false
   },
   "outputs": [
    {
     "data": {
      "text/plain": [
       "['Who’s Who in the Graduate Program']"
      ]
     },
     "execution_count": 36,
     "metadata": {},
     "output_type": "execute_result"
    }
   ],
   "source": [
    "x.contents"
   ]
  },
  {
   "cell_type": "code",
   "execution_count": 37,
   "metadata": {
    "collapsed": false
   },
   "outputs": [
    {
     "data": {
      "text/plain": [
       "'http://www.soc.cornell.edu/graduate/whos-who/'"
      ]
     },
     "execution_count": 37,
     "metadata": {},
     "output_type": "execute_result"
    }
   ],
   "source": [
    "x['href']"
   ]
  },
  {
   "cell_type": "markdown",
   "metadata": {},
   "source": [
    "## After experimenting with the object and determining what we want, we can then loop through all the objects returned by the query"
   ]
  },
  {
   "cell_type": "code",
   "execution_count": 38,
   "metadata": {
    "collapsed": true
   },
   "outputs": [],
   "source": [
    "profiles = []\n",
    "for l in links:\n",
    "    if \"/people/faculty/\" in l['href']:\n",
    "        profiles.append(l['href'])"
   ]
  },
  {
   "cell_type": "code",
   "execution_count": 17,
   "metadata": {
    "collapsed": false
   },
   "outputs": [
    {
     "data": {
      "text/plain": [
       "['http://www.soc.cornell.edu/people/faculty/',\n",
       " 'http://www.soc.cornell.edu/people/faculty/',\n",
       " 'http://www.soc.cornell.edu/people/faculty/',\n",
       " 'http://www.soc.cornell.edu/people/faculty/alvarado/',\n",
       " 'http://www.soc.cornell.edu/people/faculty/berezin/',\n",
       " 'http://www.soc.cornell.edu/people/faculty/bischoff/',\n",
       " 'http://www.soc.cornell.edu/people/faculty/burton/',\n",
       " 'http://www.soc.cornell.edu/people/faculty/bcornwell/',\n",
       " 'http://www.soc.cornell.edu/people/faculty/garip/',\n",
       " 'http://www.soc.cornell.edu/people/faculty/haskins/',\n",
       " 'http://www.soc.cornell.edu/people/faculty/heckathorn/',\n",
       " 'http://www.soc.cornell.edu/people/faculty/lawler/',\n",
       " 'http://www.soc.cornell.edu/people/faculty/lichter/',\n",
       " 'http://www.soc.cornell.edu/people/faculty/macy/',\n",
       " 'http://www.soc.cornell.edu/people/faculty/maralani/',\n",
       " 'http://www.soc.cornell.edu/people/faculty/nee/',\n",
       " 'http://www.soc.cornell.edu/people/faculty/pinch/',\n",
       " 'http://www.soc.cornell.edu/people/faculty/strang/',\n",
       " 'http://www.soc.cornell.edu/people/faculty/swedberg/',\n",
       " 'http://www.soc.cornell.edu/people/faculty/weeden/',\n",
       " 'http://www.soc.cornell.edu/people/faculty/wethington/',\n",
       " 'http://www.soc.cornell.edu/people/faculty/eycornwell/',\n",
       " 'http://www.soc.cornell.edu/people/faculty/alvarado/',\n",
       " 'http://www.soc.cornell.edu/people/faculty/berezin/',\n",
       " 'http://www.soc.cornell.edu/people/faculty/bischoff/',\n",
       " 'http://www.soc.cornell.edu/people/faculty/burton/',\n",
       " 'http://www.soc.cornell.edu/people/faculty/bcornwell/',\n",
       " 'http://www.soc.cornell.edu/people/faculty/garip/',\n",
       " 'http://www.soc.cornell.edu/people/faculty/haskins/',\n",
       " 'http://www.soc.cornell.edu/people/faculty/heckathorn/',\n",
       " 'http://www.soc.cornell.edu/people/faculty/lawler/',\n",
       " 'http://www.soc.cornell.edu/people/faculty/lichter/',\n",
       " 'http://www.soc.cornell.edu/people/faculty/macy/',\n",
       " 'http://www.soc.cornell.edu/people/faculty/maralani/',\n",
       " 'http://www.soc.cornell.edu/people/faculty/nee/',\n",
       " 'http://www.soc.cornell.edu/people/faculty/pinch/',\n",
       " 'http://www.soc.cornell.edu/people/faculty/strang/',\n",
       " 'http://www.soc.cornell.edu/people/faculty/swedberg/',\n",
       " 'http://www.soc.cornell.edu/people/faculty/weeden/',\n",
       " 'http://www.soc.cornell.edu/people/faculty/wethington/',\n",
       " 'http://www.soc.cornell.edu/people/faculty/eycornwell/',\n",
       " 'http://www.soc.cornell.edu/people/faculty/scaldwell/']"
      ]
     },
     "execution_count": 17,
     "metadata": {},
     "output_type": "execute_result"
    }
   ],
   "source": [
    "profiles"
   ]
  },
  {
   "cell_type": "code",
   "execution_count": 39,
   "metadata": {
    "collapsed": false
   },
   "outputs": [],
   "source": [
    "##We can remove the incorrect links by applying a conditional filter to profiles\n",
    "profiles = [x for x in profiles if x.endswith('faculty/') == False]"
   ]
  },
  {
   "cell_type": "code",
   "execution_count": 40,
   "metadata": {
    "collapsed": false
   },
   "outputs": [
    {
     "data": {
      "text/plain": [
       "['http://www.soc.cornell.edu/people/faculty/alvarado/',\n",
       " 'http://www.soc.cornell.edu/people/faculty/berezin/',\n",
       " 'http://www.soc.cornell.edu/people/faculty/bischoff/',\n",
       " 'http://www.soc.cornell.edu/people/faculty/burton/',\n",
       " 'http://www.soc.cornell.edu/people/faculty/bcornwell/',\n",
       " 'http://www.soc.cornell.edu/people/faculty/garip/',\n",
       " 'http://www.soc.cornell.edu/people/faculty/haskins/',\n",
       " 'http://www.soc.cornell.edu/people/faculty/heckathorn/',\n",
       " 'http://www.soc.cornell.edu/people/faculty/lawler/',\n",
       " 'http://www.soc.cornell.edu/people/faculty/lichter/',\n",
       " 'http://www.soc.cornell.edu/people/faculty/macy/',\n",
       " 'http://www.soc.cornell.edu/people/faculty/maralani/',\n",
       " 'http://www.soc.cornell.edu/people/faculty/nee/',\n",
       " 'http://www.soc.cornell.edu/people/faculty/pinch/',\n",
       " 'http://www.soc.cornell.edu/people/faculty/strang/',\n",
       " 'http://www.soc.cornell.edu/people/faculty/swedberg/',\n",
       " 'http://www.soc.cornell.edu/people/faculty/weeden/',\n",
       " 'http://www.soc.cornell.edu/people/faculty/wethington/',\n",
       " 'http://www.soc.cornell.edu/people/faculty/eycornwell/',\n",
       " 'http://www.soc.cornell.edu/people/faculty/alvarado/',\n",
       " 'http://www.soc.cornell.edu/people/faculty/berezin/',\n",
       " 'http://www.soc.cornell.edu/people/faculty/bischoff/',\n",
       " 'http://www.soc.cornell.edu/people/faculty/burton/',\n",
       " 'http://www.soc.cornell.edu/people/faculty/bcornwell/',\n",
       " 'http://www.soc.cornell.edu/people/faculty/garip/',\n",
       " 'http://www.soc.cornell.edu/people/faculty/haskins/',\n",
       " 'http://www.soc.cornell.edu/people/faculty/heckathorn/',\n",
       " 'http://www.soc.cornell.edu/people/faculty/lawler/',\n",
       " 'http://www.soc.cornell.edu/people/faculty/lichter/',\n",
       " 'http://www.soc.cornell.edu/people/faculty/macy/',\n",
       " 'http://www.soc.cornell.edu/people/faculty/maralani/',\n",
       " 'http://www.soc.cornell.edu/people/faculty/nee/',\n",
       " 'http://www.soc.cornell.edu/people/faculty/pinch/',\n",
       " 'http://www.soc.cornell.edu/people/faculty/strang/',\n",
       " 'http://www.soc.cornell.edu/people/faculty/swedberg/',\n",
       " 'http://www.soc.cornell.edu/people/faculty/weeden/',\n",
       " 'http://www.soc.cornell.edu/people/faculty/wethington/',\n",
       " 'http://www.soc.cornell.edu/people/faculty/eycornwell/',\n",
       " 'http://www.soc.cornell.edu/people/faculty/scaldwell/']"
      ]
     },
     "execution_count": 40,
     "metadata": {},
     "output_type": "execute_result"
    }
   ],
   "source": [
    "profiles"
   ]
  },
  {
   "cell_type": "code",
   "execution_count": 41,
   "metadata": {
    "collapsed": false
   },
   "outputs": [
    {
     "name": "stdout",
     "output_type": "stream",
     "text": [
      "39\n",
      "20\n"
     ]
    }
   ],
   "source": [
    "#Note that there are many duplicates in the list...\n",
    "print(len(profiles))\n",
    "print(len(set(profiles)))"
   ]
  },
  {
   "cell_type": "code",
   "execution_count": 42,
   "metadata": {
    "collapsed": false
   },
   "outputs": [],
   "source": [
    "profiles = list(set(profiles))"
   ]
  },
  {
   "cell_type": "markdown",
   "metadata": {},
   "source": [
    "## Now we have a list of URLs we can retrieve the information from each by looping through the list and applying the function we created. The results can be saved in a dictionary."
   ]
  },
  {
   "cell_type": "code",
   "execution_count": 43,
   "metadata": {
    "collapsed": false
   },
   "outputs": [
    {
     "name": "stdout",
     "output_type": "stream",
     "text": [
      "Getting information from:  http://www.soc.cornell.edu/people/faculty/scaldwell/\n",
      "Getting information from:  http://www.soc.cornell.edu/people/faculty/burton/\n",
      "Getting information from:  http://www.soc.cornell.edu/people/faculty/bcornwell/\n",
      "Getting information from:  http://www.soc.cornell.edu/people/faculty/nee/\n",
      "Getting information from:  http://www.soc.cornell.edu/people/faculty/strang/\n",
      "Getting information from:  http://www.soc.cornell.edu/people/faculty/berezin/\n",
      "Getting information from:  http://www.soc.cornell.edu/people/faculty/heckathorn/\n",
      "Getting information from:  http://www.soc.cornell.edu/people/faculty/swedberg/\n",
      "Getting information from:  http://www.soc.cornell.edu/people/faculty/garip/\n",
      "Getting information from:  http://www.soc.cornell.edu/people/faculty/weeden/\n",
      "Getting information from:  http://www.soc.cornell.edu/people/faculty/alvarado/\n",
      "Getting information from:  http://www.soc.cornell.edu/people/faculty/haskins/\n",
      "Getting information from:  http://www.soc.cornell.edu/people/faculty/lichter/\n",
      "Getting information from:  http://www.soc.cornell.edu/people/faculty/bischoff/\n",
      "Getting information from:  http://www.soc.cornell.edu/people/faculty/pinch/\n",
      "Getting information from:  http://www.soc.cornell.edu/people/faculty/wethington/\n",
      "Getting information from:  http://www.soc.cornell.edu/people/faculty/macy/\n",
      "Getting information from:  http://www.soc.cornell.edu/people/faculty/maralani/\n",
      "Getting information from:  http://www.soc.cornell.edu/people/faculty/eycornwell/\n",
      "Getting information from:  http://www.soc.cornell.edu/people/faculty/lawler/\n"
     ]
    }
   ],
   "source": [
    "profile_contents = {}\n",
    "for p in profiles:\n",
    "    print(\"Getting information from: \", p)\n",
    "    soup = getSoup(p)\n",
    "    name = p.split('/')[-2]\n",
    "    profile_contents[name] = soup"
   ]
  },
  {
   "cell_type": "code",
   "execution_count": 44,
   "metadata": {
    "collapsed": false
   },
   "outputs": [
    {
     "name": "stdout",
     "output_type": "stream",
     "text": [
      "dict_keys(['bcornwell', 'maralani', 'swedberg', 'alvarado', 'lawler', 'macy', 'lichter', 'burton', 'garip', 'haskins', 'pinch', 'weeden', 'nee', 'wethington', 'scaldwell', 'bischoff', 'eycornwell', 'berezin', 'heckathorn', 'strang'])\n"
     ]
    }
   ],
   "source": [
    "print(profile_contents.keys())"
   ]
  },
  {
   "cell_type": "code",
   "execution_count": 45,
   "metadata": {
    "collapsed": false
   },
   "outputs": [
    {
     "data": {
      "text/plain": [
       "<!DOCTYPE html>\n",
       "\n",
       "<!--[if IE 7]>\n",
       "<html class=\"ie ie7\" lang=\"en-US\">\n",
       "<![endif]-->\n",
       "<!--[if IE 8]>\n",
       "<html class=\"ie ie8\" lang=\"en-US\">\n",
       "<![endif]-->\n",
       "<!--[if IE 9]>\n",
       "<html class=\"ie ie9\" lang=\"en-US\">\n",
       "<![endif]-->\n",
       "<!--[if !(IE 7) | !(IE 8) | !(IE 9)  ]><!-->\n",
       "<html lang=\"en-US\">\n",
       "<!--<![endif]-->\n",
       "<head>\n",
       "<meta charset=\"utf-8\">\n",
       "<title>Michael Macy | Department of Sociology</title>\n",
       "<meta content=\"width=device-width, initial-scale=1, maximum-scale=5\" name=\"viewport\">\n",
       "<meta content=\"IE=Edge\" http-equiv=\"X-UA-Compatible\">\n",
       "<link href=\"http://gmpg.org/xfn/11\" rel=\"profile\">\n",
       "<link href=\"http://www.soc.cornell.edu/xmlrpc.php\" rel=\"pingback\">\n",
       "<!-- CU Typekit fonts -->\n",
       "<script src=\"//use.typekit.net/gog6dck.js\" type=\"text/javascript\"></script>\n",
       "<script type=\"text/javascript\">try{Typekit.load();}catch(e){}</script>\n",
       "<link href=\"http://www.soc.cornell.edu/wp-content/themes/cornell_base/style/print.css\" media=\"print\" rel=\"stylesheet\" type=\"text/css\"/>\n",
       "<!--[if lt IE 9]>\n",
       "            <link rel=\"stylesheet\" type=\"text/css\" media=\"screen\" href=\"http://www.soc.cornell.edu/wp-content/themes/cornell_base/style/ie.css\" />\n",
       "            <script src=\"http://www.soc.cornell.edu/wp-content/themes/cornell_base/js/html5.js\"></script>\n",
       "        <![endif]-->\n",
       "<!--[if gte IE 9]>\n",
       "          <style type=\"text/css\">\n",
       "            .gradient {\n",
       "               filter: none;\n",
       "            }\n",
       "          </style>\n",
       "        <![endif]-->\n",
       "<script type=\"text/javascript\">window.jQuery || document.write('<script src=\"http://www.soc.cornell.edu/wp-content/themes/cornell_base/js/jquery-1.9.1.min.js\">\\x3C/script><script src=\"http://www.soc.cornell.edu/wp-content/themes/cornell_base/js/jquery-migrate-1.1.1.min.js\">\\x3C/script>')</script>\n",
       "<script src=\"http://www.soc.cornell.edu/wp-content/themes/cornell_base/js/modernizr.js\" type=\"text/javascript\"></script>\n",
       "<script src=\"http://www.soc.cornell.edu/wp-content/themes/cornell_base/js/layout.engine.min.js\" type=\"text/javascript\"></script><!-- target specific browsers -->\n",
       "<script src=\"http://www.soc.cornell.edu/wp-content/themes/cornell_base/js/jquery.fitvids.js\" type=\"text/javascript\"></script>\n",
       "<script src=\"http://www.soc.cornell.edu/wp-content/themes/cornell_base/js/jquery.matchHeight.js\" type=\"text/javascript\"></script>\n",
       "<script src=\"http://www.soc.cornell.edu/wp-content/themes/cornell_base/js/framework/iws.js\" type=\"text/javascript\"></script>\n",
       "<!--<script src=\"http://www.soc.cornell.edu/wp-content/themes/cornell_base/js/framework/iws_rotator.js\"></script>-->\n",
       "<!-- Initialize -->\n",
       "<script type=\"text/javascript\">\n",
       "\t\t\tvar js_path = \"http://www.soc.cornell.edu/wp-content/themes/cornell_base/js/framework/\";\n",
       "            iws_init();\n",
       "        </script>\n",
       "<link href=\"http://www.soc.cornell.edu/feed/\" rel=\"alternate\" title=\"Department of Sociology » Feed\" type=\"application/rss+xml\"/>\n",
       "<link href=\"http://www.soc.cornell.edu/comments/feed/\" rel=\"alternate\" title=\"Department of Sociology » Comments Feed\" type=\"application/rss+xml\"/>\n",
       "<script type=\"text/javascript\">\n",
       "\t\t\twindow._wpemojiSettings = {\"baseUrl\":\"https:\\/\\/s.w.org\\/images\\/core\\/emoji\\/72x72\\/\",\"ext\":\".png\",\"source\":{\"concatemoji\":\"http:\\/\\/blogs.cornell.edu\\/socy\\/wp-includes\\/js\\/wp-emoji-release.min.js?ver=4.4.5\"}};\n",
       "\t\t\t!function(a,b,c){function d(a){var c,d,e,f=b.createElement(\"canvas\"),g=f.getContext&&f.getContext(\"2d\"),h=String.fromCharCode;return g&&g.fillText?(g.textBaseline=\"top\",g.font=\"600 32px Arial\",\"flag\"===a?(g.fillText(h(55356,56806,55356,56826),0,0),f.toDataURL().length>3e3):\"diversity\"===a?(g.fillText(h(55356,57221),0,0),c=g.getImageData(16,16,1,1).data,g.fillText(h(55356,57221,55356,57343),0,0),c=g.getImageData(16,16,1,1).data,e=c[0]+\",\"+c[1]+\",\"+c[2]+\",\"+c[3],d!==e):(\"simple\"===a?g.fillText(h(55357,56835),0,0):g.fillText(h(55356,57135),0,0),0!==g.getImageData(16,16,1,1).data[0])):!1}function e(a){var c=b.createElement(\"script\");c.src=a,c.type=\"text/javascript\",b.getElementsByTagName(\"head\")[0].appendChild(c)}var f,g;c.supports={simple:d(\"simple\"),flag:d(\"flag\"),unicode8:d(\"unicode8\"),diversity:d(\"diversity\")},c.DOMReady=!1,c.readyCallback=function(){c.DOMReady=!0},c.supports.simple&&c.supports.flag&&c.supports.unicode8&&c.supports.diversity||(g=function(){c.readyCallback()},b.addEventListener?(b.addEventListener(\"DOMContentLoaded\",g,!1),a.addEventListener(\"load\",g,!1)):(a.attachEvent(\"onload\",g),b.attachEvent(\"onreadystatechange\",function(){\"complete\"===b.readyState&&c.readyCallback()})),f=c.source||{},f.concatemoji?e(f.concatemoji):f.wpemoji&&f.twemoji&&(e(f.twemoji),e(f.wpemoji)))}(window,document,window._wpemojiSettings);\n",
       "\t\t</script>\n",
       "<style type=\"text/css\">\n",
       "img.wp-smiley,\n",
       "img.emoji {\n",
       "\tdisplay: inline !important;\n",
       "\tborder: none !important;\n",
       "\tbox-shadow: none !important;\n",
       "\theight: 1em !important;\n",
       "\twidth: 1em !important;\n",
       "\tmargin: 0 .07em !important;\n",
       "\tvertical-align: -0.1em !important;\n",
       "\tbackground: none !important;\n",
       "\tpadding: 0 !important;\n",
       "}\n",
       "</style>\n",
       "<link href=\"http://www.soc.cornell.edu/wp-content/mu-plugins/campus-files/css/campus-public.css?ver=8\" id=\"campus-public-styles-css\" media=\"all\" rel=\"stylesheet\" type=\"text/css\"/>\n",
       "<link href=\"http://www.soc.cornell.edu/wp-content/plugins/live-stream-widget/css/live-stream-style.css?ver=4.4.5\" id=\"live-stream-style-css\" media=\"all\" rel=\"stylesheet\" type=\"text/css\"/>\n",
       "<link href=\"http://www.soc.cornell.edu/wp-content/themes/cornell_base/style.css?ver=2013-07-18\" id=\"cornell_base-style-css\" media=\"all\" rel=\"stylesheet\" type=\"text/css\"/>\n",
       "<link href=\"http://www.soc.cornell.edu/wp-content/mu-plugins/subscribe-by-email/assets/css/widget.css?ver=20131002\" id=\"subscribe-by-email-widget-css-css\" media=\"all\" rel=\"stylesheet\" type=\"text/css\"/>\n",
       "<link href=\"http://www.soc.cornell.edu/wp-content/plugins/www-data/blogs.cornell.edu/wp-content/themes/cornell_base/tw-recent-posts-widget.css?ver=1.0.5\" id=\"tw-recent-posts-widget-css\" media=\"screen\" rel=\"stylesheet\" type=\"text/css\"/>\n",
       "<script src=\"http://www.soc.cornell.edu/wp-includes/js/jquery/jquery.js?ver=1.11.3\" type=\"text/javascript\"></script>\n",
       "<script src=\"http://www.soc.cornell.edu/wp-includes/js/jquery/jquery-migrate.min.js?ver=1.2.1\" type=\"text/javascript\"></script>\n",
       "<script type=\"text/javascript\">\n",
       "/* <![CDATA[ */\n",
       "var live_stream_data = {\"ajaxurl\":\"http:\\/\\/www.soc.cornell.edu\\/wp-admin\\/admin-ajax.php\"};\n",
       "/* ]]> */\n",
       "</script>\n",
       "<script src=\"http://www.soc.cornell.edu/wp-content/plugins/live-stream-widget/js/live-stream.js?ver=4.4.5\" type=\"text/javascript\"></script>\n",
       "<link href=\"http://www.soc.cornell.edu/wp-json/\" rel=\"https://api.w.org/\"/>\n",
       "<link href=\"https://www.soc.cornell.edu/xmlrpc.php?rsd\" rel=\"EditURI\" title=\"RSD\" type=\"application/rsd+xml\"/>\n",
       "<link href=\"http://blogs.cornell.edu/socy/wp-includes/wlwmanifest.xml\" rel=\"wlwmanifest\" type=\"application/wlwmanifest+xml\"/>\n",
       "<meta content=\"Cornell Blog Service\" name=\"generator\"/>\n",
       "<link href=\"http://www.soc.cornell.edu/people/faculty/macy/\" rel=\"canonical\"/>\n",
       "<link href=\"http://www.soc.cornell.edu/?p=1046\" rel=\"shortlink\"/>\n",
       "<link href=\"http://www.soc.cornell.edu/wp-json/oembed/1.0/embed?url=http%3A%2F%2Fwww.soc.cornell.edu%2Fpeople%2Ffaculty%2Fmacy%2F\" rel=\"alternate\" type=\"application/json+oembed\"/>\n",
       "<link href=\"http://www.soc.cornell.edu/wp-json/oembed/1.0/embed?url=http%3A%2F%2Fwww.soc.cornell.edu%2Fpeople%2Ffaculty%2Fmacy%2F&amp;format=xml\" rel=\"alternate\" type=\"text/xml+oembed\"/>\n",
       "<script type=\"text/javascript\">\n",
       "\t\t\t\tvar _gaq = _gaq || [];\n",
       "\n",
       "\t\t\t\t\t\t\t\t\t_gaq.push(['_setAccount', 'UA-1215061-35']);\n",
       "\t\t\t\t\t\t\t\t\t\t\t\t\t\t\t\t\t\t_gaq.push(['_setDomainName', 'none']);\n",
       "\t\t\t\t\t\t\t_gaq.push(['_setAllowLinker', true]);\n",
       "\t\t\t\t\t\t\t\t\t\t\t\t_gaq.push(['_setAllowHash', false]);\n",
       "\t\t\t\t\t                    \t\t\t\t\t_gaq.push(['_trackPageview']);\n",
       "\t\t\t\t\n",
       "\t\t\t\t\n",
       "\t\t\t\t(function() {\n",
       "\t\t\t\tvar ga = document.createElement('script'); ga.type = 'text/javascript'; ga.async = true;\n",
       "                \t\t\t\t    ga.src = ('https:' == document.location.protocol ? 'https://ssl' : 'http://www') + '.google-analytics.com/ga.js';\n",
       "                \t\t\t\tvar s = document.getElementsByTagName('script')[0]; s.parentNode.insertBefore(ga, s);\n",
       "\t\t\t\t})();\n",
       "\t\t\t</script>\n",
       "<style type=\"text/css\">\n",
       "    .calnk a:hover {\n",
       "         background-position:0 0;\n",
       "         text-decoration:none;  \n",
       "         color:#000000;\n",
       "         border-bottom:1px dotted #000000;\n",
       "         }\n",
       "    .calnk a:visited {\n",
       "         text-decoration:none;\n",
       "         color:#000000;\n",
       "         border-bottom:1px dotted #000000;\n",
       "        }\n",
       "    .calnk a {\n",
       "        text-decoration:none; \n",
       "        color:#000000; \n",
       "        border-bottom:1px dotted #000000;\n",
       "        }\n",
       "    .calnk a span { \n",
       "        display:none; \n",
       "        }\n",
       "    .calnk a:hover span {\n",
       "        color:#333333; \n",
       "        background:#f4f1ed; \n",
       "        display:block;\n",
       "        position:absolute; \n",
       "        margin-top:1px; \n",
       "        padding:5px; \n",
       "        width:150px; \n",
       "        z-index:100;\n",
       "        line-height:1.2em;\n",
       "        }\n",
       "     .calendar-table {\n",
       "        border:none;\n",
       "        width:100%;\n",
       "     }\n",
       "     .calendar-heading {\n",
       "        height:25px;\n",
       "        text-align:center;\n",
       "        border:1px solid #D6DED5;\n",
       "        background-color:#D3D3D3;\n",
       "     }\n",
       "     .calendar-next {\n",
       "        width:25%;\n",
       "        text-align:center;\n",
       "     }\n",
       "     .calendar-prev {\n",
       "        width:25%;\n",
       "        text-align:center;\n",
       "     }\n",
       "     .calendar-month {\n",
       "        width:60%;\n",
       "        text-align:center;\n",
       "        font-weight:bold;\n",
       "     }\n",
       "     .normal-day-heading {\n",
       "        text-align:center;\n",
       "        width:25px;\n",
       "        height:25px;\n",
       "        font-size:0.8em;\n",
       "        border:1px solid #DFE6DE;\n",
       "        background-color:#D3D3D3;\n",
       "     }\n",
       "     .weekend-heading {\n",
       "        text-align:center;\n",
       "        width:25px;\n",
       "        height:25px;\n",
       "        font-size:0.8em;\n",
       "        border:1px solid #DFE6DE;\n",
       "        background-color:#D8D2C9;\n",
       "        color:#222222;\n",
       "     }\n",
       "     .day-with-date {\n",
       "        vertical-align:text-top;\n",
       "        text-align:left;\n",
       "        width:60px;\n",
       "        height:60px;\n",
       "        border:1px solid #DFE6DE;\n",
       "     }\n",
       "     .no-events {\n",
       "\n",
       "     }\n",
       "     .day-without-date {\n",
       "        width:60px;\n",
       "        height:60px;\n",
       "        border:1px solid #E9F0E8;\n",
       "     }\n",
       "     span.weekend {\n",
       "        color:#a2998b;\n",
       "     }\n",
       "     .current-day {\n",
       "        vertical-align:text-top;\n",
       "        text-align:left;\n",
       "        width:60px;\n",
       "        height:60px;\n",
       "        border:1px solid #B31B1B;\n",
       "        background-color:#89CCE2;\n",
       "     }\n",
       "     span.event {\n",
       "        font-size:0.75em;\n",
       "     }\n",
       "     .kjo-link {\n",
       "        font-size:0.75em;\n",
       "        text-align:center;\n",
       "     }\n",
       "     .calendar-date-switcher {\n",
       "        height:25px;\n",
       "        text-align:center;\n",
       "        border:1px solid #D6DED5;\n",
       "        background-color:#E4EBE3;\n",
       "     }\n",
       "     .calendar-date-switcher form {\n",
       "        margin:0;\n",
       "        padding:0;\n",
       "     }\n",
       "     .calendar-date-switcher input {\n",
       "        border:1px #D6DED5 solid;\n",
       "     }\n",
       "     .calendar-date-switcher select {\n",
       "        border:1px #D6DED5 solid;\n",
       "     }\n",
       "     .cat-key {\n",
       "        width:100%;\n",
       "        margin-top:10px;\n",
       "        padding:5px;\n",
       "        border:1px solid #D6DED5;\n",
       "     }\n",
       "     .calnk a:hover span span.event-title {\n",
       "        padding:0;\n",
       "        text-align:center;\n",
       "        font-weight:bold;\n",
       "        font-size:1.2em;\n",
       "        }\n",
       "     .calnk a:hover span span.event-title-break {\n",
       "        width:96%;\n",
       "        text-align:center;\n",
       "        height:1px;\n",
       "        margin-top:5px;\n",
       "        margin-right:2%;\n",
       "        padding:0;\n",
       "        background-color:#000000;\n",
       "     }\n",
       "     .calnk a:hover span span.event-content-break {\n",
       "        width:96%;\n",
       "        text-align:center;\n",
       "        height:1px;\n",
       "        margin-top:5px;\n",
       "        margin-right:2%;\n",
       "        padding:0;\n",
       "        background-color:#000000;\n",
       "     }\n",
       "     .page-upcoming-events {\n",
       "        font-size:80%;\n",
       "     }\n",
       "     .page-todays-events {\n",
       "        font-size:80%;\n",
       "     }\n",
       "</style>\n",
       "<link href=\"https://s3-external-1.amazonaws.com/files.campus.edublogs.org/blogs.cornell.edu/dist/favicon/favicon.png\" rel=\"shortcut icon\"/><style type=\"text/css\">\n",
       "/* <![CDATA[ */\n",
       "img.latex { vertical-align: middle; border: none; }\n",
       "/* ]]> */\n",
       "</style>\n",
       "<!-- Dynamic Widgets by QURL - http://www.qurl.nl //-->\n",
       "<style id=\"cornell_base-header-css\" type=\"text/css\">\n",
       "\t\t\t#image-band {\n",
       "\t\t\tfloat: left;\n",
       "\t\t\twidth: 100%;\n",
       "\t\t\tclear: both;\n",
       "\t\t\tposition: relative;\n",
       "\t\t\tbackground: url(http://www.soc.cornell.edu/wp-content/themes/cornell_base/images/headers/header_image_03.jpg) no-repeat 0 0;\n",
       "\t\t\tbackground-position: 0 31.59%;\t\t\t-webkit-background-size: cover;\n",
       "\t\t\t-moz-background-size: cover;\n",
       "\t\t\t-o-background-size: cover;\n",
       "\t\t\tbackground-size: cover !important;\n",
       "\t\t}\n",
       "\n",
       "  \n",
       "\n",
       "\t</style>\n",
       "</link></link></meta></meta></meta></head>\n",
       "<body class=\"page page-id-1046 page-child parent-pageid-463 page-template-default singlecolumnblog sidebar_left twocolumn single-author no-avatars secondary\">\n",
       "<div id=\"skipnav\"><a href=\"#content\">Skip to main content</a></div>\n",
       "<div id=\"search-box\">\n",
       "<div id=\"search-box-content\">\n",
       "<div class=\"options\" id=\"cu-search\">\n",
       "<form action=\"http://www.soc.cornell.edu/\" method=\"get\">\n",
       "<div id=\"search-form\">\n",
       "<label for=\"search-form-query\">SEARCH:</label>\n",
       "<input name=\"cx\" type=\"hidden\" value=\"011895235015245787991:gf_zlivn_9i\"/>\n",
       "<input name=\"cof\" type=\"hidden\" value=\"FORID:11\"/>\n",
       "<input name=\"ie\" type=\"hidden\" value=\"UTF-8\"/>\n",
       "<input id=\"search-form-query\" name=\"s\" size=\"20\" type=\"text\" value=\"\"/>\n",
       "<input id=\"search-form-submit\" name=\"btnG\" type=\"submit\" value=\"go\"/>\n",
       "<div id=\"search-filters\">\n",
       "<input checked=\"checked\" id=\"search-filters1\" name=\"sitesearch\" type=\"radio\" value=\"thissite\"/>\n",
       "<label for=\"search-filters1\">This Site</label>\n",
       "<input id=\"search-filters2\" name=\"sitesearch\" type=\"radio\" value=\"cornell\"/>\n",
       "<label for=\"search-filters2\">Cornell</label>\n",
       "<a href=\"http://www.cornell.edu/search/\" title=\"more options\">more options</a> </div>\n",
       "</div>\n",
       "</form>\n",
       "</div>\n",
       "</div><!-- #search-box-content -->\n",
       "</div><!-- #search-box -->\n",
       "<div class=\"theme_white75 tagline\" id=\"cu-identity\">\n",
       "<div id=\"cu-identity-content\">\n",
       "<div id=\"cu-brand-wrapper\">\n",
       "<div id=\"cu-brand\">\n",
       "<!-- large insignia layout -->\n",
       "<div id=\"search-button\">\n",
       "<p><a href=\"#\" title=\"Search This Site\">Search This Site</a></p>\n",
       "</div>\n",
       "<div id=\"navigation-bar\">\n",
       "<div id=\"navigation-wrap\">\n",
       "<div id=\"navigation\">\n",
       "<h3><em>menu</em></h3><!-- mobile drop down navigation -->\n",
       "<div class=\"menu-main-menu-container\"><ul class=\"main nav-menu\" id=\"menu-main-menu\"><li class=\"menu-item menu-item-type-custom menu-item-object-custom menu-item-7\" id=\"menu-item-7\"><a href=\"http://blogs.cornell.edu/socy/\">Home</a></li>\n",
       "<li class=\"menu-item menu-item-type-post_type menu-item-object-page current-page-ancestor menu-item-has-children menu-item-66\" id=\"menu-item-66\"><a href=\"http://www.soc.cornell.edu/people/\">People</a>\n",
       "<div class=\"nav-arrow closed\"></div><ul class=\"sub-menu closed\">\n",
       "<li class=\"menu-item menu-item-type-post_type menu-item-object-page current-page-ancestor menu-item-479\" id=\"menu-item-479\"><a href=\"http://www.soc.cornell.edu/people/faculty/\">Faculty and Field</a></li>\n",
       "<li class=\"menu-item menu-item-type-custom menu-item-object-custom menu-item-1908\" id=\"menu-item-1908\"><a href=\"http://www.soc.cornell.edu/people/faculty#post-docs\">Postdoctoral Fellows</a></li>\n",
       "<li class=\"menu-item menu-item-type-post_type menu-item-object-page menu-item-95\" id=\"menu-item-95\"><a href=\"http://www.soc.cornell.edu/people/gradstudents/\">Graduate Students</a></li>\n",
       "<li class=\"menu-item menu-item-type-post_type menu-item-object-page menu-item-94\" id=\"menu-item-94\"><a href=\"http://www.soc.cornell.edu/people/phds-on-the-market/\">PhDs on the Market</a></li>\n",
       "<li class=\"menu-item menu-item-type-post_type menu-item-object-page menu-item-1587\" id=\"menu-item-1587\"><a href=\"http://www.soc.cornell.edu/people/job-openings/\">Job Openings</a></li>\n",
       "<li class=\"menu-item menu-item-type-post_type menu-item-object-page menu-item-96\" id=\"menu-item-96\"><a href=\"http://www.soc.cornell.edu/people/staff/\">Staff</a></li>\n",
       "</ul>\n",
       "</li>\n",
       "<li class=\"menu-item menu-item-type-custom menu-item-object-custom menu-item-has-children menu-item-1882\" id=\"menu-item-1882\"><a href=\"http://blogs.cornell.edu/socy/events\">Events</a>\n",
       "<div class=\"nav-arrow closed\"></div><ul class=\"sub-menu closed\">\n",
       "<li class=\"menu-item menu-item-type-custom menu-item-object-custom menu-item-has-children menu-item-1884\" id=\"menu-item-1884\"><a href=\"http://blogs.cornell.edu/socy/events/\">Department Events</a>\n",
       "<div class=\"nav-arrow closed\"></div><ul class=\"sub-menu closed\">\n",
       "<li class=\"menu-item menu-item-type-custom menu-item-object-custom menu-item-1886\" id=\"menu-item-1886\"><a href=\"http://blogs.cornell.edu/socy/events/\">Department Events – Current</a></li>\n",
       "<li class=\"menu-item menu-item-type-post_type menu-item-object-page menu-item-1830\" id=\"menu-item-1830\"><a href=\"http://www.soc.cornell.edu/events/sociology-events-2015-16/\">Sociology Events 2015-16</a></li>\n",
       "<li class=\"menu-item menu-item-type-post_type menu-item-object-page menu-item-1431\" id=\"menu-item-1431\"><a href=\"http://www.soc.cornell.edu/events/sociology-events-2014-15/\">Sociology Events 2014-15</a></li>\n",
       "</ul>\n",
       "</li>\n",
       "<li class=\"menu-item menu-item-type-custom menu-item-object-custom menu-item-133\" id=\"menu-item-133\"><a href=\"http://inequality.cornell.edu/csi-events/\">CSI Events</a></li>\n",
       "<li class=\"menu-item menu-item-type-custom menu-item-object-custom menu-item-132\" id=\"menu-item-132\"><a href=\"http://www.economyandsociety.org/events/\">CSES Events</a></li>\n",
       "</ul>\n",
       "</li>\n",
       "<li class=\"menu-item menu-item-type-post_type menu-item-object-page menu-item-has-children menu-item-64\" id=\"menu-item-64\"><a href=\"http://www.soc.cornell.edu/graduate/\">Graduate Program</a>\n",
       "<div class=\"nav-arrow closed\"></div><ul class=\"sub-menu closed\">\n",
       "<li class=\"menu-item menu-item-type-post_type menu-item-object-page menu-item-959\" id=\"menu-item-959\"><a href=\"http://www.soc.cornell.edu/graduate/\">Introduction to the Graduate Program</a></li>\n",
       "<li class=\"menu-item menu-item-type-post_type menu-item-object-page menu-item-202\" id=\"menu-item-202\"><a href=\"http://www.soc.cornell.edu/graduate/whos-who/\">Who’s Who in the Graduate Program</a></li>\n",
       "<li class=\"menu-item menu-item-type-post_type menu-item-object-page menu-item-201\" id=\"menu-item-201\"><a href=\"http://www.soc.cornell.edu/graduate/grad-program/\">Program Requirements</a></li>\n",
       "<li class=\"menu-item menu-item-type-post_type menu-item-object-page menu-item-200\" id=\"menu-item-200\"><a href=\"http://www.soc.cornell.edu/graduate/grad-funding/\">Funding for Graduate Studies</a></li>\n",
       "<li class=\"menu-item menu-item-type-post_type menu-item-object-page menu-item-199\" id=\"menu-item-199\"><a href=\"http://www.soc.cornell.edu/graduate/admissions/\">Admissions Procedures</a></li>\n",
       "<li class=\"menu-item menu-item-type-post_type menu-item-object-page menu-item-198\" id=\"menu-item-198\"><a href=\"http://www.soc.cornell.edu/graduate/placement/\">Recent Placements</a></li>\n",
       "<li class=\"menu-item menu-item-type-post_type menu-item-object-page menu-item-197\" id=\"menu-item-197\"><a href=\"http://www.soc.cornell.edu/graduate/awards/\">Awards and Accomplishments</a></li>\n",
       "<li class=\"menu-item menu-item-type-custom menu-item-object-custom menu-item-204\" id=\"menu-item-204\"><a href=\"http://people.soc.cornell.edu/files/courses/soc-courses-2016-2017.pdf\">2016-17 Sociology Course List</a></li>\n",
       "<li class=\"menu-item menu-item-type-custom menu-item-object-custom menu-item-205\" id=\"menu-item-205\"><a href=\"http://courses.cornell.edu/preview_program.php?catoid=28&amp;poid=13976\">2016-17 Course Descriptions</a></li>\n",
       "<li class=\"menu-item menu-item-type-custom menu-item-object-custom menu-item-206\" id=\"menu-item-206\"><a href=\"https://classes.cornell.edu/browse/inbound/subject/SOC\">Course Roster</a></li>\n",
       "</ul>\n",
       "</li>\n",
       "<li class=\"menu-item menu-item-type-post_type menu-item-object-page menu-item-has-children menu-item-1924\" id=\"menu-item-1924\"><a href=\"http://www.soc.cornell.edu/undergrad/what-is-sociology/\">Undergraduate Program</a>\n",
       "<div class=\"nav-arrow closed\"></div><ul class=\"sub-menu closed\">\n",
       "<li class=\"menu-item menu-item-type-post_type menu-item-object-page menu-item-235\" id=\"menu-item-235\"><a href=\"http://www.soc.cornell.edu/undergrad/what-is-sociology/\">What is Sociology?</a></li>\n",
       "<li class=\"menu-item menu-item-type-post_type menu-item-object-page menu-item-751\" id=\"menu-item-751\"><a href=\"http://www.soc.cornell.edu/undergrad/\">Exploring Sociology at Cornell</a></li>\n",
       "<li class=\"menu-item menu-item-type-post_type menu-item-object-page menu-item-234\" id=\"menu-item-234\"><a href=\"http://www.soc.cornell.edu/undergrad/why-major/\">Why Major in Sociology?</a></li>\n",
       "<li class=\"menu-item menu-item-type-post_type menu-item-object-page menu-item-233\" id=\"menu-item-233\"><a href=\"http://www.soc.cornell.edu/undergrad/soc-major/\">The Sociology Major</a></li>\n",
       "<li class=\"menu-item menu-item-type-post_type menu-item-object-page menu-item-232\" id=\"menu-item-232\"><a href=\"http://www.soc.cornell.edu/undergrad/honors-program/\">Honors Program</a></li>\n",
       "<li class=\"menu-item menu-item-type-post_type menu-item-object-page menu-item-231\" id=\"menu-item-231\"><a href=\"http://www.soc.cornell.edu/undergrad/awards/\">Undergraduate Awards</a></li>\n",
       "<li class=\"menu-item menu-item-type-post_type menu-item-object-page menu-item-230\" id=\"menu-item-230\"><a href=\"http://www.soc.cornell.edu/undergrad/additional-info/\">Additional Information for Majors</a></li>\n",
       "<li class=\"menu-item menu-item-type-post_type menu-item-object-page menu-item-229\" id=\"menu-item-229\"><a href=\"http://www.soc.cornell.edu/undergrad/transfer-credits/\">Transfer Credits</a></li>\n",
       "<li class=\"menu-item menu-item-type-custom menu-item-object-custom menu-item-225\" id=\"menu-item-225\"><a href=\"http://people.soc.cornell.edu/files/courses/soc-courses-2016-2017.pdf\">2016-17 Sociology Course List</a></li>\n",
       "<li class=\"menu-item menu-item-type-custom menu-item-object-custom menu-item-226\" id=\"menu-item-226\"><a href=\"http://courses.cornell.edu/preview_program.php?catoid=28&amp;poid=13976\">2016-17 Course Descriptions</a></li>\n",
       "<li class=\"menu-item menu-item-type-custom menu-item-object-custom menu-item-227\" id=\"menu-item-227\"><a href=\"https://classes.cornell.edu/browse/inbound/subject/SOC\">Course Roster</a></li>\n",
       "</ul>\n",
       "</li>\n",
       "<li class=\"menu-item menu-item-type-post_type menu-item-object-page menu-item-has-children menu-item-71\" id=\"menu-item-71\"><a href=\"http://www.soc.cornell.edu/research-centers/\">Research Centers</a>\n",
       "<div class=\"nav-arrow closed\"></div><ul class=\"sub-menu closed\">\n",
       "<li class=\"menu-item menu-item-type-custom menu-item-object-custom menu-item-981\" id=\"menu-item-981\"><a href=\"http://www.economyandsociety.org/\">Economy and Society</a></li>\n",
       "<li class=\"menu-item menu-item-type-custom menu-item-object-custom menu-item-982\" id=\"menu-item-982\"><a href=\"http://inequality.cornell.edu/\">Inequality</a></li>\n",
       "<li class=\"menu-item menu-item-type-custom menu-item-object-custom menu-item-983\" id=\"menu-item-983\"><a href=\"http://www.einaudi.cornell.edu/\">International Studies</a></li>\n",
       "<li class=\"menu-item menu-item-type-custom menu-item-object-custom menu-item-987\" id=\"menu-item-987\"><a href=\"http://www.bctr.cornell.edu/\">Lifecourse</a></li>\n",
       "<li class=\"menu-item menu-item-type-custom menu-item-object-custom menu-item-984\" id=\"menu-item-984\"><a href=\"http://www.cpc.cornell.edu\">Population</a></li>\n",
       "<li class=\"menu-item menu-item-type-custom menu-item-object-custom menu-item-985\" id=\"menu-item-985\"><a href=\"http://sdl.soc.cornell.edu/\">Social Dynamics Laboratory</a></li>\n",
       "<li class=\"menu-item menu-item-type-post_type menu-item-object-page menu-item-986\" id=\"menu-item-986\"><a href=\"http://www.soc.cornell.edu/research-centers/\">Other Research Resources</a></li>\n",
       "</ul>\n",
       "</li>\n",
       "<li class=\"menu-item menu-item-type-post_type menu-item-object-page menu-item-has-children menu-item-239\" id=\"menu-item-239\"><a href=\"http://www.soc.cornell.edu/about/\">About the Department</a>\n",
       "<div class=\"nav-arrow closed\"></div><ul class=\"sub-menu closed\">\n",
       "<li class=\"menu-item menu-item-type-post_type menu-item-object-page menu-item-1198\" id=\"menu-item-1198\"><a href=\"http://www.soc.cornell.edu/about/\">Department Profile</a></li>\n",
       "<li class=\"menu-item menu-item-type-post_type menu-item-object-page menu-item-449\" id=\"menu-item-449\"><a href=\"http://www.soc.cornell.edu/about/department-history/\">Department History</a></li>\n",
       "<li class=\"menu-item menu-item-type-post_type menu-item-object-page menu-item-242\" id=\"menu-item-242\"><a href=\"http://www.soc.cornell.edu/about/contact/\">Contact Information</a></li>\n",
       "</ul>\n",
       "</li>\n",
       "</ul></div> </div>\n",
       "</div>\n",
       "</div><!-- #navigation-bar -->\n",
       "<div id=\"cu-seal\"> <a href=\"http://www.cornell.edu/\" title=\"Cornell University\">\n",
       "<img alt=\"Cornell University\" src=\"http://www.soc.cornell.edu/wp-content/themes/cornell_base/images/cornell_identity/theme_white75.png\"/></a>\n",
       "</div>\n",
       "<div id=\"custom-branding\">\n",
       "<h1><a class=\"home-link\" href=\"http://www.soc.cornell.edu/\" style=\"color: #b31b1b\">Department of Sociology</a></h1>\n",
       "<h2 style=\"color: \">Cornell University</h2>\n",
       "</div>\n",
       "</div><!-- #cu-brand -->\n",
       "</div><!-- #cu-brand-wrapper -->\n",
       "<!-- end banner layouts -->\n",
       "</div><!-- #cu-identity-content -->\n",
       "</div><!-- #cu-identity -->\n",
       "<div id=\"wrap\">\n",
       "<div id=\"header\">\n",
       "<div id=\"header-band\">\n",
       "<div id=\"identity\">\n",
       "<div id=\"navigation-bar\">\n",
       "<div id=\"navigation-wrap\">\n",
       "<div id=\"navigation\">\n",
       "<div class=\"menu-main-menu-container\"><ul class=\"main nav-menu\" id=\"menu-main-menu-1\"><li class=\"menu-item menu-item-type-custom menu-item-object-custom menu-item-7\"><a href=\"http://blogs.cornell.edu/socy/\">Home</a></li>\n",
       "<li class=\"menu-item menu-item-type-post_type menu-item-object-page current-page-ancestor menu-item-has-children menu-item-66\"><a href=\"http://www.soc.cornell.edu/people/\">People</a>\n",
       "<div class=\"nav-arrow closed\"></div><ul class=\"sub-menu closed\">\n",
       "<li class=\"menu-item menu-item-type-post_type menu-item-object-page current-page-ancestor menu-item-479\"><a href=\"http://www.soc.cornell.edu/people/faculty/\">Faculty and Field</a></li>\n",
       "<li class=\"menu-item menu-item-type-custom menu-item-object-custom menu-item-1908\"><a href=\"http://www.soc.cornell.edu/people/faculty#post-docs\">Postdoctoral Fellows</a></li>\n",
       "<li class=\"menu-item menu-item-type-post_type menu-item-object-page menu-item-95\"><a href=\"http://www.soc.cornell.edu/people/gradstudents/\">Graduate Students</a></li>\n",
       "<li class=\"menu-item menu-item-type-post_type menu-item-object-page menu-item-94\"><a href=\"http://www.soc.cornell.edu/people/phds-on-the-market/\">PhDs on the Market</a></li>\n",
       "<li class=\"menu-item menu-item-type-post_type menu-item-object-page menu-item-1587\"><a href=\"http://www.soc.cornell.edu/people/job-openings/\">Job Openings</a></li>\n",
       "<li class=\"menu-item menu-item-type-post_type menu-item-object-page menu-item-96\"><a href=\"http://www.soc.cornell.edu/people/staff/\">Staff</a></li>\n",
       "</ul>\n",
       "</li>\n",
       "<li class=\"menu-item menu-item-type-custom menu-item-object-custom menu-item-has-children menu-item-1882\"><a href=\"http://blogs.cornell.edu/socy/events\">Events</a>\n",
       "<div class=\"nav-arrow closed\"></div><ul class=\"sub-menu closed\">\n",
       "<li class=\"menu-item menu-item-type-custom menu-item-object-custom menu-item-has-children menu-item-1884\"><a href=\"http://blogs.cornell.edu/socy/events/\">Department Events</a>\n",
       "<div class=\"nav-arrow closed\"></div><ul class=\"sub-menu closed\">\n",
       "<li class=\"menu-item menu-item-type-custom menu-item-object-custom menu-item-1886\"><a href=\"http://blogs.cornell.edu/socy/events/\">Department Events – Current</a></li>\n",
       "<li class=\"menu-item menu-item-type-post_type menu-item-object-page menu-item-1830\"><a href=\"http://www.soc.cornell.edu/events/sociology-events-2015-16/\">Sociology Events 2015-16</a></li>\n",
       "<li class=\"menu-item menu-item-type-post_type menu-item-object-page menu-item-1431\"><a href=\"http://www.soc.cornell.edu/events/sociology-events-2014-15/\">Sociology Events 2014-15</a></li>\n",
       "</ul>\n",
       "</li>\n",
       "<li class=\"menu-item menu-item-type-custom menu-item-object-custom menu-item-133\"><a href=\"http://inequality.cornell.edu/csi-events/\">CSI Events</a></li>\n",
       "<li class=\"menu-item menu-item-type-custom menu-item-object-custom menu-item-132\"><a href=\"http://www.economyandsociety.org/events/\">CSES Events</a></li>\n",
       "</ul>\n",
       "</li>\n",
       "<li class=\"menu-item menu-item-type-post_type menu-item-object-page menu-item-has-children menu-item-64\"><a href=\"http://www.soc.cornell.edu/graduate/\">Graduate Program</a>\n",
       "<div class=\"nav-arrow closed\"></div><ul class=\"sub-menu closed\">\n",
       "<li class=\"menu-item menu-item-type-post_type menu-item-object-page menu-item-959\"><a href=\"http://www.soc.cornell.edu/graduate/\">Introduction to the Graduate Program</a></li>\n",
       "<li class=\"menu-item menu-item-type-post_type menu-item-object-page menu-item-202\"><a href=\"http://www.soc.cornell.edu/graduate/whos-who/\">Who’s Who in the Graduate Program</a></li>\n",
       "<li class=\"menu-item menu-item-type-post_type menu-item-object-page menu-item-201\"><a href=\"http://www.soc.cornell.edu/graduate/grad-program/\">Program Requirements</a></li>\n",
       "<li class=\"menu-item menu-item-type-post_type menu-item-object-page menu-item-200\"><a href=\"http://www.soc.cornell.edu/graduate/grad-funding/\">Funding for Graduate Studies</a></li>\n",
       "<li class=\"menu-item menu-item-type-post_type menu-item-object-page menu-item-199\"><a href=\"http://www.soc.cornell.edu/graduate/admissions/\">Admissions Procedures</a></li>\n",
       "<li class=\"menu-item menu-item-type-post_type menu-item-object-page menu-item-198\"><a href=\"http://www.soc.cornell.edu/graduate/placement/\">Recent Placements</a></li>\n",
       "<li class=\"menu-item menu-item-type-post_type menu-item-object-page menu-item-197\"><a href=\"http://www.soc.cornell.edu/graduate/awards/\">Awards and Accomplishments</a></li>\n",
       "<li class=\"menu-item menu-item-type-custom menu-item-object-custom menu-item-204\"><a href=\"http://people.soc.cornell.edu/files/courses/soc-courses-2016-2017.pdf\">2016-17 Sociology Course List</a></li>\n",
       "<li class=\"menu-item menu-item-type-custom menu-item-object-custom menu-item-205\"><a href=\"http://courses.cornell.edu/preview_program.php?catoid=28&amp;poid=13976\">2016-17 Course Descriptions</a></li>\n",
       "<li class=\"menu-item menu-item-type-custom menu-item-object-custom menu-item-206\"><a href=\"https://classes.cornell.edu/browse/inbound/subject/SOC\">Course Roster</a></li>\n",
       "</ul>\n",
       "</li>\n",
       "<li class=\"menu-item menu-item-type-post_type menu-item-object-page menu-item-has-children menu-item-1924\"><a href=\"http://www.soc.cornell.edu/undergrad/what-is-sociology/\">Undergraduate Program</a>\n",
       "<div class=\"nav-arrow closed\"></div><ul class=\"sub-menu closed\">\n",
       "<li class=\"menu-item menu-item-type-post_type menu-item-object-page menu-item-235\"><a href=\"http://www.soc.cornell.edu/undergrad/what-is-sociology/\">What is Sociology?</a></li>\n",
       "<li class=\"menu-item menu-item-type-post_type menu-item-object-page menu-item-751\"><a href=\"http://www.soc.cornell.edu/undergrad/\">Exploring Sociology at Cornell</a></li>\n",
       "<li class=\"menu-item menu-item-type-post_type menu-item-object-page menu-item-234\"><a href=\"http://www.soc.cornell.edu/undergrad/why-major/\">Why Major in Sociology?</a></li>\n",
       "<li class=\"menu-item menu-item-type-post_type menu-item-object-page menu-item-233\"><a href=\"http://www.soc.cornell.edu/undergrad/soc-major/\">The Sociology Major</a></li>\n",
       "<li class=\"menu-item menu-item-type-post_type menu-item-object-page menu-item-232\"><a href=\"http://www.soc.cornell.edu/undergrad/honors-program/\">Honors Program</a></li>\n",
       "<li class=\"menu-item menu-item-type-post_type menu-item-object-page menu-item-231\"><a href=\"http://www.soc.cornell.edu/undergrad/awards/\">Undergraduate Awards</a></li>\n",
       "<li class=\"menu-item menu-item-type-post_type menu-item-object-page menu-item-230\"><a href=\"http://www.soc.cornell.edu/undergrad/additional-info/\">Additional Information for Majors</a></li>\n",
       "<li class=\"menu-item menu-item-type-post_type menu-item-object-page menu-item-229\"><a href=\"http://www.soc.cornell.edu/undergrad/transfer-credits/\">Transfer Credits</a></li>\n",
       "<li class=\"menu-item menu-item-type-custom menu-item-object-custom menu-item-225\"><a href=\"http://people.soc.cornell.edu/files/courses/soc-courses-2016-2017.pdf\">2016-17 Sociology Course List</a></li>\n",
       "<li class=\"menu-item menu-item-type-custom menu-item-object-custom menu-item-226\"><a href=\"http://courses.cornell.edu/preview_program.php?catoid=28&amp;poid=13976\">2016-17 Course Descriptions</a></li>\n",
       "<li class=\"menu-item menu-item-type-custom menu-item-object-custom menu-item-227\"><a href=\"https://classes.cornell.edu/browse/inbound/subject/SOC\">Course Roster</a></li>\n",
       "</ul>\n",
       "</li>\n",
       "<li class=\"menu-item menu-item-type-post_type menu-item-object-page menu-item-has-children menu-item-71\"><a href=\"http://www.soc.cornell.edu/research-centers/\">Research Centers</a>\n",
       "<div class=\"nav-arrow closed\"></div><ul class=\"sub-menu closed\">\n",
       "<li class=\"menu-item menu-item-type-custom menu-item-object-custom menu-item-981\"><a href=\"http://www.economyandsociety.org/\">Economy and Society</a></li>\n",
       "<li class=\"menu-item menu-item-type-custom menu-item-object-custom menu-item-982\"><a href=\"http://inequality.cornell.edu/\">Inequality</a></li>\n",
       "<li class=\"menu-item menu-item-type-custom menu-item-object-custom menu-item-983\"><a href=\"http://www.einaudi.cornell.edu/\">International Studies</a></li>\n",
       "<li class=\"menu-item menu-item-type-custom menu-item-object-custom menu-item-987\"><a href=\"http://www.bctr.cornell.edu/\">Lifecourse</a></li>\n",
       "<li class=\"menu-item menu-item-type-custom menu-item-object-custom menu-item-984\"><a href=\"http://www.cpc.cornell.edu\">Population</a></li>\n",
       "<li class=\"menu-item menu-item-type-custom menu-item-object-custom menu-item-985\"><a href=\"http://sdl.soc.cornell.edu/\">Social Dynamics Laboratory</a></li>\n",
       "<li class=\"menu-item menu-item-type-post_type menu-item-object-page menu-item-986\"><a href=\"http://www.soc.cornell.edu/research-centers/\">Other Research Resources</a></li>\n",
       "</ul>\n",
       "</li>\n",
       "<li class=\"menu-item menu-item-type-post_type menu-item-object-page menu-item-has-children menu-item-239\"><a href=\"http://www.soc.cornell.edu/about/\">About the Department</a>\n",
       "<div class=\"nav-arrow closed\"></div><ul class=\"sub-menu closed\">\n",
       "<li class=\"menu-item menu-item-type-post_type menu-item-object-page menu-item-1198\"><a href=\"http://www.soc.cornell.edu/about/\">Department Profile</a></li>\n",
       "<li class=\"menu-item menu-item-type-post_type menu-item-object-page menu-item-449\"><a href=\"http://www.soc.cornell.edu/about/department-history/\">Department History</a></li>\n",
       "<li class=\"menu-item menu-item-type-post_type menu-item-object-page menu-item-242\"><a href=\"http://www.soc.cornell.edu/about/contact/\">Contact Information</a></li>\n",
       "</ul>\n",
       "</li>\n",
       "</ul></div> </div>\n",
       "</div>\n",
       "</div>\n",
       "</div>\n",
       "</div>\n",
       "<div class=\" no-header-widget\" id=\"image-band\">\n",
       "<div class=\"image-meta\">\n",
       "<h3 class=\"image-subtitle\">\n",
       "<a href=\"http://www.soc.cornell.edu/people/faculty/\" title=\"Faculty\"><span class=\"main_title\">Faculty</span></a>\n",
       "</h3>\n",
       "</div>\n",
       "<div class=\"image-cover gradient\"></div>\n",
       "<div class=\"text-overlay gradient\"></div>\n",
       "</div><!-- #image-band -->\n",
       "</div><!-- end #header -->\n",
       "<div class=\"\" id=\"midband-wrap\">\n",
       "<div id=\"midband\"></div>\n",
       "</div>\n",
       "<div id=\"content-wrap\">\n",
       "<div id=\"content\">\n",
       "<div id=\"main\">\n",
       "<div id=\"main-top\"></div>\n",
       "<div id=\"secondary-nav\">\n",
       "<div class=\"main-body\">\n",
       "<div class=\"sidebar-container\" id=\"tertiary\" role=\"complementary\">\n",
       "<div class=\"sidebar-inner\">\n",
       "<div class=\"widget-area\">\n",
       "<aside class=\"widget widget_nav_menu\" id=\"nav_menu-3\"><h3 class=\"widget-title\">People</h3><div class=\"menu-people-container\"><ul class=\"menu\" id=\"menu-people\"><li class=\"menu-item menu-item-type-post_type menu-item-object-page current-page-ancestor current-menu-ancestor current-menu-parent current-page-parent current_page_parent current_page_ancestor menu-item-has-children menu-item-519\" id=\"menu-item-519\"><a href=\"http://www.soc.cornell.edu/people/faculty/\">Active Faculty and Field Members</a>\n",
       "<div class=\"nav-arrow closed\"></div><ul class=\"sub-menu closed\">\n",
       "<li class=\"menu-item menu-item-type-post_type menu-item-object-page menu-item-621\" id=\"menu-item-621\"><a href=\"http://www.soc.cornell.edu/people/faculty/alvarado/\">Steven E. Alvarado</a></li>\n",
       "<li class=\"menu-item menu-item-type-post_type menu-item-object-page menu-item-620\" id=\"menu-item-620\"><a href=\"http://www.soc.cornell.edu/people/faculty/berezin/\">Mabel Berezin</a></li>\n",
       "<li class=\"menu-item menu-item-type-custom menu-item-object-custom menu-item-1813\" id=\"menu-item-1813\"><a href=\"https://www.ilr.cornell.edu/people/marya-besharov\">Marya Besharov (field)</a></li>\n",
       "<li class=\"menu-item menu-item-type-post_type menu-item-object-page menu-item-809\" id=\"menu-item-809\"><a href=\"http://www.soc.cornell.edu/people/faculty/bischoff/\">Kendra Bischoff</a></li>\n",
       "<li class=\"menu-item menu-item-type-post_type menu-item-object-page menu-item-1072\" id=\"menu-item-1072\"><a href=\"http://www.soc.cornell.edu/people/faculty/burton/\">Diane Burton (courtesy, field)</a></li>\n",
       "<li class=\"menu-item menu-item-type-post_type menu-item-object-page menu-item-828\" id=\"menu-item-828\"><a href=\"http://www.soc.cornell.edu/people/faculty/bcornwell/\">Benjamin Cornwell</a></li>\n",
       "<li class=\"menu-item menu-item-type-custom menu-item-object-custom menu-item-1549\" id=\"menu-item-1549\"><a href=\"http://www.human.cornell.edu/bio.cfm?netid=red26http://\">Rachel Dunifon (field)</a></li>\n",
       "<li class=\"menu-item menu-item-type-custom menu-item-object-custom menu-item-1550\" id=\"menu-item-1550\"><a href=\"https://www.ilr.cornell.edu/people/eli-friedman\">Eli Friedman (field)</a></li>\n",
       "<li class=\"menu-item menu-item-type-post_type menu-item-object-page menu-item-2055\" id=\"menu-item-2055\"><a href=\"http://www.soc.cornell.edu/people/faculty/garip/\">Filiz Garip</a></li>\n",
       "<li class=\"menu-item menu-item-type-custom menu-item-object-custom menu-item-1551\" id=\"menu-item-1551\"><a href=\"https://www.ilr.cornell.edu/people/shannon-gleeson\">Shannon Gleeson (field)</a></li>\n",
       "<li class=\"menu-item menu-item-type-custom menu-item-object-custom menu-item-1552\" id=\"menu-item-1552\"><a href=\"http://www.human.cornell.edu/bio.cfm?netid=msh284\">Matthew Hall (field)</a></li>\n",
       "<li class=\"menu-item menu-item-type-post_type menu-item-object-page menu-item-827\" id=\"menu-item-827\"><a href=\"http://www.soc.cornell.edu/people/faculty/haskins/\">Anna R. Haskins</a></li>\n",
       "<li class=\"menu-item menu-item-type-post_type menu-item-object-page menu-item-826\" id=\"menu-item-826\"><a href=\"http://www.soc.cornell.edu/people/faculty/heckathorn/\">Douglas Heckathorn</a></li>\n",
       "<li class=\"menu-item menu-item-type-custom menu-item-object-custom menu-item-1553\" id=\"menu-item-1553\"><a href=\"http://infosci.cornell.edu/faculty/jon-kleinberg\">Jon Kleinberg (field)</a></li>\n",
       "<li class=\"menu-item menu-item-type-post_type menu-item-object-page menu-item-1073\" id=\"menu-item-1073\"><a href=\"http://www.soc.cornell.edu/people/faculty/lawler/\">Edward J. Lawler</a></li>\n",
       "<li class=\"menu-item menu-item-type-post_type menu-item-object-page menu-item-1024\" id=\"menu-item-1024\"><a href=\"http://www.soc.cornell.edu/people/faculty/lichter/\">Daniel T. Lichter</a></li>\n",
       "<li class=\"menu-item menu-item-type-post_type menu-item-object-page current-menu-item page_item page-item-1046 current_page_item menu-item-1054\" id=\"menu-item-1054\"><a href=\"http://www.soc.cornell.edu/people/faculty/macy/\">Michael Macy</a></li>\n",
       "<li class=\"menu-item menu-item-type-post_type menu-item-object-page menu-item-2066\" id=\"menu-item-2066\"><a href=\"http://www.soc.cornell.edu/people/faculty/maralani/\">Vida Maralani</a></li>\n",
       "<li class=\"menu-item menu-item-type-custom menu-item-object-custom menu-item-1814\" id=\"menu-item-1814\"><a href=\"https://www.johnson.cornell.edu/Faculty-And-Research/Profile?id=cm794\">Chris Marquis (field)</a></li>\n",
       "<li class=\"menu-item menu-item-type-custom menu-item-object-custom menu-item-1555\" id=\"menu-item-1555\"><a href=\"http://www.human.cornell.edu/bio.cfm?netid=kam386\">Kelly Musick (field)</a></li>\n",
       "<li class=\"menu-item menu-item-type-post_type menu-item-object-page menu-item-852\" id=\"menu-item-852\"><a href=\"http://www.soc.cornell.edu/people/faculty/nee/\">Victor Nee</a></li>\n",
       "<li class=\"menu-item menu-item-type-custom menu-item-object-custom menu-item-1556\" id=\"menu-item-1556\"><a href=\"http://www.human.cornell.edu/bio.cfm?netid=kap6\">Karl Pillemer (field)</a></li>\n",
       "<li class=\"menu-item menu-item-type-post_type menu-item-object-page menu-item-1076\" id=\"menu-item-1076\"><a href=\"http://www.soc.cornell.edu/people/faculty/pinch/\">Trevor Pinch (courtesy, field)</a></li>\n",
       "<li class=\"menu-item menu-item-type-custom menu-item-object-custom menu-item-1815\" id=\"menu-item-1815\"><a href=\"http://www.human.cornell.edu/bio.cfm?netid=pmr86\">Peter Rich (courtesy, field)</a></li>\n",
       "<li class=\"menu-item menu-item-type-custom menu-item-object-custom menu-item-1557\" id=\"menu-item-1557\"><a href=\"http://www.human.cornell.edu/bio.cfm?netid=ss589\">Sharon Sassler (field)</a></li>\n",
       "<li class=\"menu-item menu-item-type-post_type menu-item-object-page menu-item-872\" id=\"menu-item-872\"><a href=\"http://www.soc.cornell.edu/people/faculty/strang/\">David Strang</a></li>\n",
       "<li class=\"menu-item menu-item-type-post_type menu-item-object-page menu-item-899\" id=\"menu-item-899\"><a href=\"http://www.soc.cornell.edu/people/faculty/swedberg/\">Richard Swedberg</a></li>\n",
       "<li class=\"menu-item menu-item-type-custom menu-item-object-custom menu-item-1558\" id=\"menu-item-1558\"><a href=\"http://www.human.cornell.edu/bio.cfm?netid=lmt88\">Laura Tach (field)</a></li>\n",
       "<li class=\"menu-item menu-item-type-custom menu-item-object-custom menu-item-1559\" id=\"menu-item-1559\"><a href=\"http://www.ilr.cornell.edu/people/pamela-tolbert\">Pamela Tolbert (field)</a></li>\n",
       "<li class=\"menu-item menu-item-type-custom menu-item-object-custom menu-item-1545\" id=\"menu-item-1545\"><a href=\"http://vivo.cornell.edu/display/individual30453\">Hector Velez (adjunct)</a></li>\n",
       "<li class=\"menu-item menu-item-type-custom menu-item-object-custom menu-item-1560\" id=\"menu-item-1560\"><a href=\"http://www.human.cornell.edu/bio.cfm?netid=mrw37\">Maureen Waller (field)</a></li>\n",
       "<li class=\"menu-item menu-item-type-post_type menu-item-object-page menu-item-898\" id=\"menu-item-898\"><a href=\"http://www.soc.cornell.edu/people/faculty/weeden/\">Kim Weeden</a></li>\n",
       "<li class=\"menu-item menu-item-type-post_type menu-item-object-page menu-item-1055\" id=\"menu-item-1055\"><a href=\"http://www.soc.cornell.edu/people/faculty/wethington/\">Elaine Wethington</a></li>\n",
       "<li class=\"menu-item menu-item-type-custom menu-item-object-custom menu-item-1562\" id=\"menu-item-1562\"><a href=\"http://www.human.cornell.edu/bio.cfm?netid=cjw279\">Christopher Wildeman (field)</a></li>\n",
       "<li class=\"menu-item menu-item-type-post_type menu-item-object-page menu-item-897\" id=\"menu-item-897\"><a href=\"http://www.soc.cornell.edu/people/faculty/eycornwell/\">Erin York Cornwell</a></li>\n",
       "</ul>\n",
       "</li>\n",
       "<li class=\"menu-item menu-item-type-custom menu-item-object-custom menu-item-1907\" id=\"menu-item-1907\"><a href=\"http://www.soc.cornell.edu/people/faculty#post-docs\">Postdoctoral Fellows</a></li>\n",
       "<li class=\"menu-item menu-item-type-post_type menu-item-object-page menu-item-520\" id=\"menu-item-520\"><a href=\"http://www.soc.cornell.edu/people/gradstudents/\">Graduate Students</a></li>\n",
       "<li class=\"menu-item menu-item-type-post_type menu-item-object-page menu-item-521\" id=\"menu-item-521\"><a href=\"http://www.soc.cornell.edu/people/phds-on-the-market/\">PhDs on the Market</a></li>\n",
       "<li class=\"menu-item menu-item-type-post_type menu-item-object-page menu-item-523\" id=\"menu-item-523\"><a href=\"http://www.soc.cornell.edu/people/job-openings/\">Job Openings</a></li>\n",
       "<li class=\"menu-item menu-item-type-post_type menu-item-object-page menu-item-522\" id=\"menu-item-522\"><a href=\"http://www.soc.cornell.edu/people/staff/\">Staff</a></li>\n",
       "</ul></div></aside><aside class=\"widget widget_search\" id=\"search-2\"><form action=\"http://www.soc.cornell.edu/\" class=\"search-form\" method=\"get\" role=\"search\">\n",
       "<label>\n",
       "<input class=\"search-field\" name=\"s\" placeholder=\"Search …\" title=\"Search for:\" type=\"search\" value=\"\"/>\n",
       "</label>\n",
       "<input class=\"search-submit\" type=\"submit\" value=\"Search\"/>\n",
       "</form></aside> </div><!-- .widget-area -->\n",
       "</div><!-- .sidebar-inner -->\n",
       "</div><!-- #tertiary -->\n",
       "</div>\n",
       "</div>\n",
       "<div id=\"main-body\">\n",
       "<div class=\"breadcrumbs\" xmlns:v=\"http://rdf.data-vocabulary.org/#\"><a href=\"http://www.soc.cornell.edu/\" property=\"v:title\" rel=\"v:url\">Home</a><span typeof=\"v:Breadcrumb\"><a href=\"http://www.soc.cornell.edu/people/\" property=\"v:title\" rel=\"v:url\">People</a></span><span typeof=\"v:Breadcrumb\"><a href=\"http://www.soc.cornell.edu/people/faculty/\" property=\"v:title\" rel=\"v:url\">Faculty</a></span><span class=\"current\">Michael Macy</span></div><!-- .breadcrumbs -->\n",
       "<article class=\"post-1046 page type-page status-publish has-post-thumbnail hentry\" id=\"post-1046\">\n",
       "<header class=\"entry-header\">\n",
       "<div class=\"entry-thumbnail\">\n",
       "<img alt=\"Macy\" class=\"attachment-post-thumbnail size-post-thumbnail wp-post-image\" height=\"100\" src=\"http://www.soc.cornell.edu/files/2015/07/Macy-242f0dc.png\" width=\"100\"/> </div>\n",
       "<h1 class=\"entry-title\">Michael Macy</h1>\n",
       "</header><!-- .entry-header -->\n",
       "<div class=\"entry-content\">\n",
       "<h4>Goldwin Smith Professor of Arts and Sciences, Department of <a href=\"http://infosci.cornell.edu/faculty/michael-macy\">Information Science</a> and <a href=\"http://www.soc.cornell.edu\">Sociology,</a> Director of the <a href=\"http://sdl.soc.cornell.edu/\">Social Dynamics Laboratory</a><br/>\n",
       "PhD 1985, Harvard University</h4>\n",
       "<h4>Areas of Interest: Human Behavior, Social Interaction, Computational Social Science</h4>\n",
       "<h4 style=\"text-align: center;\"><strong>Contact</strong></h4>\n",
       "<table style=\"border-color: #fbfbfb; background-color: #fbfbfb;\" width=\"422\">\n",
       "<tbody>\n",
       "<tr>\n",
       "<td style=\"border-color: #fbfbfb; background-color: #fbfbfb; text-align: right; vertical-align: middle;\">\n",
       "<h4><a href=\"mailto:mwm14@cornell.edu\">mwm14@cornell.edu</a><br/>\n",
       "(607) 255-4555/ 4269<br/>\n",
       "<a href=\"https://sites.google.com/site/michaelmacy14/home\">Personal Site</a></h4>\n",
       "</td>\n",
       "<td style=\"border-color: #fbfbfb; background-color: #fbfbfb; vertical-align: middle;\">\n",
       "<h4 style=\"text-align: left;\">372 Uris Hall, 225 Gates Hall<br/>\n",
       "Cornell University<br/>\n",
       "Ithaca, NY 14853-7601</h4>\n",
       "</td>\n",
       "</tr>\n",
       "</tbody>\n",
       "</table>\n",
       "<h4 style=\"text-align: center;\"><strong>Research</strong></h4>\n",
       "<p>Michael Macy left the farm in Tennessee where he grew up to attend Harvard, where he received his B.A. and later Ph.D, along with an M.A. from Stanford. He is currently Goldwin Smith Professor of Arts and Sciences in Sociology and Director of the<a href=\"http://sdl.soc.cornell.edu/\"> Social Dynamics Laboratory</a> at Cornell, where he has worked since 1997. With support from the National Science Foundation, the Department of Defense, and Google, his research team has used computational models, online laboratory experiments, and digital traces of device-mediated interaction to explore familiar but enigmatic social patterns, such as circadian rhythms, the emergence and collapse of fads, the spread of self-destructive behaviors, cooperation in social dilemmas, the critical mass in collective action, the spread of high-threshold contagions on small-world networks, the polarization of opinion, segregation of neighborhoods, and assimilation of minority cultures. Recent research uses 509 million Twitter messages to track diurnal and seasonal mood changes in 54 countries, and telephone logs for 12B calls in the UK to measure the economic correlates of network structure. His research has been published in leading journals, including Science, PNAS, American Journal of Sociology, American Sociological Review, and Annual Review of Sociology.</p>\n",
       "<h4 style=\"text-align: center;\"><strong>Recent Courses</strong></h4>\n",
       "<table class=\"aligncenter\" style=\"height: 64px; border-color: #fbfbfb; background-color: #fbfbfb;\" width=\"598\">\n",
       "<tbody>\n",
       "<tr>\n",
       "<td style=\"border-color: #fbfbfb; background-color: #fbfbfb; width: 200px; text-align: right; vertical-align: middle;\">\n",
       "<h4>SOC4390/6390</h4>\n",
       "</td>\n",
       "<td style=\"border-color: #fbfbfb; background-color: #fbfbfb; width: 600px; text-align: left; vertical-align: middle;\">\n",
       "<h4>Social Dynamics and Computational Methods</h4>\n",
       "</td>\n",
       "</tr>\n",
       "</tbody>\n",
       "</table>\n",
       "<h4 style=\"text-align: center;\"><a href=\"https://sites.google.com/site/michaelmacy14/home\"><strong>Selected Publications</strong></a></h4>\n",
       "<p> </p>\n",
       "</div><!-- .entry-content -->\n",
       "</article><!-- #post -->\n",
       "<footer class=\"entry-meta\">\n",
       "</footer><!-- .entry-meta -->\n",
       "<div class=\"comments-area\" id=\"comments\">\n",
       "</div><!-- #comments -->\n",
       "</div><!-- end #main-body -->\n",
       "<div id=\"main-bottom\"></div>\n",
       "</div><!-- #main -->\n",
       "</div><!-- #content -->\n",
       "</div><!-- #content-wrap -->\n",
       "</div><!-- end #wrap -->\n",
       "<div class=\"site-footer\">\n",
       "<div id=\"footer\">\n",
       "<div class=\"footer-content\">\n",
       "<div class=\"columns\">\n",
       "<div class=\"col-item\"> <div class=\"textwidget\"><div align=\"center\"><font size=\"5\"><a href=\"http://blogs.cornell.edu/socy/about/contact/\"><strong>Contact the Department</strong></a> | <a href=\"http://blogs.cornell.edu/socy/department-gateway/\"><strong>Department Gateway</strong></a> | <a href=\"http://blogs.cornell.edu/socy/computing/\"><strong>Sociology Computing</strong></a></font>\n",
       "<br><br>\n",
       "<div align=\"center\"><font size=\"3\"><a href=\"http://www.soc.cornell.edu/\">Department of Sociology</a> | <a href=\"https://blogs.cornell.edu/socy/about/maps/?loc=Uris%20Hall\">323 Uris Hall, Ithaca, NY 14853</a> | 607-255-4266 | <a href=\"mailto:sociology@cornell.edu\">sociology@cornell.edu</a>\n",
       "<br><br><div align=\"center\"> <a href=\"http://as.cornell.edu/\">College of Arts and Sciences</a> | <a href=\"http://www.cornell.edu\">Cornell University</a></div></br></br></font>\n",
       "</div>\n",
       "<br>\n",
       "© 2015 Cornell University\n",
       "<br><br/></br></br></br></br></div>\n",
       "</div> </div>\n",
       "</div>\n",
       "</div>\n",
       "<div id=\"subfooter\">\n",
       "<div class=\"footer-content\">\n",
       "<div class=\"columns\">\n",
       "<div class=\"col-item\">\n",
       "<p></p>\n",
       "</div>\n",
       "<div class=\"col-item\">\n",
       "<ul class=\"social-links\">\n",
       "</ul>\n",
       "</div>\n",
       "</div>\n",
       "</div>\n",
       "</div>\n",
       "</div>\n",
       "<div id=\"cu-overlay\"></div>\n",
       "<div id=\"global-footer-content\"><div id=\"global-footer-content-inner\">Hosted by <a href=\"http://campuspress.com\">CampusPress</a>\n",
       "<script src=\"https://embanner.univcomm.cornell.edu/OWC-emergency-banner.js\" type=\"text/javascript\"> </script></div></div><script src=\"http://www.soc.cornell.edu/wp-content/mu-plugins/lean-captcha/js/howler.min.js?ver=2015102605\" type=\"text/javascript\"></script>\n",
       "<script type=\"text/javascript\">\n",
       "/* <![CDATA[ */\n",
       "var lean_captcha_object = {\"ajax_url\":\"http:\\/\\/www.soc.cornell.edu\\/wp-content\\/mu-plugins\\/lean-captcha\\/lc_ep.php\",\"key\":\"lc_5804456c4c28a\"};\n",
       "/* ]]> */\n",
       "</script>\n",
       "<script src=\"http://www.soc.cornell.edu/wp-content/mu-plugins/lean-captcha/js/lean-captcha.js?ver=2016021001\" type=\"text/javascript\"></script>\n",
       "<script src=\"http://www.soc.cornell.edu/wp-includes/js/wp-embed.min.js?ver=4.4.5\" type=\"text/javascript\"></script>\n",
       "</div></body>\n",
       "</html>"
      ]
     },
     "execution_count": 45,
     "metadata": {},
     "output_type": "execute_result"
    }
   ],
   "source": [
    "#If we want to get the information for a particular professor we can look up their dictionary entry\n",
    "macy = profile_contents['macy']\n",
    "macy"
   ]
  },
  {
   "cell_type": "code",
   "execution_count": 46,
   "metadata": {
    "collapsed": false
   },
   "outputs": [
    {
     "data": {
      "text/plain": [
       "<div class=\"entry-content\">\n",
       "<h4>Goldwin Smith Professor of Arts and Sciences, Department of <a href=\"http://infosci.cornell.edu/faculty/michael-macy\">Information Science</a> and <a href=\"http://www.soc.cornell.edu\">Sociology,</a> Director of the <a href=\"http://sdl.soc.cornell.edu/\">Social Dynamics Laboratory</a><br/>\n",
       "PhD 1985, Harvard University</h4>\n",
       "<h4>Areas of Interest: Human Behavior, Social Interaction, Computational Social Science</h4>\n",
       "<h4 style=\"text-align: center;\"><strong>Contact</strong></h4>\n",
       "<table style=\"border-color: #fbfbfb; background-color: #fbfbfb;\" width=\"422\">\n",
       "<tbody>\n",
       "<tr>\n",
       "<td style=\"border-color: #fbfbfb; background-color: #fbfbfb; text-align: right; vertical-align: middle;\">\n",
       "<h4><a href=\"mailto:mwm14@cornell.edu\">mwm14@cornell.edu</a><br/>\n",
       "(607) 255-4555/ 4269<br/>\n",
       "<a href=\"https://sites.google.com/site/michaelmacy14/home\">Personal Site</a></h4>\n",
       "</td>\n",
       "<td style=\"border-color: #fbfbfb; background-color: #fbfbfb; vertical-align: middle;\">\n",
       "<h4 style=\"text-align: left;\">372 Uris Hall, 225 Gates Hall<br/>\n",
       "Cornell University<br/>\n",
       "Ithaca, NY 14853-7601</h4>\n",
       "</td>\n",
       "</tr>\n",
       "</tbody>\n",
       "</table>\n",
       "<h4 style=\"text-align: center;\"><strong>Research</strong></h4>\n",
       "<p>Michael Macy left the farm in Tennessee where he grew up to attend Harvard, where he received his B.A. and later Ph.D, along with an M.A. from Stanford. He is currently Goldwin Smith Professor of Arts and Sciences in Sociology and Director of the<a href=\"http://sdl.soc.cornell.edu/\"> Social Dynamics Laboratory</a> at Cornell, where he has worked since 1997. With support from the National Science Foundation, the Department of Defense, and Google, his research team has used computational models, online laboratory experiments, and digital traces of device-mediated interaction to explore familiar but enigmatic social patterns, such as circadian rhythms, the emergence and collapse of fads, the spread of self-destructive behaviors, cooperation in social dilemmas, the critical mass in collective action, the spread of high-threshold contagions on small-world networks, the polarization of opinion, segregation of neighborhoods, and assimilation of minority cultures. Recent research uses 509 million Twitter messages to track diurnal and seasonal mood changes in 54 countries, and telephone logs for 12B calls in the UK to measure the economic correlates of network structure. His research has been published in leading journals, including Science, PNAS, American Journal of Sociology, American Sociological Review, and Annual Review of Sociology.</p>\n",
       "<h4 style=\"text-align: center;\"><strong>Recent Courses</strong></h4>\n",
       "<table class=\"aligncenter\" style=\"height: 64px; border-color: #fbfbfb; background-color: #fbfbfb;\" width=\"598\">\n",
       "<tbody>\n",
       "<tr>\n",
       "<td style=\"border-color: #fbfbfb; background-color: #fbfbfb; width: 200px; text-align: right; vertical-align: middle;\">\n",
       "<h4>SOC4390/6390</h4>\n",
       "</td>\n",
       "<td style=\"border-color: #fbfbfb; background-color: #fbfbfb; width: 600px; text-align: left; vertical-align: middle;\">\n",
       "<h4>Social Dynamics and Computational Methods</h4>\n",
       "</td>\n",
       "</tr>\n",
       "</tbody>\n",
       "</table>\n",
       "<h4 style=\"text-align: center;\"><a href=\"https://sites.google.com/site/michaelmacy14/home\"><strong>Selected Publications</strong></a></h4>\n",
       "<p> </p>\n",
       "</div>"
      ]
     },
     "execution_count": 46,
     "metadata": {},
     "output_type": "execute_result"
    }
   ],
   "source": [
    "macy.find('div', {'class': 'entry-content'})"
   ]
  },
  {
   "cell_type": "code",
   "execution_count": 47,
   "metadata": {
    "collapsed": false
   },
   "outputs": [
    {
     "data": {
      "text/plain": [
       "'\\nGoldwin Smith Professor of Arts and Sciences, Department of Information Science and Sociology, Director of the Social Dynamics Laboratory\\nPhD 1985, Harvard University\\nAreas of Interest: Human Behavior, Social Interaction, Computational Social Science\\nContact\\n\\n\\n\\n\\nmwm14@cornell.edu\\n(607) 255-4555/ 4269\\nPersonal Site\\n\\n\\n372 Uris Hall, 225 Gates Hall\\nCornell University\\nIthaca, NY 14853-7601\\n\\n\\n\\n\\nResearch\\nMichael Macy left the farm in Tennessee where he grew up to attend Harvard, where he received his B.A. and later Ph.D, along with an M.A. from Stanford. He is currently Goldwin Smith Professor of Arts and Sciences in Sociology and Director of the Social Dynamics Laboratory at Cornell, where he has worked since 1997. With support from the National Science Foundation, the Department of Defense, and Google, his research team has used computational models, online laboratory experiments, and digital traces of device-mediated interaction to explore familiar but enigmatic social patterns, such as circadian rhythms, the emergence and collapse of fads, the spread of self-destructive behaviors, cooperation in social dilemmas, the critical mass in collective action, the spread of high-threshold contagions on small-world networks, the polarization of opinion, segregation of neighborhoods, and assimilation of minority cultures. Recent research uses 509 million Twitter messages to track diurnal and seasonal mood changes in 54 countries, and telephone logs for 12B calls in the UK to measure the economic correlates of network structure. His research has been published in leading journals, including Science, PNAS, American Journal of Sociology, American Sociological Review, and Annual Review of Sociology.\\nRecent Courses\\n\\n\\n\\n\\nSOC4390/6390\\n\\n\\nSocial Dynamics and Computational Methods\\n\\n\\n\\n\\nSelected Publications\\n\\xa0\\n'"
      ]
     },
     "execution_count": 47,
     "metadata": {},
     "output_type": "execute_result"
    }
   ],
   "source": [
    "content = macy.find('div', {'class': 'entry-content'})\n",
    "content.text"
   ]
  },
  {
   "cell_type": "code",
   "execution_count": 48,
   "metadata": {
    "collapsed": false
   },
   "outputs": [],
   "source": [
    "content_refined = content.findAll('h4')"
   ]
  },
  {
   "cell_type": "code",
   "execution_count": 49,
   "metadata": {
    "collapsed": false
   },
   "outputs": [
    {
     "data": {
      "text/plain": [
       "<h4>Goldwin Smith Professor of Arts and Sciences, Department of <a href=\"http://infosci.cornell.edu/faculty/michael-macy\">Information Science</a> and <a href=\"http://www.soc.cornell.edu\">Sociology,</a> Director of the <a href=\"http://sdl.soc.cornell.edu/\">Social Dynamics Laboratory</a><br/>\n",
       "PhD 1985, Harvard University</h4>"
      ]
     },
     "execution_count": 49,
     "metadata": {},
     "output_type": "execute_result"
    }
   ],
   "source": [
    "content_refined[0]"
   ]
  },
  {
   "cell_type": "code",
   "execution_count": 50,
   "metadata": {
    "collapsed": false
   },
   "outputs": [],
   "source": [
    "titles = content_refined[0].text"
   ]
  },
  {
   "cell_type": "code",
   "execution_count": 51,
   "metadata": {
    "collapsed": false
   },
   "outputs": [
    {
     "data": {
      "text/plain": [
       "['Goldwin Smith Professor of Arts and Sciences, Department of Information Science and Sociology, Director of the Social Dynamics Laboratory\\n',\n",
       " ' 1985, Harvard University']"
      ]
     },
     "execution_count": 51,
     "metadata": {},
     "output_type": "execute_result"
    }
   ],
   "source": [
    "titles.split('PhD')"
   ]
  },
  {
   "cell_type": "code",
   "execution_count": 52,
   "metadata": {
    "collapsed": true
   },
   "outputs": [],
   "source": [
    "title_and_education = titles.split('PhD')"
   ]
  },
  {
   "cell_type": "code",
   "execution_count": 53,
   "metadata": {
    "collapsed": true
   },
   "outputs": [],
   "source": [
    "title = title_and_education[0]\n",
    "education = title_and_education[1]\n",
    "education = 'PhD'+education"
   ]
  },
  {
   "cell_type": "code",
   "execution_count": 54,
   "metadata": {
    "collapsed": false
   },
   "outputs": [
    {
     "data": {
      "text/plain": [
       "'Goldwin Smith Professor of Arts and Sciences, Department of Information Science and Sociology, Director of the Social Dynamics Laboratory\\n'"
      ]
     },
     "execution_count": 54,
     "metadata": {},
     "output_type": "execute_result"
    }
   ],
   "source": [
    "title"
   ]
  },
  {
   "cell_type": "code",
   "execution_count": 55,
   "metadata": {
    "collapsed": false
   },
   "outputs": [
    {
     "data": {
      "text/plain": [
       "'PhD 1985, Harvard University'"
      ]
     },
     "execution_count": 55,
     "metadata": {},
     "output_type": "execute_result"
    }
   ],
   "source": [
    "education"
   ]
  },
  {
   "cell_type": "markdown",
   "metadata": {},
   "source": [
    "## Let's tidy that up and make some functions we can reuse"
   ]
  },
  {
   "cell_type": "code",
   "execution_count": 56,
   "metadata": {
    "collapsed": true
   },
   "outputs": [],
   "source": [
    "def getFacultyInfo(soup):\n",
    "    info = soup.find('div', {'class': 'entry-content'})\n",
    "    return info"
   ]
  },
  {
   "cell_type": "code",
   "execution_count": 57,
   "metadata": {
    "collapsed": true
   },
   "outputs": [],
   "source": [
    "def getTitleAndEducation(info):\n",
    "    info_refined = info.findAll('h4')\n",
    "    titles = info_refined[0].text\n",
    "    title_and_education = titles.split('PhD')\n",
    "    title = title_and_education[0]\n",
    "    education = 'PhD'+title_and_education[1]\n",
    "    return title, education"
   ]
  },
  {
   "cell_type": "code",
   "execution_count": 58,
   "metadata": {
    "collapsed": false
   },
   "outputs": [
    {
     "name": "stdout",
     "output_type": "stream",
     "text": [
      "Goldwin Smith Professor of Arts and Sciences, Department of Information Science and Sociology, Director of the Social Dynamics Laboratory\n",
      " PhD 1985, Harvard University\n"
     ]
    }
   ],
   "source": [
    "macy = getFacultyInfo(profile_contents['macy'])\n",
    "macy_te = getTitleAndEducation(macy)\n",
    "print(macy_te[0], macy_te[1])"
   ]
  },
  {
   "cell_type": "code",
   "execution_count": 59,
   "metadata": {
    "collapsed": false
   },
   "outputs": [
    {
     "name": "stdout",
     "output_type": "stream",
     "text": [
      "Professor\n",
      " PhD 1974, University of Kansas\n"
     ]
    }
   ],
   "source": [
    "heckathorn = getFacultyInfo(profile_contents['heckathorn'])\n",
    "heckathorn_te = getTitleAndEducation(heckathorn)\n",
    "print(heckathorn_te[0], heckathorn_te[1])"
   ]
  },
  {
   "cell_type": "code",
   "execution_count": 60,
   "metadata": {
    "collapsed": false
   },
   "outputs": [
    {
     "ename": "IndexError",
     "evalue": "list index out of range",
     "output_type": "error",
     "traceback": [
      "\u001b[0;31m---------------------------------------------------------------------------\u001b[0m",
      "\u001b[0;31mIndexError\u001b[0m                                Traceback (most recent call last)",
      "\u001b[0;32m<ipython-input-60-a99bd4247a9e>\u001b[0m in \u001b[0;36m<module>\u001b[0;34m()\u001b[0m\n\u001b[1;32m      1\u001b[0m \u001b[0mgarip\u001b[0m \u001b[0;34m=\u001b[0m \u001b[0mgetFacultyInfo\u001b[0m\u001b[0;34m(\u001b[0m\u001b[0mprofile_contents\u001b[0m\u001b[0;34m[\u001b[0m\u001b[0;34m'garip'\u001b[0m\u001b[0;34m]\u001b[0m\u001b[0;34m)\u001b[0m\u001b[0;34m\u001b[0m\u001b[0m\n\u001b[0;32m----> 2\u001b[0;31m \u001b[0mgarip_te\u001b[0m \u001b[0;34m=\u001b[0m \u001b[0mgetTitleAndEducation\u001b[0m\u001b[0;34m(\u001b[0m\u001b[0mgarip\u001b[0m\u001b[0;34m)\u001b[0m\u001b[0;34m\u001b[0m\u001b[0m\n\u001b[0m\u001b[1;32m      3\u001b[0m \u001b[0mprint\u001b[0m\u001b[0;34m(\u001b[0m\u001b[0mgarip_te\u001b[0m\u001b[0;34m[\u001b[0m\u001b[0;36m0\u001b[0m\u001b[0;34m]\u001b[0m\u001b[0;34m,\u001b[0m \u001b[0mgarip_te\u001b[0m\u001b[0;34m[\u001b[0m\u001b[0;36m1\u001b[0m\u001b[0;34m]\u001b[0m\u001b[0;34m)\u001b[0m\u001b[0;34m\u001b[0m\u001b[0m\n",
      "\u001b[0;32m<ipython-input-57-1ee42769027c>\u001b[0m in \u001b[0;36mgetTitleAndEducation\u001b[0;34m(info)\u001b[0m\n\u001b[1;32m      4\u001b[0m     \u001b[0mtitle_and_education\u001b[0m \u001b[0;34m=\u001b[0m \u001b[0mtitles\u001b[0m\u001b[0;34m.\u001b[0m\u001b[0msplit\u001b[0m\u001b[0;34m(\u001b[0m\u001b[0;34m'PhD'\u001b[0m\u001b[0;34m)\u001b[0m\u001b[0;34m\u001b[0m\u001b[0m\n\u001b[1;32m      5\u001b[0m     \u001b[0mtitle\u001b[0m \u001b[0;34m=\u001b[0m \u001b[0mtitle_and_education\u001b[0m\u001b[0;34m[\u001b[0m\u001b[0;36m0\u001b[0m\u001b[0;34m]\u001b[0m\u001b[0;34m\u001b[0m\u001b[0m\n\u001b[0;32m----> 6\u001b[0;31m     \u001b[0meducation\u001b[0m \u001b[0;34m=\u001b[0m \u001b[0;34m'PhD'\u001b[0m\u001b[0;34m+\u001b[0m\u001b[0mtitle_and_education\u001b[0m\u001b[0;34m[\u001b[0m\u001b[0;36m1\u001b[0m\u001b[0;34m]\u001b[0m\u001b[0;34m\u001b[0m\u001b[0m\n\u001b[0m\u001b[1;32m      7\u001b[0m     \u001b[0;32mreturn\u001b[0m \u001b[0mtitle\u001b[0m\u001b[0;34m,\u001b[0m \u001b[0meducation\u001b[0m\u001b[0;34m\u001b[0m\u001b[0m\n",
      "\u001b[0;31mIndexError\u001b[0m: list index out of range"
     ]
    }
   ],
   "source": [
    "garip = getFacultyInfo(profile_contents['garip'])\n",
    "garip_te = getTitleAndEducation(garip)\n",
    "print(garip_te[0], garip_te[1])"
   ]
  },
  {
   "cell_type": "code",
   "execution_count": 61,
   "metadata": {
    "collapsed": false
   },
   "outputs": [
    {
     "data": {
      "text/plain": [
       "<div class=\"entry-content\">\n",
       "<h4>Professor<br/>\n",
       "Ph.D. 2007, Princeton University</h4>\n",
       "<h4><strong>Areas of Interest</strong>: Migration, Economic Sociology, Social Networks, Inequality</h4>\n",
       "<h4 style=\"text-align: center;\"><strong>Contact</strong></h4>\n",
       "<table style=\"border-color: #FBFBFB; height: 100px;\" width=\"422\">\n",
       "<tbody>\n",
       "<tr>\n",
       "<td style=\"border-color: #fbfbfb; vertical-align: middle;\">\n",
       "<h4 style=\"text-align: right;\"><a href=\"mailto:fgarip@cornell.edu\">fgarip@cornell.edu</a><br/>\n",
       "(607) 255-4266 (department)</h4>\n",
       "</td>\n",
       "<td style=\"border-color: #fbfbfb; vertical-align: middle;\">\n",
       "<h4 style=\"text-align: left;\">348 Uris Hall<br/>\n",
       "Cornell University<br/>\n",
       "Ithaca, NY 14853-7601</h4>\n",
       "</td>\n",
       "</tr>\n",
       "</tbody>\n",
       "</table>\n",
       "<h4 style=\"text-align: center;\"><strong>Research</strong></h4>\n",
       "<p>Filiz Garip’s research lies at the intersection of migration, economic sociology and inequality. Within this general area, she studies the mechanisms that enable or constrain mobility and lead to greater or lesser degrees of social and economic inequality.</p>\n",
       "<p>Her articles have been published in <em>Population and Development Review, Demography, Social Forces</em> and <em>the American Journal of Sociology</em>. Her book, , <em>On the Move: Changing Mechanisms of Mexico-U.S. Migration </em> is in print at Princeton University Press; it  characterizes the diversity of the Mexican migrant population in the United States. Garip received her Ph.D. in Sociology and M.S.E in Operations Research &amp; Financial Engineering both from Princeton University. She holds a B.Sc. in Industrial Engineering from Bogazici University, Istanbul.</p>\n",
       "<p>Dr. Garip received the Harold W. Dodds Honorific Fellowship at Princeton, and was part of the Woodrow Wilson Society of Fellows. At Harvard, she taught courses on migration and economic sociology, and won the George Kahrl Excellence in Teaching Award from the Department of Sociology. She serves as a consulting editor for the <em>American Journal of Sociology</em> and <em>Sociological Science</em>.</p>\n",
       "<p>Dr. Garip collaborates with scholars in different fields, including political science, computer science and statistics. Her research has been supported by grants from the National Science Foundation, the Clark Fund, Milton Fund, Cornell’s Center for the Study of Inequality, Harvard Center for Population and Development Studies, David Rockefeller Center for Latin American Studies, Harvard Academy for International and Area Studies, and the Weatherhead Center for International Affairs.</p>\n",
       "</div>"
      ]
     },
     "execution_count": 61,
     "metadata": {},
     "output_type": "execute_result"
    }
   ],
   "source": [
    "garip"
   ]
  },
  {
   "cell_type": "code",
   "execution_count": 62,
   "metadata": {
    "collapsed": false
   },
   "outputs": [],
   "source": [
    "import string\n",
    "def getTitleAndEducation(info):\n",
    "    info_refined = info.findAll('h4')\n",
    "    titles = info_refined[0].text\n",
    "    titles = ''.join(x for x in titles if x not in string.punctuation)\n",
    "    title_and_education = titles.split('PhD')\n",
    "    title = title_and_education[0]\n",
    "    education = 'PhD'+title_and_education[1]\n",
    "    return title, education"
   ]
  },
  {
   "cell_type": "code",
   "execution_count": 63,
   "metadata": {
    "collapsed": false
   },
   "outputs": [
    {
     "data": {
      "text/plain": [
       "('Professor\\n', 'PhD 2007 Princeton University')"
      ]
     },
     "execution_count": 63,
     "metadata": {},
     "output_type": "execute_result"
    }
   ],
   "source": [
    "getTitleAndEducation(garip)"
   ]
  },
  {
   "cell_type": "markdown",
   "metadata": {},
   "source": [
    "## Now let's see if that works for all cases"
   ]
  },
  {
   "cell_type": "code",
   "execution_count": 64,
   "metadata": {
    "collapsed": false
   },
   "outputs": [
    {
     "name": "stdout",
     "output_type": "stream",
     "text": [
      "Getting info for:  bcornwell\n",
      "bcornwell Associate Professor Director of Graduate Studies\n",
      " PhD 2007 University of Chicago\n",
      "Curriculum Vitae \n",
      "\n",
      "Getting info for:  maralani\n",
      "maralani Associate Professor\n",
      " PhD 2006 University of California – Los Angeles \n",
      "\n",
      "Getting info for:  swedberg\n",
      "swedberg Professor\n",
      " PhD 1978 Boston College\n",
      " Curriculum Vitae \n",
      "\n",
      "Getting info for:  alvarado\n",
      "alvarado Assistant Professor\n",
      " PhD 2011 University of WisconsinMadison\n",
      "Curriculum Vitae \n",
      "\n",
      "Getting info for:  lawler\n",
      "lawler Professor of Industrial and Labor Relations and Sociology\n",
      " PhD 1972 University of Wisconsin\n",
      "Personal Site \n",
      "\n",
      "Getting info for:  macy\n",
      "macy Goldwin Smith Professor of Arts and Sciences Department of Information Science and Sociology Director of the Social Dynamics Laboratory\n",
      " PhD 1985 Harvard University \n",
      "\n",
      "Getting info for:  lichter\n",
      "lichter Ferris Family Professor of Policy Analysis and Management Robert S Harrison Director of the Institute for Social Sciences\n",
      " PhD 1981 University of WisconsinMadison\n",
      " Curriculum Vitae \n",
      "\n",
      "Getting info for:  burton\n",
      "burton Associate Professor of Human Resource Studies and Sociology\n",
      " PhD 1996 Stanford University\n",
      " Curriculum Vitae \n",
      "\n",
      "Getting info for:  garip\n",
      "garip Professor\n",
      " PhD 2007 Princeton University \n",
      "\n",
      "Getting info for:  haskins\n",
      "haskins Assistant Professor\n",
      " PhD 2013 University of WisconsinMadison\n",
      " Curriculum Vitae \n",
      "\n",
      "Getting info for:  pinch\n",
      "pinch Goldwin Smith Professor of Science  Technology Studies and Sociology\n",
      " PhD 1982 University of Bath\n",
      " Curriculum Vitae \n",
      "\n",
      "Getting info for:  weeden\n",
      "ERROR: Failed to get info from weeden\n",
      "Getting info for:  nee\n",
      "nee Frank and Rosa Rhodes Professor\n",
      "Director of the Center for Economy and Society\n",
      " PhD 1977 Harvard University\n",
      "Curriculum Vitae \n",
      "\n",
      "Getting info for:  wethington\n",
      "wethington Professor of Human Development and Sociology\n",
      " PhD 1987 University of Michigan\n",
      " Curriculum Vitae \n",
      "\n",
      "Getting info for:  scaldwell\n",
      "scaldwell Associate Professor Retired\n",
      " PhD 1975 Cornell University \n",
      "\n",
      "Getting info for:  bischoff\n",
      "bischoff Assistant Professor\n",
      " PhD 2011 Stanford University\n",
      "Curriculum Vitae \n",
      "\n",
      "Getting info for:  eycornwell\n",
      "eycornwell Assistant Professor Sesquicentennial Faculty Fellow\n",
      " PhD 2008 University of Chicago\n",
      " Curriculum Vitae \n",
      "\n",
      "Getting info for:  berezin\n",
      "berezin Professor\n",
      " PhD 1987 Harvard University\n",
      "Curriculum Vitae \n",
      "\n",
      "Getting info for:  heckathorn\n",
      "heckathorn Professor\n",
      " PhD 1974 University of Kansas \n",
      "\n",
      "Getting info for:  strang\n",
      "strang Professor\n",
      " PhD 1988 Stanford University\n",
      " Curriculum Vitae \n",
      "\n"
     ]
    }
   ],
   "source": [
    "for prof in profile_contents:\n",
    "    print(\"Getting info for: \", prof)\n",
    "    try:\n",
    "        info = getFacultyInfo(profile_contents[prof])\n",
    "        te = getTitleAndEducation(info)\n",
    "        print(prof, te[0], te[1], '\\n')\n",
    "    except:\n",
    "        print(\"ERROR: Failed to get info from\", prof)"
   ]
  },
  {
   "cell_type": "markdown",
   "metadata": {},
   "source": [
    "## OK, so it looks like we got everybody's details except Kim Weeden's. Why? Can you fix the function to get hers too."
   ]
  },
  {
   "cell_type": "code",
   "execution_count": null,
   "metadata": {
    "collapsed": true
   },
   "outputs": [],
   "source": []
  },
  {
   "cell_type": "markdown",
   "metadata": {},
   "source": [
    "## We should probably get some more information. Complete this function to get the correct name for each faculty member"
   ]
  },
  {
   "cell_type": "code",
   "execution_count": 65,
   "metadata": {
    "collapsed": true
   },
   "outputs": [],
   "source": [
    "def getFacultyName(soup):\n",
    "    name_info = soup.findAll('h1', {'class':'entry-title'})\n",
    "    name = name_info[0].text\n",
    "    return name"
   ]
  },
  {
   "cell_type": "code",
   "execution_count": 66,
   "metadata": {
    "collapsed": false
   },
   "outputs": [
    {
     "name": "stdout",
     "output_type": "stream",
     "text": [
      "Benjamin Cornwell\n",
      "Vida Maralani\n",
      "Richard Swedberg\n",
      "Steven E. Alvarado\n",
      "Edward J. Lawler\n",
      "Michael Macy\n",
      "Daniel T. Lichter\n",
      "Diane Burton\n",
      "Filiz Garip\n",
      "Anna R. Haskins\n",
      "Trevor Pinch\n",
      "Kim Weeden\n",
      "Victor Nee\n",
      "Elaine Wethington\n",
      "Steven Caldwell\n",
      "Kendra Bischoff\n",
      "Erin York Cornwell\n",
      "Mabel Berezin\n",
      "Douglas Heckathorn\n",
      "David Strang\n"
     ]
    }
   ],
   "source": [
    "for prof in profile_contents:\n",
    "    name = getFacultyName(profile_contents[prof])\n",
    "    print(name)"
   ]
  },
  {
   "cell_type": "markdown",
   "metadata": {},
   "source": [
    "## Now we can put it all together to get a Python object containing info from each page"
   ]
  },
  {
   "cell_type": "code",
   "execution_count": 67,
   "metadata": {
    "collapsed": false
   },
   "outputs": [
    {
     "name": "stdout",
     "output_type": "stream",
     "text": [
      "Getting info for:  bcornwell\n",
      "Getting info for:  maralani\n",
      "Getting info for:  swedberg\n",
      "Getting info for:  alvarado\n",
      "Getting info for:  lawler\n",
      "Getting info for:  macy\n",
      "Getting info for:  lichter\n",
      "Getting info for:  burton\n",
      "Getting info for:  garip\n",
      "Getting info for:  haskins\n",
      "Getting info for:  pinch\n",
      "Getting info for:  weeden\n",
      "ERROR: Failed to get info from weeden\n",
      "Getting info for:  nee\n",
      "Getting info for:  wethington\n",
      "Getting info for:  scaldwell\n",
      "Getting info for:  bischoff\n",
      "Getting info for:  eycornwell\n",
      "Getting info for:  berezin\n",
      "Getting info for:  heckathorn\n",
      "Getting info for:  strang\n"
     ]
    }
   ],
   "source": [
    "faculty_info = {}\n",
    "for prof in profile_contents:\n",
    "    print(\"Getting info for: \", prof)\n",
    "    try:\n",
    "        name = getFacultyName(profile_contents[prof])\n",
    "        info = getFacultyInfo(profile_contents[prof])\n",
    "        te = getTitleAndEducation(info)\n",
    "        faculty_info[name] = {'title': te[0], 'education':te[1]}\n",
    "    except:\n",
    "        print(\"ERROR: Failed to get info from\", prof)\n",
    "    "
   ]
  },
  {
   "cell_type": "code",
   "execution_count": 68,
   "metadata": {
    "collapsed": false
   },
   "outputs": [
    {
     "data": {
      "text/plain": [
       "{'Anna R. Haskins': {'education': 'PhD 2013 University of WisconsinMadison\\n Curriculum Vitae',\n",
       "  'title': 'Assistant Professor\\n'},\n",
       " 'Benjamin Cornwell': {'education': 'PhD 2007 University of Chicago\\nCurriculum Vitae',\n",
       "  'title': 'Associate Professor Director of Graduate Studies\\n'},\n",
       " 'Daniel T. Lichter': {'education': 'PhD 1981 University of WisconsinMadison\\n Curriculum Vitae',\n",
       "  'title': 'Ferris Family Professor of Policy Analysis and Management Robert S Harrison Director of the Institute for Social Sciences\\n'},\n",
       " 'David Strang': {'education': 'PhD 1988 Stanford University\\n Curriculum Vitae',\n",
       "  'title': 'Professor\\n'},\n",
       " 'Diane Burton': {'education': 'PhD 1996 Stanford University\\n Curriculum Vitae',\n",
       "  'title': 'Associate Professor of Human Resource Studies and Sociology\\n'},\n",
       " 'Douglas Heckathorn': {'education': 'PhD 1974 University of Kansas',\n",
       "  'title': 'Professor\\n'},\n",
       " 'Edward J. Lawler': {'education': 'PhD 1972 University of Wisconsin\\nPersonal Site',\n",
       "  'title': 'Professor of Industrial and Labor Relations and Sociology\\n'},\n",
       " 'Elaine Wethington': {'education': 'PhD 1987 University of Michigan\\n Curriculum Vitae',\n",
       "  'title': 'Professor of Human Development and Sociology\\n'},\n",
       " 'Erin York Cornwell': {'education': 'PhD 2008 University of Chicago\\n Curriculum Vitae',\n",
       "  'title': 'Assistant Professor Sesquicentennial Faculty Fellow\\n'},\n",
       " 'Filiz Garip': {'education': 'PhD 2007 Princeton University',\n",
       "  'title': 'Professor\\n'},\n",
       " 'Kendra Bischoff': {'education': 'PhD 2011 Stanford University\\nCurriculum Vitae',\n",
       "  'title': 'Assistant Professor\\n'},\n",
       " 'Mabel Berezin': {'education': 'PhD 1987 Harvard University\\nCurriculum Vitae',\n",
       "  'title': 'Professor\\n'},\n",
       " 'Michael Macy': {'education': 'PhD 1985 Harvard University',\n",
       "  'title': 'Goldwin Smith Professor of Arts and Sciences Department of Information Science and Sociology Director of the Social Dynamics Laboratory\\n'},\n",
       " 'Richard Swedberg': {'education': 'PhD 1978 Boston College\\n Curriculum Vitae',\n",
       "  'title': 'Professor\\n'},\n",
       " 'Steven Caldwell': {'education': 'PhD 1975 Cornell University',\n",
       "  'title': 'Associate Professor Retired\\n'},\n",
       " 'Steven E. Alvarado': {'education': 'PhD 2011 University of WisconsinMadison\\nCurriculum Vitae',\n",
       "  'title': 'Assistant Professor\\n'},\n",
       " 'Trevor Pinch': {'education': 'PhD 1982 University of Bath\\n Curriculum Vitae',\n",
       "  'title': 'Goldwin Smith Professor of Science  Technology Studies and Sociology\\n'},\n",
       " 'Victor Nee': {'education': 'PhD 1977 Harvard University\\nCurriculum Vitae',\n",
       "  'title': 'Frank and Rosa Rhodes Professor\\nDirector of the Center for Economy and Society\\n'},\n",
       " 'Vida Maralani': {'education': 'PhD 2006 University of California – Los Angeles',\n",
       "  'title': 'Associate Professor\\n'}}"
      ]
     },
     "execution_count": 68,
     "metadata": {},
     "output_type": "execute_result"
    }
   ],
   "source": [
    "faculty_info"
   ]
  },
  {
   "cell_type": "markdown",
   "metadata": {},
   "source": [
    "## OK, this looks more ore less correct. Can you see any problems?"
   ]
  },
  {
   "cell_type": "code",
   "execution_count": null,
   "metadata": {
    "collapsed": true
   },
   "outputs": [],
   "source": []
  },
  {
   "cell_type": "code",
   "execution_count": 69,
   "metadata": {
    "collapsed": true
   },
   "outputs": [],
   "source": [
    "import pandas as pd\n",
    "df = pd.DataFrame.from_dict(faculty_info, orient='index')"
   ]
  },
  {
   "cell_type": "code",
   "execution_count": 70,
   "metadata": {
    "collapsed": false
   },
   "outputs": [
    {
     "data": {
      "text/html": [
       "<div>\n",
       "<table border=\"1\" class=\"dataframe\">\n",
       "  <thead>\n",
       "    <tr style=\"text-align: right;\">\n",
       "      <th></th>\n",
       "      <th>education</th>\n",
       "      <th>title</th>\n",
       "    </tr>\n",
       "  </thead>\n",
       "  <tbody>\n",
       "    <tr>\n",
       "      <th>Anna R. Haskins</th>\n",
       "      <td>PhD 2013 University of WisconsinMadison\\n Curr...</td>\n",
       "      <td>Assistant Professor\\n</td>\n",
       "    </tr>\n",
       "    <tr>\n",
       "      <th>Benjamin Cornwell</th>\n",
       "      <td>PhD 2007 University of Chicago\\nCurriculum Vitae</td>\n",
       "      <td>Associate Professor Director of Graduate Studi...</td>\n",
       "    </tr>\n",
       "    <tr>\n",
       "      <th>Daniel T. Lichter</th>\n",
       "      <td>PhD 1981 University of WisconsinMadison\\n Curr...</td>\n",
       "      <td>Ferris Family Professor of Policy Analysis and...</td>\n",
       "    </tr>\n",
       "    <tr>\n",
       "      <th>David Strang</th>\n",
       "      <td>PhD 1988 Stanford University\\n Curriculum Vitae</td>\n",
       "      <td>Professor\\n</td>\n",
       "    </tr>\n",
       "    <tr>\n",
       "      <th>Diane Burton</th>\n",
       "      <td>PhD 1996 Stanford University\\n Curriculum Vitae</td>\n",
       "      <td>Associate Professor of Human Resource Studies ...</td>\n",
       "    </tr>\n",
       "    <tr>\n",
       "      <th>Douglas Heckathorn</th>\n",
       "      <td>PhD 1974 University of Kansas</td>\n",
       "      <td>Professor\\n</td>\n",
       "    </tr>\n",
       "    <tr>\n",
       "      <th>Edward J. Lawler</th>\n",
       "      <td>PhD 1972 University of Wisconsin\\nPersonal Site</td>\n",
       "      <td>Professor of Industrial and Labor Relations an...</td>\n",
       "    </tr>\n",
       "    <tr>\n",
       "      <th>Elaine Wethington</th>\n",
       "      <td>PhD 1987 University of Michigan\\n Curriculum V...</td>\n",
       "      <td>Professor of Human Development and Sociology\\n</td>\n",
       "    </tr>\n",
       "    <tr>\n",
       "      <th>Erin York Cornwell</th>\n",
       "      <td>PhD 2008 University of Chicago\\n Curriculum Vitae</td>\n",
       "      <td>Assistant Professor Sesquicentennial Faculty F...</td>\n",
       "    </tr>\n",
       "    <tr>\n",
       "      <th>Filiz Garip</th>\n",
       "      <td>PhD 2007 Princeton University</td>\n",
       "      <td>Professor\\n</td>\n",
       "    </tr>\n",
       "    <tr>\n",
       "      <th>Kendra Bischoff</th>\n",
       "      <td>PhD 2011 Stanford University\\nCurriculum Vitae</td>\n",
       "      <td>Assistant Professor\\n</td>\n",
       "    </tr>\n",
       "    <tr>\n",
       "      <th>Mabel Berezin</th>\n",
       "      <td>PhD 1987 Harvard University\\nCurriculum Vitae</td>\n",
       "      <td>Professor\\n</td>\n",
       "    </tr>\n",
       "    <tr>\n",
       "      <th>Michael Macy</th>\n",
       "      <td>PhD 1985 Harvard University</td>\n",
       "      <td>Goldwin Smith Professor of Arts and Sciences D...</td>\n",
       "    </tr>\n",
       "    <tr>\n",
       "      <th>Richard Swedberg</th>\n",
       "      <td>PhD 1978 Boston College\\n Curriculum Vitae</td>\n",
       "      <td>Professor\\n</td>\n",
       "    </tr>\n",
       "    <tr>\n",
       "      <th>Steven Caldwell</th>\n",
       "      <td>PhD 1975 Cornell University</td>\n",
       "      <td>Associate Professor Retired\\n</td>\n",
       "    </tr>\n",
       "    <tr>\n",
       "      <th>Steven E. Alvarado</th>\n",
       "      <td>PhD 2011 University of WisconsinMadison\\nCurri...</td>\n",
       "      <td>Assistant Professor\\n</td>\n",
       "    </tr>\n",
       "    <tr>\n",
       "      <th>Trevor Pinch</th>\n",
       "      <td>PhD 1982 University of Bath\\n Curriculum Vitae</td>\n",
       "      <td>Goldwin Smith Professor of Science  Technology...</td>\n",
       "    </tr>\n",
       "    <tr>\n",
       "      <th>Victor Nee</th>\n",
       "      <td>PhD 1977 Harvard University\\nCurriculum Vitae</td>\n",
       "      <td>Frank and Rosa Rhodes Professor\\nDirector of t...</td>\n",
       "    </tr>\n",
       "    <tr>\n",
       "      <th>Vida Maralani</th>\n",
       "      <td>PhD 2006 University of California – Los Angeles</td>\n",
       "      <td>Associate Professor\\n</td>\n",
       "    </tr>\n",
       "  </tbody>\n",
       "</table>\n",
       "</div>"
      ],
      "text/plain": [
       "                                                            education  \\\n",
       "Anna R. Haskins     PhD 2013 University of WisconsinMadison\\n Curr...   \n",
       "Benjamin Cornwell    PhD 2007 University of Chicago\\nCurriculum Vitae   \n",
       "Daniel T. Lichter   PhD 1981 University of WisconsinMadison\\n Curr...   \n",
       "David Strang          PhD 1988 Stanford University\\n Curriculum Vitae   \n",
       "Diane Burton          PhD 1996 Stanford University\\n Curriculum Vitae   \n",
       "Douglas Heckathorn                      PhD 1974 University of Kansas   \n",
       "Edward J. Lawler      PhD 1972 University of Wisconsin\\nPersonal Site   \n",
       "Elaine Wethington   PhD 1987 University of Michigan\\n Curriculum V...   \n",
       "Erin York Cornwell  PhD 2008 University of Chicago\\n Curriculum Vitae   \n",
       "Filiz Garip                             PhD 2007 Princeton University   \n",
       "Kendra Bischoff        PhD 2011 Stanford University\\nCurriculum Vitae   \n",
       "Mabel Berezin           PhD 1987 Harvard University\\nCurriculum Vitae   \n",
       "Michael Macy                              PhD 1985 Harvard University   \n",
       "Richard Swedberg           PhD 1978 Boston College\\n Curriculum Vitae   \n",
       "Steven Caldwell                           PhD 1975 Cornell University   \n",
       "Steven E. Alvarado  PhD 2011 University of WisconsinMadison\\nCurri...   \n",
       "Trevor Pinch           PhD 1982 University of Bath\\n Curriculum Vitae   \n",
       "Victor Nee              PhD 1977 Harvard University\\nCurriculum Vitae   \n",
       "Vida Maralani         PhD 2006 University of California – Los Angeles   \n",
       "\n",
       "                                                                title  \n",
       "Anna R. Haskins                                 Assistant Professor\\n  \n",
       "Benjamin Cornwell   Associate Professor Director of Graduate Studi...  \n",
       "Daniel T. Lichter   Ferris Family Professor of Policy Analysis and...  \n",
       "David Strang                                              Professor\\n  \n",
       "Diane Burton        Associate Professor of Human Resource Studies ...  \n",
       "Douglas Heckathorn                                        Professor\\n  \n",
       "Edward J. Lawler    Professor of Industrial and Labor Relations an...  \n",
       "Elaine Wethington      Professor of Human Development and Sociology\\n  \n",
       "Erin York Cornwell  Assistant Professor Sesquicentennial Faculty F...  \n",
       "Filiz Garip                                               Professor\\n  \n",
       "Kendra Bischoff                                 Assistant Professor\\n  \n",
       "Mabel Berezin                                             Professor\\n  \n",
       "Michael Macy        Goldwin Smith Professor of Arts and Sciences D...  \n",
       "Richard Swedberg                                          Professor\\n  \n",
       "Steven Caldwell                         Associate Professor Retired\\n  \n",
       "Steven E. Alvarado                              Assistant Professor\\n  \n",
       "Trevor Pinch        Goldwin Smith Professor of Science  Technology...  \n",
       "Victor Nee          Frank and Rosa Rhodes Professor\\nDirector of t...  \n",
       "Vida Maralani                                   Associate Professor\\n  "
      ]
     },
     "execution_count": 70,
     "metadata": {},
     "output_type": "execute_result"
    }
   ],
   "source": [
    "df"
   ]
  },
  {
   "cell_type": "code",
   "execution_count": null,
   "metadata": {
    "collapsed": false
   },
   "outputs": [],
   "source": []
  },
  {
   "cell_type": "code",
   "execution_count": null,
   "metadata": {
    "collapsed": false
   },
   "outputs": [],
   "source": []
  },
  {
   "cell_type": "code",
   "execution_count": null,
   "metadata": {
    "collapsed": true
   },
   "outputs": [],
   "source": []
  }
 ],
 "metadata": {
  "kernelspec": {
   "display_name": "IPython (Python 3)",
   "language": "python",
   "name": "python3"
  },
  "language_info": {
   "codemirror_mode": {
    "name": "ipython",
    "version": 3
   },
   "file_extension": ".py",
   "mimetype": "text/x-python",
   "name": "python",
   "nbconvert_exporter": "python",
   "pygments_lexer": "ipython3",
   "version": "3.5.2"
  }
 },
 "nbformat": 4,
 "nbformat_minor": 1
}
